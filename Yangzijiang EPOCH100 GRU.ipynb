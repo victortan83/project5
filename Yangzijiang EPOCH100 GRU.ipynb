{
 "cells": [
  {
   "cell_type": "code",
   "execution_count": 1,
   "metadata": {},
   "outputs": [
    {
     "data": {
      "text/html": [
       "<div>\n",
       "<style scoped>\n",
       "    .dataframe tbody tr th:only-of-type {\n",
       "        vertical-align: middle;\n",
       "    }\n",
       "\n",
       "    .dataframe tbody tr th {\n",
       "        vertical-align: top;\n",
       "    }\n",
       "\n",
       "    .dataframe thead th {\n",
       "        text-align: right;\n",
       "    }\n",
       "</style>\n",
       "<table border=\"1\" class=\"dataframe\">\n",
       "  <thead>\n",
       "    <tr style=\"text-align: right;\">\n",
       "      <th></th>\n",
       "      <th>Date</th>\n",
       "      <th>Open</th>\n",
       "      <th>High</th>\n",
       "      <th>Low</th>\n",
       "      <th>Close</th>\n",
       "      <th>Adj Close</th>\n",
       "      <th>Volume</th>\n",
       "    </tr>\n",
       "  </thead>\n",
       "  <tbody>\n",
       "    <tr>\n",
       "      <td>3174</td>\n",
       "      <td>12/16/2019</td>\n",
       "      <td>1.13</td>\n",
       "      <td>1.13</td>\n",
       "      <td>1.09</td>\n",
       "      <td>1.10</td>\n",
       "      <td>1.10</td>\n",
       "      <td>27908700</td>\n",
       "    </tr>\n",
       "    <tr>\n",
       "      <td>3175</td>\n",
       "      <td>12/17/2019</td>\n",
       "      <td>1.10</td>\n",
       "      <td>1.11</td>\n",
       "      <td>1.07</td>\n",
       "      <td>1.07</td>\n",
       "      <td>1.07</td>\n",
       "      <td>32804600</td>\n",
       "    </tr>\n",
       "    <tr>\n",
       "      <td>3176</td>\n",
       "      <td>12/18/2019</td>\n",
       "      <td>1.08</td>\n",
       "      <td>1.11</td>\n",
       "      <td>1.08</td>\n",
       "      <td>1.09</td>\n",
       "      <td>1.09</td>\n",
       "      <td>38128700</td>\n",
       "    </tr>\n",
       "    <tr>\n",
       "      <td>3177</td>\n",
       "      <td>12/19/2019</td>\n",
       "      <td>1.09</td>\n",
       "      <td>1.09</td>\n",
       "      <td>1.07</td>\n",
       "      <td>1.08</td>\n",
       "      <td>1.08</td>\n",
       "      <td>20343100</td>\n",
       "    </tr>\n",
       "    <tr>\n",
       "      <td>3178</td>\n",
       "      <td>12/20/2019</td>\n",
       "      <td>1.08</td>\n",
       "      <td>1.09</td>\n",
       "      <td>1.07</td>\n",
       "      <td>1.07</td>\n",
       "      <td>1.07</td>\n",
       "      <td>33596100</td>\n",
       "    </tr>\n",
       "  </tbody>\n",
       "</table>\n",
       "</div>"
      ],
      "text/plain": [
       "            Date  Open  High   Low  Close  Adj Close    Volume\n",
       "3174  12/16/2019  1.13  1.13  1.09   1.10       1.10  27908700\n",
       "3175  12/17/2019  1.10  1.11  1.07   1.07       1.07  32804600\n",
       "3176  12/18/2019  1.08  1.11  1.08   1.09       1.09  38128700\n",
       "3177  12/19/2019  1.09  1.09  1.07   1.08       1.08  20343100\n",
       "3178  12/20/2019  1.08  1.09  1.07   1.07       1.07  33596100"
      ]
     },
     "execution_count": 1,
     "metadata": {},
     "output_type": "execute_result"
    }
   ],
   "source": [
    "import pandas as pd \n",
    "\n",
    "\n",
    "df_Yzj = pd.read_csv('BS6.SI.CSV')\n",
    "df_Yzj.tail()"
   ]
  },
  {
   "cell_type": "code",
   "execution_count": 2,
   "metadata": {},
   "outputs": [
    {
     "data": {
      "text/html": [
       "<div>\n",
       "<style scoped>\n",
       "    .dataframe tbody tr th:only-of-type {\n",
       "        vertical-align: middle;\n",
       "    }\n",
       "\n",
       "    .dataframe tbody tr th {\n",
       "        vertical-align: top;\n",
       "    }\n",
       "\n",
       "    .dataframe thead th {\n",
       "        text-align: right;\n",
       "    }\n",
       "</style>\n",
       "<table border=\"1\" class=\"dataframe\">\n",
       "  <thead>\n",
       "    <tr style=\"text-align: right;\">\n",
       "      <th></th>\n",
       "      <th>Date</th>\n",
       "      <th>Open</th>\n",
       "      <th>High</th>\n",
       "      <th>Low</th>\n",
       "      <th>Close</th>\n",
       "      <th>Adj Close</th>\n",
       "      <th>Volume</th>\n",
       "    </tr>\n",
       "  </thead>\n",
       "  <tbody>\n",
       "    <tr>\n",
       "      <td>0</td>\n",
       "      <td>4/18/2007</td>\n",
       "      <td>1.35</td>\n",
       "      <td>1.39</td>\n",
       "      <td>1.33</td>\n",
       "      <td>1.34</td>\n",
       "      <td>0.842029</td>\n",
       "      <td>413736000</td>\n",
       "    </tr>\n",
       "    <tr>\n",
       "      <td>1</td>\n",
       "      <td>4/19/2007</td>\n",
       "      <td>1.35</td>\n",
       "      <td>1.35</td>\n",
       "      <td>1.26</td>\n",
       "      <td>1.27</td>\n",
       "      <td>0.798042</td>\n",
       "      <td>95804</td>\n",
       "    </tr>\n",
       "    <tr>\n",
       "      <td>2</td>\n",
       "      <td>4/20/2007</td>\n",
       "      <td>1.28</td>\n",
       "      <td>1.31</td>\n",
       "      <td>1.28</td>\n",
       "      <td>1.30</td>\n",
       "      <td>0.816894</td>\n",
       "      <td>70064</td>\n",
       "    </tr>\n",
       "    <tr>\n",
       "      <td>3</td>\n",
       "      <td>4/23/2007</td>\n",
       "      <td>1.31</td>\n",
       "      <td>1.31</td>\n",
       "      <td>1.26</td>\n",
       "      <td>1.27</td>\n",
       "      <td>0.798042</td>\n",
       "      <td>36099</td>\n",
       "    </tr>\n",
       "    <tr>\n",
       "      <td>4</td>\n",
       "      <td>4/24/2007</td>\n",
       "      <td>1.26</td>\n",
       "      <td>1.27</td>\n",
       "      <td>1.26</td>\n",
       "      <td>1.27</td>\n",
       "      <td>0.798042</td>\n",
       "      <td>14422</td>\n",
       "    </tr>\n",
       "    <tr>\n",
       "      <td>...</td>\n",
       "      <td>...</td>\n",
       "      <td>...</td>\n",
       "      <td>...</td>\n",
       "      <td>...</td>\n",
       "      <td>...</td>\n",
       "      <td>...</td>\n",
       "      <td>...</td>\n",
       "    </tr>\n",
       "    <tr>\n",
       "      <td>3174</td>\n",
       "      <td>12/16/2019</td>\n",
       "      <td>1.13</td>\n",
       "      <td>1.13</td>\n",
       "      <td>1.09</td>\n",
       "      <td>1.10</td>\n",
       "      <td>1.100000</td>\n",
       "      <td>27908700</td>\n",
       "    </tr>\n",
       "    <tr>\n",
       "      <td>3175</td>\n",
       "      <td>12/17/2019</td>\n",
       "      <td>1.10</td>\n",
       "      <td>1.11</td>\n",
       "      <td>1.07</td>\n",
       "      <td>1.07</td>\n",
       "      <td>1.070000</td>\n",
       "      <td>32804600</td>\n",
       "    </tr>\n",
       "    <tr>\n",
       "      <td>3176</td>\n",
       "      <td>12/18/2019</td>\n",
       "      <td>1.08</td>\n",
       "      <td>1.11</td>\n",
       "      <td>1.08</td>\n",
       "      <td>1.09</td>\n",
       "      <td>1.090000</td>\n",
       "      <td>38128700</td>\n",
       "    </tr>\n",
       "    <tr>\n",
       "      <td>3177</td>\n",
       "      <td>12/19/2019</td>\n",
       "      <td>1.09</td>\n",
       "      <td>1.09</td>\n",
       "      <td>1.07</td>\n",
       "      <td>1.08</td>\n",
       "      <td>1.080000</td>\n",
       "      <td>20343100</td>\n",
       "    </tr>\n",
       "    <tr>\n",
       "      <td>3178</td>\n",
       "      <td>12/20/2019</td>\n",
       "      <td>1.08</td>\n",
       "      <td>1.09</td>\n",
       "      <td>1.07</td>\n",
       "      <td>1.07</td>\n",
       "      <td>1.070000</td>\n",
       "      <td>33596100</td>\n",
       "    </tr>\n",
       "  </tbody>\n",
       "</table>\n",
       "<p>3179 rows × 7 columns</p>\n",
       "</div>"
      ],
      "text/plain": [
       "            Date  Open  High   Low  Close  Adj Close     Volume\n",
       "0      4/18/2007  1.35  1.39  1.33   1.34   0.842029  413736000\n",
       "1      4/19/2007  1.35  1.35  1.26   1.27   0.798042      95804\n",
       "2      4/20/2007  1.28  1.31  1.28   1.30   0.816894      70064\n",
       "3      4/23/2007  1.31  1.31  1.26   1.27   0.798042      36099\n",
       "4      4/24/2007  1.26  1.27  1.26   1.27   0.798042      14422\n",
       "...          ...   ...   ...   ...    ...        ...        ...\n",
       "3174  12/16/2019  1.13  1.13  1.09   1.10   1.100000   27908700\n",
       "3175  12/17/2019  1.10  1.11  1.07   1.07   1.070000   32804600\n",
       "3176  12/18/2019  1.08  1.11  1.08   1.09   1.090000   38128700\n",
       "3177  12/19/2019  1.09  1.09  1.07   1.08   1.080000   20343100\n",
       "3178  12/20/2019  1.08  1.09  1.07   1.07   1.070000   33596100\n",
       "\n",
       "[3179 rows x 7 columns]"
      ]
     },
     "execution_count": 2,
     "metadata": {},
     "output_type": "execute_result"
    }
   ],
   "source": [
    "df_Yzj"
   ]
  },
  {
   "cell_type": "code",
   "execution_count": 3,
   "metadata": {
    "scrolled": true
   },
   "outputs": [
    {
     "data": {
      "text/plain": [
       "<Figure size 640x480 with 1 Axes>"
      ]
     },
     "metadata": {},
     "output_type": "display_data"
    }
   ],
   "source": [
    "from matplotlib import pyplot as plt\n",
    "plt.figure()\n",
    "plt.plot(df_Yzj[\"Open\"])\n",
    "plt.plot(df_Yzj[\"High\"])\n",
    "plt.plot(df_Yzj[\"Low\"])\n",
    "plt.plot(df_Yzj[\"Close\"])\n",
    "plt.title('Yangzijiang Stock price history')\n",
    "plt.ylabel('Price (SGD)')\n",
    "plt.xlabel('Days')\n",
    "plt.legend(['Open','High','Low','Close'], loc='upper left')\n",
    "plt.show()"
   ]
  },
  {
   "cell_type": "code",
   "execution_count": 4,
   "metadata": {},
   "outputs": [
    {
     "data": {
      "image/png": "[encoded data removed]",
      "text/plain": [
       "<Figure size 432x288 with 1 Axes>"
      ]
     },
     "metadata": {
      "needs_background": "light"
     },
     "output_type": "display_data"
    }
   ],
   "source": [
    "plt.figure()\n",
    "plt.plot(df_Yzj[\"Volume\"])\n",
    "plt.title('Yangzijiang stock volume history')\n",
    "plt.ylabel('Volume')\n",
    "plt.xlabel('Days')\n",
    "plt.show()"
   ]
  },
  {
   "cell_type": "code",
   "execution_count": 5,
   "metadata": {},
   "outputs": [
    {
     "name": "stdout",
     "output_type": "stream",
     "text": [
      "checking if any null values are present\n",
      " Date         0\n",
      "Open         0\n",
      "High         0\n",
      "Low          0\n",
      "Close        0\n",
      "Adj Close    0\n",
      "Volume       0\n",
      "dtype: int64\n"
     ]
    }
   ],
   "source": [
    "print(\"checking if any null values are present\\n\", df_Yzj.isna().sum())"
   ]
  },
  {
   "cell_type": "code",
   "execution_count": 6,
   "metadata": {},
   "outputs": [],
   "source": [
    "df_Yzj = df_Yzj.dropna() "
   ]
  },
  {
   "cell_type": "code",
   "execution_count": 7,
   "metadata": {},
   "outputs": [
    {
     "name": "stdout",
     "output_type": "stream",
     "text": [
      "checking if any null values are present\n",
      " Date         0\n",
      "Open         0\n",
      "High         0\n",
      "Low          0\n",
      "Close        0\n",
      "Adj Close    0\n",
      "Volume       0\n",
      "dtype: int64\n"
     ]
    }
   ],
   "source": [
    "print(\"checking if any null values are present\\n\", df_Yzj.isna().sum())"
   ]
  },
  {
   "cell_type": "code",
   "execution_count": 8,
   "metadata": {},
   "outputs": [
    {
     "data": {
      "text/html": [
       "<div>\n",
       "<style scoped>\n",
       "    .dataframe tbody tr th:only-of-type {\n",
       "        vertical-align: middle;\n",
       "    }\n",
       "\n",
       "    .dataframe tbody tr th {\n",
       "        vertical-align: top;\n",
       "    }\n",
       "\n",
       "    .dataframe thead th {\n",
       "        text-align: right;\n",
       "    }\n",
       "</style>\n",
       "<table border=\"1\" class=\"dataframe\">\n",
       "  <thead>\n",
       "    <tr style=\"text-align: right;\">\n",
       "      <th></th>\n",
       "      <th>Date</th>\n",
       "      <th>Open</th>\n",
       "      <th>High</th>\n",
       "      <th>Low</th>\n",
       "      <th>Close</th>\n",
       "      <th>Adj Close</th>\n",
       "      <th>Volume</th>\n",
       "    </tr>\n",
       "  </thead>\n",
       "  <tbody>\n",
       "    <tr>\n",
       "      <td>0</td>\n",
       "      <td>4/18/2007</td>\n",
       "      <td>1.35</td>\n",
       "      <td>1.39</td>\n",
       "      <td>1.33</td>\n",
       "      <td>1.34</td>\n",
       "      <td>0.842029</td>\n",
       "      <td>413736000</td>\n",
       "    </tr>\n",
       "    <tr>\n",
       "      <td>1</td>\n",
       "      <td>4/19/2007</td>\n",
       "      <td>1.35</td>\n",
       "      <td>1.35</td>\n",
       "      <td>1.26</td>\n",
       "      <td>1.27</td>\n",
       "      <td>0.798042</td>\n",
       "      <td>95804</td>\n",
       "    </tr>\n",
       "    <tr>\n",
       "      <td>2</td>\n",
       "      <td>4/20/2007</td>\n",
       "      <td>1.28</td>\n",
       "      <td>1.31</td>\n",
       "      <td>1.28</td>\n",
       "      <td>1.30</td>\n",
       "      <td>0.816894</td>\n",
       "      <td>70064</td>\n",
       "    </tr>\n",
       "    <tr>\n",
       "      <td>3</td>\n",
       "      <td>4/23/2007</td>\n",
       "      <td>1.31</td>\n",
       "      <td>1.31</td>\n",
       "      <td>1.26</td>\n",
       "      <td>1.27</td>\n",
       "      <td>0.798042</td>\n",
       "      <td>36099</td>\n",
       "    </tr>\n",
       "    <tr>\n",
       "      <td>4</td>\n",
       "      <td>4/24/2007</td>\n",
       "      <td>1.26</td>\n",
       "      <td>1.27</td>\n",
       "      <td>1.26</td>\n",
       "      <td>1.27</td>\n",
       "      <td>0.798042</td>\n",
       "      <td>14422</td>\n",
       "    </tr>\n",
       "    <tr>\n",
       "      <td>...</td>\n",
       "      <td>...</td>\n",
       "      <td>...</td>\n",
       "      <td>...</td>\n",
       "      <td>...</td>\n",
       "      <td>...</td>\n",
       "      <td>...</td>\n",
       "      <td>...</td>\n",
       "    </tr>\n",
       "    <tr>\n",
       "      <td>3174</td>\n",
       "      <td>12/16/2019</td>\n",
       "      <td>1.13</td>\n",
       "      <td>1.13</td>\n",
       "      <td>1.09</td>\n",
       "      <td>1.10</td>\n",
       "      <td>1.100000</td>\n",
       "      <td>27908700</td>\n",
       "    </tr>\n",
       "    <tr>\n",
       "      <td>3175</td>\n",
       "      <td>12/17/2019</td>\n",
       "      <td>1.10</td>\n",
       "      <td>1.11</td>\n",
       "      <td>1.07</td>\n",
       "      <td>1.07</td>\n",
       "      <td>1.070000</td>\n",
       "      <td>32804600</td>\n",
       "    </tr>\n",
       "    <tr>\n",
       "      <td>3176</td>\n",
       "      <td>12/18/2019</td>\n",
       "      <td>1.08</td>\n",
       "      <td>1.11</td>\n",
       "      <td>1.08</td>\n",
       "      <td>1.09</td>\n",
       "      <td>1.090000</td>\n",
       "      <td>38128700</td>\n",
       "    </tr>\n",
       "    <tr>\n",
       "      <td>3177</td>\n",
       "      <td>12/19/2019</td>\n",
       "      <td>1.09</td>\n",
       "      <td>1.09</td>\n",
       "      <td>1.07</td>\n",
       "      <td>1.08</td>\n",
       "      <td>1.080000</td>\n",
       "      <td>20343100</td>\n",
       "    </tr>\n",
       "    <tr>\n",
       "      <td>3178</td>\n",
       "      <td>12/20/2019</td>\n",
       "      <td>1.08</td>\n",
       "      <td>1.09</td>\n",
       "      <td>1.07</td>\n",
       "      <td>1.07</td>\n",
       "      <td>1.070000</td>\n",
       "      <td>33596100</td>\n",
       "    </tr>\n",
       "  </tbody>\n",
       "</table>\n",
       "<p>3179 rows × 7 columns</p>\n",
       "</div>"
      ],
      "text/plain": [
       "            Date  Open  High   Low  Close  Adj Close     Volume\n",
       "0      4/18/2007  1.35  1.39  1.33   1.34   0.842029  413736000\n",
       "1      4/19/2007  1.35  1.35  1.26   1.27   0.798042      95804\n",
       "2      4/20/2007  1.28  1.31  1.28   1.30   0.816894      70064\n",
       "3      4/23/2007  1.31  1.31  1.26   1.27   0.798042      36099\n",
       "4      4/24/2007  1.26  1.27  1.26   1.27   0.798042      14422\n",
       "...          ...   ...   ...   ...    ...        ...        ...\n",
       "3174  12/16/2019  1.13  1.13  1.09   1.10   1.100000   27908700\n",
       "3175  12/17/2019  1.10  1.11  1.07   1.07   1.070000   32804600\n",
       "3176  12/18/2019  1.08  1.11  1.08   1.09   1.090000   38128700\n",
       "3177  12/19/2019  1.09  1.09  1.07   1.08   1.080000   20343100\n",
       "3178  12/20/2019  1.08  1.09  1.07   1.07   1.070000   33596100\n",
       "\n",
       "[3179 rows x 7 columns]"
      ]
     },
     "execution_count": 8,
     "metadata": {},
     "output_type": "execute_result"
    }
   ],
   "source": [
    "df_Yzj"
   ]
  },
  {
   "cell_type": "code",
   "execution_count": 9,
   "metadata": {},
   "outputs": [
    {
     "name": "stdout",
     "output_type": "stream",
     "text": [
      "Train and Test size 2543 636\n"
     ]
    }
   ],
   "source": [
    "from sklearn.preprocessing import MinMaxScaler\n",
    "from sklearn.model_selection import train_test_split\n",
    "\n",
    "train_cols = [\"Open\",\"High\",\"Low\",\"Close\",\"Volume\"]\n",
    "df_train, df_test = train_test_split(df_Yzj, train_size=0.8, test_size=0.2, shuffle=False)\n",
    "print(\"Train and Test size\", len(df_train), len(df_test))\n",
    "# scale the feature MinMax, build array\n",
    "x = df_train.loc[:,train_cols].values\n",
    "min_max_scaler = MinMaxScaler()\n",
    "x_train = min_max_scaler.fit_transform(x)\n",
    "x_test = min_max_scaler.transform(df_test.loc[:,train_cols])"
   ]
  },
  {
   "cell_type": "code",
   "execution_count": 10,
   "metadata": {},
   "outputs": [],
   "source": [
    "def build_timeseries(mat, y_col_index):\n",
    "    # y_col_index is the index of column that would act as output column\n",
    "    # total number of time-series samples would be len(mat) - TIME_STEPS\n",
    "    dim_0 = mat.shape[0] - TIME_STEPS\n",
    "    dim_1 = mat.shape[1]\n",
    "    x = np.zeros((dim_0, TIME_STEPS, dim_1))\n",
    "    y = np.zeros((dim_0,))\n",
    "    \n",
    "    for i in tqdm_notebook(range(dim_0)):\n",
    "        x[i] = mat[i:TIME_STEPS+i]\n",
    "        y[i] = mat[TIME_STEPS+i, y_col_index]\n",
    "    print(\"length of time-series i/o\",x.shape,y.shape)\n",
    "    return x, y"
   ]
  },
  {
   "cell_type": "code",
   "execution_count": 11,
   "metadata": {},
   "outputs": [],
   "source": [
    "def trim_dataset(mat, batch_size):\n",
    "    \"\"\"\n",
    "    trims dataset to a size that's divisible by BATCH_SIZE\n",
    "    \"\"\"\n",
    "    no_of_rows_drop = mat.shape[0]%batch_size\n",
    "    if(no_of_rows_drop > 0):\n",
    "        return mat[:-no_of_rows_drop]\n",
    "    else:\n",
    "        return mat"
   ]
  },
  {
   "cell_type": "code",
   "execution_count": 12,
   "metadata": {},
   "outputs": [],
   "source": [
    "import time\n",
    "import numpy as np\n",
    "from tqdm._tqdm_notebook import tqdm_notebook\n",
    "params = {\n",
    "    \"batch_size\": 20,  # 20<16<10, 25 was a bust\n",
    "    ##\"epochs\": 300,\n",
    "    \"epochs\":100,\n",
    "    \"lr\": 0.00010000,\n",
    "    \"time_steps\": 60\n",
    "}\n",
    "\n",
    "TIME_STEPS = params[\"time_steps\"]\n",
    "BATCH_SIZE = params[\"batch_size\"]\n",
    "stime = time.time()\n"
   ]
  },
  {
   "cell_type": "code",
   "execution_count": 13,
   "metadata": {},
   "outputs": [
    {
     "data": {
      "application/vnd.jupyter.widget-view+json": {
       "model_id": "96d9cc9e49c141d490735ba53be55b77",
       "version_major": 2,
       "version_minor": 0
      },
      "text/plain": [
       "HBox(children=(IntProgress(value=0, max=2483), HTML(value='')))"
      ]
     },
     "metadata": {},
     "output_type": "display_data"
    },
    {
     "name": "stdout",
     "output_type": "stream",
     "text": [
      "\n",
      "length of time-series i/o (2483, 60, 5) (2483,)\n"
     ]
    },
    {
     "data": {
      "application/vnd.jupyter.widget-view+json": {
       "model_id": "bbbb31f14cc949608a45c99e7d4487c2",
       "version_major": 2,
       "version_minor": 0
      },
      "text/plain": [
       "HBox(children=(IntProgress(value=0, max=576), HTML(value='')))"
      ]
     },
     "metadata": {},
     "output_type": "display_data"
    },
    {
     "name": "stdout",
     "output_type": "stream",
     "text": [
      "\n",
      "length of time-series i/o (576, 60, 5) (576,)\n"
     ]
    }
   ],
   "source": [
    "x_t, y_t = build_timeseries(x_train, 3)\n",
    "x_t = trim_dataset(x_t, BATCH_SIZE)\n",
    "y_t = trim_dataset(y_t, BATCH_SIZE)\n",
    "x_temp, y_temp = build_timeseries(x_test, 3)\n",
    "x_val, x_test_t = np.split(trim_dataset(x_temp, BATCH_SIZE),2)\n",
    "y_val, y_test_t = np.split(trim_dataset(y_temp, BATCH_SIZE),2)"
   ]
  },
  {
   "cell_type": "markdown",
   "metadata": {},
   "source": [
    "### Create Model"
   ]
  },
  {
   "cell_type": "code",
   "execution_count": 14,
   "metadata": {},
   "outputs": [
    {
     "name": "stderr",
     "output_type": "stream",
     "text": [
      "Using TensorFlow backend.\n"
     ]
    }
   ],
   "source": [
    "from keras.models import Sequential, load_model\n",
    "from keras.layers import Dense, Dropout\n",
    "from keras.layers import GRU\n",
    "from keras.callbacks import ModelCheckpoint, EarlyStopping, ReduceLROnPlateau, CSVLogger\n",
    "from keras import optimizers\n",
    "\n",
    "\n",
    "def create_model():\n",
    "    gru_model = Sequential()\n",
    "    gru_model.add(GRU(100, batch_input_shape=(BATCH_SIZE, TIME_STEPS, x_t.shape[2]), dropout=0.0, recurrent_dropout=0.0, stateful=True, kernel_initializer='random_uniform'))\n",
    "    gru_model.add(Dropout(0.5))\n",
    "    gru_model.add(Dense(20,activation='relu'))\n",
    "    gru_model.add(Dense(1,activation='sigmoid'))\n",
    "    optimizer = optimizers.RMSprop(lr=params[\"lr\"])\n",
    "    gru_model.compile(loss='mean_squared_error', optimizer=optimizer)\n",
    "    gru_model.summary()\n",
    "    return gru_model"
   ]
  },
  {
   "cell_type": "code",
   "execution_count": 15,
   "metadata": {},
   "outputs": [
    {
     "data": {
      "text/plain": [
       "'C:\\\\Users\\\\Victor\\\\Desktop\\\\project5\\\\Stock-Price-Prediction\\\\outputyzjGRU'"
      ]
     },
     "execution_count": 15,
     "metadata": {},
     "output_type": "execute_result"
    }
   ],
   "source": [
    "import os\n",
    "#OUTPUT_PATH ='/home/victor/Stock-Price-Prediction/outputs/'\n",
    "OUTPUT_PATH ='C:\\\\Users\\\\Victor\\\\Desktop\\\\project5\\\\Stock-Price-Prediction\\\\outputyzjGRU'\n",
    "OUTPUT_PATH"
   ]
  },
  {
   "cell_type": "code",
   "execution_count": 16,
   "metadata": {},
   "outputs": [
    {
     "data": {
      "text/plain": [
       "'C:\\\\Users\\\\Victor\\\\Desktop\\\\project5\\\\Stock-Price-Prediction'"
      ]
     },
     "execution_count": 16,
     "metadata": {},
     "output_type": "execute_result"
    }
   ],
   "source": [
    "pwd"
   ]
  },
  {
   "cell_type": "code",
   "execution_count": 17,
   "metadata": {},
   "outputs": [],
   "source": [
    "import pickle"
   ]
  },
  {
   "cell_type": "code",
   "execution_count": 18,
   "metadata": {
    "scrolled": true
   },
   "outputs": [
    {
     "name": "stdout",
     "output_type": "stream",
     "text": [
      "Model not found\n"
     ]
    },
    {
     "data": {
      "application/vnd.jupyter.widget-view+json": {
       "model_id": "7144d1b8d5a8496c8da307e5f61d1ab4",
       "version_major": 2,
       "version_minor": 0
      },
      "text/plain": [
       "HBox(children=(IntProgress(value=0, max=576), HTML(value='')))"
      ]
     },
     "metadata": {},
     "output_type": "display_data"
    },
    {
     "name": "stdout",
     "output_type": "stream",
     "text": [
      "\n",
      "length of time-series i/o (576, 60, 5) (576,)\n",
      "Test size (280, 60, 5) (280,) (280, 60, 5) (280,)\n",
      "Building model...\n",
      "checking if GPU available []\n",
      "Model: \"sequential_1\"\n",
      "_________________________________________________________________\n",
      "Layer (type)                 Output Shape              Param #   \n",
      "=================================================================\n",
      "gru_1 (GRU)                  (20, 100)                 31800     \n",
      "_________________________________________________________________\n",
      "dropout_1 (Dropout)          (20, 100)                 0         \n",
      "_________________________________________________________________\n",
      "dense_1 (Dense)              (20, 20)                  2020      \n",
      "_________________________________________________________________\n",
      "dense_2 (Dense)              (20, 1)                   21        \n",
      "=================================================================\n",
      "Total params: 33,841\n",
      "Trainable params: 33,841\n",
      "Non-trainable params: 0\n",
      "_________________________________________________________________\n",
      "Train on 2480 samples, validate on 280 samples\n",
      "Epoch 1/100\n",
      " - 7s - loss: 0.0418 - val_loss: 0.0141\n",
      "\n",
      "Epoch 00001: val_loss improved from inf to 0.01406, saving model to C:\\Users\\Victor\\Desktop\\project5\\Stock-Price-Prediction\\outputyzjGRU\\best_model.h5\n",
      "Epoch 2/100\n",
      " - 6s - loss: 0.0361 - val_loss: 0.0217\n",
      "\n",
      "Epoch 00002: val_loss did not improve from 0.01406\n",
      "Epoch 3/100\n",
      " - 6s - loss: 0.0358 - val_loss: 0.0236\n",
      "\n",
      "Epoch 00003: val_loss did not improve from 0.01406\n",
      "Epoch 4/100\n",
      " - 6s - loss: 0.0338 - val_loss: 0.0233\n",
      "\n",
      "Epoch 00004: val_loss did not improve from 0.01406\n",
      "Epoch 5/100\n",
      " - 6s - loss: 0.0312 - val_loss: 0.0226\n",
      "\n",
      "Epoch 00005: val_loss did not improve from 0.01406\n",
      "Epoch 6/100\n",
      " - 6s - loss: 0.0272 - val_loss: 0.0213\n",
      "\n",
      "Epoch 00006: val_loss did not improve from 0.01406\n",
      "Epoch 7/100\n",
      " - 6s - loss: 0.0213 - val_loss: 0.0161\n",
      "\n",
      "Epoch 00007: val_loss did not improve from 0.01406\n",
      "Epoch 8/100\n",
      " - 6s - loss: 0.0110 - val_loss: 0.0022\n",
      "\n",
      "Epoch 00008: val_loss improved from 0.01406 to 0.00223, saving model to C:\\Users\\Victor\\Desktop\\project5\\Stock-Price-Prediction\\outputyzjGRU\\best_model.h5\n",
      "Epoch 9/100\n",
      " - 6s - loss: 0.0104 - val_loss: 0.0012\n",
      "\n",
      "Epoch 00009: val_loss improved from 0.00223 to 0.00123, saving model to C:\\Users\\Victor\\Desktop\\project5\\Stock-Price-Prediction\\outputyzjGRU\\best_model.h5\n",
      "Epoch 10/100\n",
      " - 6s - loss: 0.0066 - val_loss: 0.0011\n",
      "\n",
      "Epoch 00010: val_loss improved from 0.00123 to 0.00111, saving model to C:\\Users\\Victor\\Desktop\\project5\\Stock-Price-Prediction\\outputyzjGRU\\best_model.h5\n",
      "Epoch 11/100\n",
      " - 6s - loss: 0.0033 - val_loss: 9.6696e-04\n",
      "\n",
      "Epoch 00011: val_loss improved from 0.00111 to 0.00097, saving model to C:\\Users\\Victor\\Desktop\\project5\\Stock-Price-Prediction\\outputyzjGRU\\best_model.h5\n",
      "Epoch 12/100\n",
      " - 6s - loss: 0.0030 - val_loss: 9.4962e-04\n",
      "\n",
      "Epoch 00012: val_loss improved from 0.00097 to 0.00095, saving model to C:\\Users\\Victor\\Desktop\\project5\\Stock-Price-Prediction\\outputyzjGRU\\best_model.h5\n",
      "Epoch 13/100\n",
      " - 6s - loss: 0.0028 - val_loss: 9.3980e-04\n",
      "\n",
      "Epoch 00013: val_loss improved from 0.00095 to 0.00094, saving model to C:\\Users\\Victor\\Desktop\\project5\\Stock-Price-Prediction\\outputyzjGRU\\best_model.h5\n",
      "Epoch 14/100\n",
      " - 6s - loss: 0.0026 - val_loss: 8.2635e-04\n",
      "\n",
      "Epoch 00014: val_loss improved from 0.00094 to 0.00083, saving model to C:\\Users\\Victor\\Desktop\\project5\\Stock-Price-Prediction\\outputyzjGRU\\best_model.h5\n",
      "Epoch 15/100\n",
      " - 6s - loss: 0.0025 - val_loss: 8.4030e-04\n",
      "\n",
      "Epoch 00015: val_loss did not improve from 0.00083\n",
      "Epoch 16/100\n",
      " - 6s - loss: 0.0023 - val_loss: 8.3565e-04\n",
      "\n",
      "Epoch 00016: val_loss did not improve from 0.00083\n",
      "Epoch 17/100\n",
      " - 6s - loss: 0.0023 - val_loss: 8.5633e-04\n",
      "\n",
      "Epoch 00017: val_loss did not improve from 0.00083\n",
      "Epoch 18/100\n",
      " - 6s - loss: 0.0022 - val_loss: 7.1948e-04\n",
      "\n",
      "Epoch 00018: val_loss improved from 0.00083 to 0.00072, saving model to C:\\Users\\Victor\\Desktop\\project5\\Stock-Price-Prediction\\outputyzjGRU\\best_model.h5\n",
      "Epoch 19/100\n",
      " - 6s - loss: 0.0021 - val_loss: 7.0315e-04\n",
      "\n",
      "Epoch 00019: val_loss improved from 0.00072 to 0.00070, saving model to C:\\Users\\Victor\\Desktop\\project5\\Stock-Price-Prediction\\outputyzjGRU\\best_model.h5\n",
      "Epoch 20/100\n",
      " - 6s - loss: 0.0020 - val_loss: 6.7235e-04\n",
      "\n",
      "Epoch 00020: val_loss improved from 0.00070 to 0.00067, saving model to C:\\Users\\Victor\\Desktop\\project5\\Stock-Price-Prediction\\outputyzjGRU\\best_model.h5\n",
      "Epoch 21/100\n",
      " - 6s - loss: 0.0020 - val_loss: 6.3270e-04\n",
      "\n",
      "Epoch 00021: val_loss improved from 0.00067 to 0.00063, saving model to C:\\Users\\Victor\\Desktop\\project5\\Stock-Price-Prediction\\outputyzjGRU\\best_model.h5\n",
      "Epoch 22/100\n",
      " - 6s - loss: 0.0019 - val_loss: 6.1963e-04\n",
      "\n",
      "Epoch 00022: val_loss improved from 0.00063 to 0.00062, saving model to C:\\Users\\Victor\\Desktop\\project5\\Stock-Price-Prediction\\outputyzjGRU\\best_model.h5\n",
      "Epoch 23/100\n",
      " - 6s - loss: 0.0018 - val_loss: 5.8957e-04\n",
      "\n",
      "Epoch 00023: val_loss improved from 0.00062 to 0.00059, saving model to C:\\Users\\Victor\\Desktop\\project5\\Stock-Price-Prediction\\outputyzjGRU\\best_model.h5\n",
      "Epoch 24/100\n",
      " - 6s - loss: 0.0018 - val_loss: 6.0562e-04\n",
      "\n",
      "Epoch 00024: val_loss did not improve from 0.00059\n",
      "Epoch 25/100\n",
      " - 6s - loss: 0.0018 - val_loss: 6.0464e-04\n",
      "\n",
      "Epoch 00025: val_loss did not improve from 0.00059\n",
      "Epoch 26/100\n",
      " - 6s - loss: 0.0018 - val_loss: 6.0100e-04\n",
      "\n",
      "Epoch 00026: val_loss did not improve from 0.00059\n",
      "Epoch 27/100\n",
      " - 6s - loss: 0.0017 - val_loss: 5.3125e-04\n",
      "\n",
      "Epoch 00027: val_loss improved from 0.00059 to 0.00053, saving model to C:\\Users\\Victor\\Desktop\\project5\\Stock-Price-Prediction\\outputyzjGRU\\best_model.h5\n",
      "Epoch 28/100\n",
      " - 6s - loss: 0.0017 - val_loss: 5.3933e-04\n",
      "\n",
      "Epoch 00028: val_loss did not improve from 0.00053\n",
      "Epoch 29/100\n",
      " - 6s - loss: 0.0017 - val_loss: 5.3966e-04\n",
      "\n",
      "Epoch 00029: val_loss did not improve from 0.00053\n",
      "Epoch 30/100\n",
      " - 6s - loss: 0.0016 - val_loss: 5.6993e-04\n",
      "\n",
      "Epoch 00030: val_loss did not improve from 0.00053\n",
      "Epoch 31/100\n",
      " - 6s - loss: 0.0016 - val_loss: 4.6727e-04\n",
      "\n",
      "Epoch 00031: val_loss improved from 0.00053 to 0.00047, saving model to C:\\Users\\Victor\\Desktop\\project5\\Stock-Price-Prediction\\outputyzjGRU\\best_model.h5\n",
      "Epoch 32/100\n",
      " - 6s - loss: 0.0015 - val_loss: 5.4551e-04\n",
      "\n",
      "Epoch 00032: val_loss did not improve from 0.00047\n",
      "Epoch 33/100\n",
      " - 6s - loss: 0.0015 - val_loss: 5.0779e-04\n",
      "\n",
      "Epoch 00033: val_loss did not improve from 0.00047\n",
      "Epoch 34/100\n",
      " - 6s - loss: 0.0015 - val_loss: 4.3025e-04\n",
      "\n",
      "Epoch 00034: val_loss improved from 0.00047 to 0.00043, saving model to C:\\Users\\Victor\\Desktop\\project5\\Stock-Price-Prediction\\outputyzjGRU\\best_model.h5\n",
      "Epoch 35/100\n",
      " - 6s - loss: 0.0014 - val_loss: 4.0418e-04\n",
      "\n",
      "Epoch 00035: val_loss improved from 0.00043 to 0.00040, saving model to C:\\Users\\Victor\\Desktop\\project5\\Stock-Price-Prediction\\outputyzjGRU\\best_model.h5\n",
      "Epoch 36/100\n",
      " - 6s - loss: 0.0014 - val_loss: 4.3339e-04\n",
      "\n",
      "Epoch 00036: val_loss did not improve from 0.00040\n",
      "Epoch 37/100\n",
      " - 6s - loss: 0.0014 - val_loss: 3.7696e-04\n",
      "\n",
      "Epoch 00037: val_loss improved from 0.00040 to 0.00038, saving model to C:\\Users\\Victor\\Desktop\\project5\\Stock-Price-Prediction\\outputyzjGRU\\best_model.h5\n",
      "Epoch 38/100\n",
      " - 6s - loss: 0.0013 - val_loss: 4.2991e-04\n",
      "\n",
      "Epoch 00038: val_loss did not improve from 0.00038\n",
      "Epoch 39/100\n",
      " - 6s - loss: 0.0013 - val_loss: 3.8632e-04\n",
      "\n",
      "Epoch 00039: val_loss did not improve from 0.00038\n",
      "Epoch 40/100\n",
      " - 6s - loss: 0.0013 - val_loss: 3.7555e-04\n",
      "\n",
      "Epoch 00040: val_loss improved from 0.00038 to 0.00038, saving model to C:\\Users\\Victor\\Desktop\\project5\\Stock-Price-Prediction\\outputyzjGRU\\best_model.h5\n",
      "Epoch 41/100\n",
      " - 6s - loss: 0.0013 - val_loss: 3.4595e-04\n",
      "\n",
      "Epoch 00041: val_loss improved from 0.00038 to 0.00035, saving model to C:\\Users\\Victor\\Desktop\\project5\\Stock-Price-Prediction\\outputyzjGRU\\best_model.h5\n",
      "Epoch 42/100\n",
      " - 6s - loss: 0.0012 - val_loss: 3.3206e-04\n",
      "\n",
      "Epoch 00042: val_loss improved from 0.00035 to 0.00033, saving model to C:\\Users\\Victor\\Desktop\\project5\\Stock-Price-Prediction\\outputyzjGRU\\best_model.h5\n",
      "Epoch 43/100\n",
      " - 6s - loss: 0.0012 - val_loss: 3.4499e-04\n",
      "\n",
      "Epoch 00043: val_loss did not improve from 0.00033\n",
      "Epoch 44/100\n",
      " - 6s - loss: 0.0012 - val_loss: 3.2551e-04\n",
      "\n",
      "Epoch 00044: val_loss improved from 0.00033 to 0.00033, saving model to C:\\Users\\Victor\\Desktop\\project5\\Stock-Price-Prediction\\outputyzjGRU\\best_model.h5\n",
      "Epoch 45/100\n",
      " - 6s - loss: 0.0012 - val_loss: 3.6736e-04\n",
      "\n",
      "Epoch 00045: val_loss did not improve from 0.00033\n",
      "Epoch 46/100\n",
      " - 6s - loss: 0.0011 - val_loss: 3.4006e-04\n",
      "\n",
      "Epoch 00046: val_loss did not improve from 0.00033\n",
      "Epoch 47/100\n",
      " - 6s - loss: 0.0012 - val_loss: 3.6781e-04\n",
      "\n",
      "Epoch 00047: val_loss did not improve from 0.00033\n",
      "Epoch 48/100\n",
      " - 6s - loss: 0.0011 - val_loss: 3.6511e-04\n",
      "\n",
      "Epoch 00048: val_loss did not improve from 0.00033\n",
      "Epoch 49/100\n",
      " - 6s - loss: 0.0011 - val_loss: 3.5250e-04\n",
      "\n",
      "Epoch 00049: val_loss did not improve from 0.00033\n",
      "Epoch 50/100\n",
      " - 6s - loss: 0.0011 - val_loss: 3.2396e-04\n",
      "\n",
      "Epoch 00050: val_loss improved from 0.00033 to 0.00032, saving model to C:\\Users\\Victor\\Desktop\\project5\\Stock-Price-Prediction\\outputyzjGRU\\best_model.h5\n",
      "Epoch 51/100\n",
      " - 6s - loss: 0.0010 - val_loss: 3.2012e-04\n",
      "\n",
      "Epoch 00051: val_loss improved from 0.00032 to 0.00032, saving model to C:\\Users\\Victor\\Desktop\\project5\\Stock-Price-Prediction\\outputyzjGRU\\best_model.h5\n",
      "Epoch 52/100\n",
      " - 6s - loss: 0.0011 - val_loss: 3.4446e-04\n",
      "\n",
      "Epoch 00052: val_loss did not improve from 0.00032\n",
      "Epoch 53/100\n",
      " - 6s - loss: 0.0010 - val_loss: 3.2180e-04\n",
      "\n",
      "Epoch 00053: val_loss did not improve from 0.00032\n",
      "Epoch 54/100\n",
      " - 6s - loss: 0.0010 - val_loss: 3.3170e-04\n",
      "\n",
      "Epoch 00054: val_loss did not improve from 0.00032\n",
      "Epoch 55/100\n",
      " - 6s - loss: 9.7076e-04 - val_loss: 3.2324e-04\n",
      "\n",
      "Epoch 00055: val_loss did not improve from 0.00032\n",
      "Epoch 56/100\n",
      " - 6s - loss: 0.0010 - val_loss: 3.1664e-04\n",
      "\n",
      "Epoch 00056: val_loss improved from 0.00032 to 0.00032, saving model to C:\\Users\\Victor\\Desktop\\project5\\Stock-Price-Prediction\\outputyzjGRU\\best_model.h5\n",
      "Epoch 57/100\n",
      " - 6s - loss: 9.3831e-04 - val_loss: 3.2577e-04\n",
      "\n",
      "Epoch 00057: val_loss did not improve from 0.00032\n",
      "Epoch 58/100\n",
      " - 6s - loss: 9.9372e-04 - val_loss: 3.4362e-04\n",
      "\n",
      "Epoch 00058: val_loss did not improve from 0.00032\n",
      "Epoch 59/100\n",
      " - 6s - loss: 9.4242e-04 - val_loss: 3.3656e-04\n",
      "\n",
      "Epoch 00059: val_loss did not improve from 0.00032\n",
      "Epoch 60/100\n",
      " - 8s - loss: 9.2217e-04 - val_loss: 3.3525e-04\n",
      "\n",
      "Epoch 00060: val_loss did not improve from 0.00032\n",
      "Epoch 61/100\n",
      " - 6s - loss: 9.1717e-04 - val_loss: 3.4795e-04\n",
      "\n",
      "Epoch 00061: val_loss did not improve from 0.00032\n",
      "Epoch 62/100\n",
      " - 6s - loss: 9.0869e-04 - val_loss: 3.4102e-04\n",
      "\n",
      "Epoch 00062: val_loss did not improve from 0.00032\n",
      "Epoch 63/100\n",
      " - 6s - loss: 9.6250e-04 - val_loss: 3.3871e-04\n",
      "\n",
      "Epoch 00063: val_loss did not improve from 0.00032\n",
      "Epoch 64/100\n",
      " - 7s - loss: 9.5666e-04 - val_loss: 3.2478e-04\n",
      "\n",
      "Epoch 00064: val_loss did not improve from 0.00032\n",
      "Epoch 65/100\n",
      " - 6s - loss: 9.1159e-04 - val_loss: 3.1470e-04\n",
      "\n",
      "Epoch 00065: val_loss improved from 0.00032 to 0.00031, saving model to C:\\Users\\Victor\\Desktop\\project5\\Stock-Price-Prediction\\outputyzjGRU\\best_model.h5\n",
      "Epoch 66/100\n",
      " - 6s - loss: 8.9071e-04 - val_loss: 3.3104e-04\n",
      "\n",
      "Epoch 00066: val_loss did not improve from 0.00031\n",
      "Epoch 67/100\n",
      " - 7s - loss: 8.9713e-04 - val_loss: 3.1893e-04\n",
      "\n",
      "Epoch 00067: val_loss did not improve from 0.00031\n",
      "Epoch 68/100\n",
      " - 6s - loss: 9.2275e-04 - val_loss: 3.1684e-04\n",
      "\n",
      "Epoch 00068: val_loss did not improve from 0.00031\n",
      "Epoch 69/100\n",
      " - 6s - loss: 8.8363e-04 - val_loss: 3.0873e-04\n",
      "\n",
      "Epoch 00069: val_loss improved from 0.00031 to 0.00031, saving model to C:\\Users\\Victor\\Desktop\\project5\\Stock-Price-Prediction\\outputyzjGRU\\best_model.h5\n",
      "Epoch 70/100\n",
      " - 6s - loss: 8.7824e-04 - val_loss: 3.1812e-04\n",
      "\n",
      "Epoch 00070: val_loss did not improve from 0.00031\n",
      "Epoch 71/100\n",
      " - 6s - loss: 8.7755e-04 - val_loss: 3.4515e-04\n",
      "\n",
      "Epoch 00071: val_loss did not improve from 0.00031\n",
      "Epoch 72/100\n",
      " - 6s - loss: 9.0958e-04 - val_loss: 3.3505e-04\n",
      "\n",
      "Epoch 00072: val_loss did not improve from 0.00031\n",
      "Epoch 73/100\n",
      " - 6s - loss: 8.8402e-04 - val_loss: 2.9343e-04\n",
      "\n",
      "Epoch 00073: val_loss improved from 0.00031 to 0.00029, saving model to C:\\Users\\Victor\\Desktop\\project5\\Stock-Price-Prediction\\outputyzjGRU\\best_model.h5\n",
      "Epoch 74/100\n",
      " - 6s - loss: 8.5574e-04 - val_loss: 3.1344e-04\n",
      "\n",
      "Epoch 00074: val_loss did not improve from 0.00029\n",
      "Epoch 75/100\n",
      " - 6s - loss: 8.8309e-04 - val_loss: 2.9932e-04\n",
      "\n",
      "Epoch 00075: val_loss did not improve from 0.00029\n",
      "Epoch 76/100\n",
      " - 6s - loss: 8.2671e-04 - val_loss: 3.2385e-04\n",
      "\n",
      "Epoch 00076: val_loss did not improve from 0.00029\n",
      "Epoch 77/100\n",
      " - 6s - loss: 8.7614e-04 - val_loss: 2.9983e-04\n",
      "\n",
      "Epoch 00077: val_loss did not improve from 0.00029\n",
      "Epoch 78/100\n",
      " - 6s - loss: 7.7551e-04 - val_loss: 3.1071e-04\n",
      "\n",
      "Epoch 00078: val_loss did not improve from 0.00029\n",
      "Epoch 79/100\n",
      " - 6s - loss: 8.4219e-04 - val_loss: 2.9329e-04\n",
      "\n",
      "Epoch 00079: val_loss improved from 0.00029 to 0.00029, saving model to C:\\Users\\Victor\\Desktop\\project5\\Stock-Price-Prediction\\outputyzjGRU\\best_model.h5\n",
      "Epoch 80/100\n",
      " - 6s - loss: 8.3918e-04 - val_loss: 2.9471e-04\n",
      "\n",
      "Epoch 00080: val_loss did not improve from 0.00029\n",
      "Epoch 81/100\n",
      " - 6s - loss: 8.5501e-04 - val_loss: 3.0518e-04\n",
      "\n",
      "Epoch 00081: val_loss did not improve from 0.00029\n",
      "Epoch 00081: early stopping\n",
      "saving model...\n"
     ]
    }
   ],
   "source": [
    "model = None\n",
    "try:\n",
    "    model = pickle.load(open(\"GRU_model\", 'rb'))\n",
    "    print(\"Loaded saved model...\")\n",
    "except FileNotFoundError:\n",
    "    print(\"Model not found\")\n",
    "\n",
    "\n",
    "x_temp, y_temp = build_timeseries(x_test, 3)\n",
    "x_val, x_test_t = np.split(trim_dataset(x_temp, BATCH_SIZE),2)\n",
    "y_val, y_test_t = np.split(trim_dataset(y_temp, BATCH_SIZE),2)\n",
    "\n",
    "print(\"Test size\", x_test_t.shape, y_test_t.shape, x_val.shape, y_val.shape)\n",
    "    \n",
    "is_update_model = True\n",
    "if model is None or is_update_model:\n",
    "    from keras import backend as K\n",
    "    print(\"Building model...\")\n",
    "    print(\"checking if GPU available\", K.tensorflow_backend._get_available_gpus())\n",
    "    model = create_model()\n",
    "    \n",
    "    es = EarlyStopping(monitor='val_loss', mode='min', verbose=1,\n",
    "                       patience=40, min_delta=0.0001)\n",
    "    \n",
    "    mcp = ModelCheckpoint(os.path.join(OUTPUT_PATH,\n",
    "                          \"best_model.h5\"), monitor='val_loss', verbose=1,\n",
    "                          save_best_only=True, save_weights_only=False, mode='min', period=1)\n",
    "\n",
    "    # Not used here. But leaving it here as a reminder for future\n",
    "    r_lr_plat = ReduceLROnPlateau(monitor='val_loss', factor=0.1, patience=30, \n",
    "                                  verbose=0, mode='auto', min_delta=0.0001, cooldown=0, min_lr=0)\n",
    "    \n",
    "   ## csv_logger = CSVLogger(os.path.join(OUTPUT_PATH, 'training_log_' + time.ctime().replace(\" \",\"_\") + '.log'), append=True)\n",
    "    csv_logger = CSVLogger(os.path.join(OUTPUT_PATH, 'training_log_' + time.strftime(\"%a %b %d %H %M %S %Y\", time.localtime()) + '.log'), append=True)\n",
    "    \n",
    "  #  csv_logger = CSVLogger(os.path.join(OUTPUT_PATH, 'training_log_'  + '.log'), append=True)\n",
    "    \n",
    "    history = model.fit(x_t, y_t, epochs=params[\"epochs\"], verbose=2, batch_size=BATCH_SIZE,\n",
    "                        shuffle=False, validation_data=(trim_dataset(x_val, BATCH_SIZE),\n",
    "                        trim_dataset(y_val, BATCH_SIZE)), callbacks=[es, mcp, csv_logger])\n",
    "    \n",
    "    print(\"saving model...\")\n",
    "    pickle.dump(model, open(\"GRU_model\", \"wb\"))"
   ]
  },
  {
   "cell_type": "code",
   "execution_count": 19,
   "metadata": {},
   "outputs": [
    {
     "name": "stdout",
     "output_type": "stream",
     "text": [
      "Mean Square Error is 0.0002599809022329932 (280,) (280,)\n",
      "[0.38970703 0.38743505 0.3897972  0.40029156 0.41541466 0.41317624\n",
      " 0.38774088 0.37626073 0.3692392  0.3581363  0.35084316 0.35350865\n",
      " 0.3570015  0.3663466  0.38143504]\n",
      "[0.3877551  0.39591837 0.41632653 0.44081633 0.36326531 0.37142857\n",
      " 0.3755102  0.37142857 0.36326531 0.35102041 0.3755102  0.36734694\n",
      " 0.3877551  0.4        0.40816327]\n"
     ]
    }
   ],
   "source": [
    "from sklearn.metrics import mean_squared_error\n",
    "# model.evaluate(x_test_t, y_test_t, batch_size=BATCH_SIZE\n",
    "y_pred = model.predict(trim_dataset(x_test_t, BATCH_SIZE), batch_size=BATCH_SIZE)\n",
    "y_pred = y_pred.flatten()\n",
    "y_test_t = trim_dataset(y_test_t, BATCH_SIZE)\n",
    "error = mean_squared_error(y_test_t, y_pred)\n",
    "print(\"Mean Square Error is\", error, y_pred.shape, y_test_t.shape)\n",
    "print(y_pred[0:15])\n",
    "print(y_test_t[0:15])"
   ]
  },
  {
   "cell_type": "code",
   "execution_count": 20,
   "metadata": {},
   "outputs": [
    {
     "name": "stdout",
     "output_type": "stream",
     "text": [
      "[1.2447822 1.2392159 1.2450032 1.2707143 1.307766  1.3022817 1.2399652\n",
      " 1.2118388 1.1946361 1.167434  1.1495657 1.1560962 1.1646537 1.1875491\n",
      " 1.2245158]\n",
      "[1.24 1.26 1.31 1.37 1.18 1.2  1.21 1.2  1.18 1.15 1.21 1.19 1.24 1.27\n",
      " 1.29]\n"
     ]
    }
   ],
   "source": [
    "# convert the predicted value to range of real data\n",
    "y_pred_org = (y_pred * min_max_scaler.data_range_[3]) + min_max_scaler.data_min_[3]\n",
    "# min_max_scaler.inverse_transform(y_pred)\n",
    "y_test_t_org = (y_test_t * min_max_scaler.data_range_[3]) + min_max_scaler.data_min_[3]\n",
    "# min_max_scaler.inverse_transform(y_test_t)\n",
    "print(y_pred_org[0:15])\n",
    "print(y_test_t_org[0:15])"
   ]
  },
  {
   "cell_type": "code",
   "execution_count": 21,
   "metadata": {},
   "outputs": [],
   "source": [
    "import numpy as np\n",
    "\n",
    "def mean_absolute_percentage_error(y_test_t, y_pred): \n",
    "    y_test_t, y_pred = np.array(y_test_t), np.array(y_pred)\n",
    "    return np.mean(np.abs((y_test_t - y_pred) / y_test_t)) * 100"
   ]
  },
  {
   "cell_type": "code",
   "execution_count": 22,
   "metadata": {},
   "outputs": [
    {
     "data": {
      "text/plain": [
       "3.0365431112457615"
      ]
     },
     "execution_count": 22,
     "metadata": {},
     "output_type": "execute_result"
    }
   ],
   "source": [
    "mean_absolute_percentage_error(y_test_t, y_pred)"
   ]
  },
  {
   "cell_type": "code",
   "execution_count": 23,
   "metadata": {},
   "outputs": [],
   "source": [
    "#score, acc = model.evaluate(trim_dataset(x_test_t,BATCH_SIZE),trim_dataset(y_test_t,BATCH_SIZE),batch_size=BATCH_SIZE)\n",
    "#print('Test score:', score)\n",
    "#print('Test accuracy:', acc)"
   ]
  },
  {
   "cell_type": "code",
   "execution_count": 24,
   "metadata": {},
   "outputs": [
    {
     "data": {
      "image/png": "[encoded data removed]",
      "text/plain": [
       "<Figure size 720x360 with 1 Axes>"
      ]
     },
     "metadata": {
      "needs_background": "light"
     },
     "output_type": "display_data"
    }
   ],
   "source": [
    "# Visualize the training data\n",
    "from matplotlib import pyplot as plt\n",
    "#plt.figure()\n",
    "plt.figure(figsize=(10,5))\n",
    "plt.plot(history.history['loss'])\n",
    "plt.plot(history.history['val_loss'])\n",
    "plt.title('GRU Model loss')\n",
    "plt.ylabel('MSE')\n",
    "plt.xlabel('Epoch')\n",
    "plt.legend(['Train', 'Validation'], loc='upper left')\n",
    "#plt.show()\n",
    "#plt.savefig(os.path.join(OUTPUT_PATH, 'train_vis_BS_'+str(BATCH_SIZE)+\"_\"+time.ctime()+'.png'))\n",
    "plt.savefig(os.path.join(OUTPUT_PATH, 'train_vis_BS_'+str(BATCH_SIZE)+\"_\"+time.strftime(\"%a %b %d %H %M %S %Y\", time.localtime())+'.png'))"
   ]
  },
  {
   "cell_type": "code",
   "execution_count": 25,
   "metadata": {},
   "outputs": [
    {
     "name": "stdout",
     "output_type": "stream",
     "text": [
      "<keras.engine.sequential.Sequential object at 0x000000000527A808>\n",
      "Mean Square Error is 0.00026517919653739453 (280,) (280,)\n",
      "[0.38737398 0.38497597 0.38718492 0.39742237 0.41232377 0.41002688\n",
      " 0.38525134 0.37400436 0.36696097 0.3557148  0.348262   0.35055768\n",
      " 0.3538639  0.36305264 0.3780403 ]\n",
      "[0.3877551  0.39591837 0.41632653 0.44081633 0.36326531 0.37142857\n",
      " 0.3755102  0.37142857 0.36326531 0.35102041 0.3755102  0.36734694\n",
      " 0.3877551  0.4        0.40816327]\n",
      "[1.2390662 1.2331911 1.2386031 1.2636849 1.3001932 1.2945658 1.2338659\n",
      " 1.2063107 1.1890544 1.1615013 1.1432419 1.1488663 1.1569666 1.179479\n",
      " 1.2161988]\n",
      "[1.24 1.26 1.31 1.37 1.18 1.2  1.21 1.2  1.18 1.15 1.21 1.19 1.24 1.27\n",
      " 1.29]\n"
     ]
    }
   ],
   "source": [
    "# load the saved best model from above\n",
    "saved_model = load_model(os.path.join(OUTPUT_PATH, 'best_model.h5')) # , \"lstm_best_7-3-19_12AM\",\n",
    "print(saved_model)\n",
    "\n",
    "y_pred = saved_model.predict(trim_dataset(x_test_t, BATCH_SIZE), batch_size=BATCH_SIZE)\n",
    "y_pred = y_pred.flatten()\n",
    "y_test_t = trim_dataset(y_test_t, BATCH_SIZE)\n",
    "error = mean_squared_error(y_test_t, y_pred)\n",
    "print(\"Mean Square Error is\", error, y_pred.shape, y_test_t.shape)\n",
    "print(y_pred[0:15])\n",
    "print(y_test_t[0:15])\n",
    "y_pred_org = (y_pred * min_max_scaler.data_range_[3]) + min_max_scaler.data_min_[3] # min_max_scaler.inverse_transform(y_pred)\n",
    "y_test_t_org = (y_test_t * min_max_scaler.data_range_[3]) + min_max_scaler.data_min_[3] # min_max_scaler.inverse_transform(y_test_t)\n",
    "print(y_pred_org[0:15])\n",
    "print(y_test_t_org[0:15])\n"
   ]
  },
  {
   "cell_type": "code",
   "execution_count": 26,
   "metadata": {},
   "outputs": [],
   "source": [
    "import numpy as np\n",
    "\n",
    "def mean_absolute_percentage_error(y_test_t, y_pred): \n",
    "    y_test_t, y_pred = np.array(y_test_t), np.array(y_pred)\n",
    "    return np.mean(np.abs((y_test_t - y_pred) / y_test_t)) * 100"
   ]
  },
  {
   "cell_type": "code",
   "execution_count": 27,
   "metadata": {},
   "outputs": [
    {
     "data": {
      "text/plain": [
       "3.082979875576427"
      ]
     },
     "execution_count": 27,
     "metadata": {},
     "output_type": "execute_result"
    }
   ],
   "source": [
    "mean_absolute_percentage_error(y_test_t, y_pred)"
   ]
  },
  {
   "cell_type": "code",
   "execution_count": 28,
   "metadata": {},
   "outputs": [],
   "source": [
    "def print_time(text, stime):\n",
    "    seconds = (time.time()-stime)\n",
    "    print(text, seconds//60,\"minutes : \",np.round(seconds%60),\"seconds\")\n"
   ]
  },
  {
   "cell_type": "code",
   "execution_count": 29,
   "metadata": {
    "scrolled": false
   },
   "outputs": [
    {
     "name": "stdout",
     "output_type": "stream",
     "text": [
      "program completed  8.0 minutes :  18.0 seconds\n"
     ]
    },
    {
     "data": {
      "image/png": "[encoded data removed]",
      "text/plain": [
       "<Figure size 720x360 with 1 Axes>"
      ]
     },
     "metadata": {
      "needs_background": "light"
     },
     "output_type": "display_data"
    }
   ],
   "source": [
    "# Visualize the prediction\n",
    "from matplotlib import pyplot as plt\n",
    "#plt.figure()\n",
    "plt.figure(figsize=(10,5))\n",
    "#fig.set_figheight(20)\n",
    "#fig.set_figwidth(15)\n",
    "plt.plot(y_pred_org)\n",
    "plt.plot(y_test_t_org)\n",
    "plt.title('GRU Prediction vs Real Stock Price')\n",
    "plt.ylabel('Price')\n",
    "plt.xlabel('Days')\n",
    "plt.legend(['Prediction', 'Real'], loc='upper left')\n",
    "#plt.show()\n",
    "##plt.savefig(os.path.join(OUTPUT_PATH, 'pred_vs_real_BS'+str(BATCH_SIZE)+\"_\"+time.ctime()+'.png'))\n",
    "plt.savefig(os.path.join(OUTPUT_PATH, 'pred_vs_real_BS'+str(BATCH_SIZE)+\"_\"+time.strftime(\"%a %b %d %H %M %S %Y\", time.localtime())+'.png'),dpi=300)\n",
    "print_time(\"program completed \", stime)"
   ]
  },
  {
   "cell_type": "code",
   "execution_count": null,
   "metadata": {},
   "outputs": [],
   "source": []
  }
 ],
 "metadata": {
  "kernelspec": {
   "display_name": "Python 3",
   "language": "python",
   "name": "python3"
  },
  "language_info": {
   "codemirror_mode": {
    "name": "ipython",
    "version": 3
   },
   "file_extension": ".py",
   "mimetype": "text/x-python",
   "name": "python",
   "nbconvert_exporter": "python",
   "pygments_lexer": "ipython3",
   "version": "3.7.4"
  }
 },
 "nbformat": 4,
 "nbformat_minor": 2
}
