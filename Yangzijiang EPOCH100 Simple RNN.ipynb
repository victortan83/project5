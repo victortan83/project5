{
 "cells": [
  {
   "cell_type": "code",
   "execution_count": 1,
   "metadata": {},
   "outputs": [
    {
     "data": {
      "text/html": [
       "<div>\n",
       "<style scoped>\n",
       "    .dataframe tbody tr th:only-of-type {\n",
       "        vertical-align: middle;\n",
       "    }\n",
       "\n",
       "    .dataframe tbody tr th {\n",
       "        vertical-align: top;\n",
       "    }\n",
       "\n",
       "    .dataframe thead th {\n",
       "        text-align: right;\n",
       "    }\n",
       "</style>\n",
       "<table border=\"1\" class=\"dataframe\">\n",
       "  <thead>\n",
       "    <tr style=\"text-align: right;\">\n",
       "      <th></th>\n",
       "      <th>Date</th>\n",
       "      <th>Open</th>\n",
       "      <th>High</th>\n",
       "      <th>Low</th>\n",
       "      <th>Close</th>\n",
       "      <th>Adj Close</th>\n",
       "      <th>Volume</th>\n",
       "    </tr>\n",
       "  </thead>\n",
       "  <tbody>\n",
       "    <tr>\n",
       "      <td>3174</td>\n",
       "      <td>12/16/2019</td>\n",
       "      <td>1.13</td>\n",
       "      <td>1.13</td>\n",
       "      <td>1.09</td>\n",
       "      <td>1.10</td>\n",
       "      <td>1.10</td>\n",
       "      <td>27908700</td>\n",
       "    </tr>\n",
       "    <tr>\n",
       "      <td>3175</td>\n",
       "      <td>12/17/2019</td>\n",
       "      <td>1.10</td>\n",
       "      <td>1.11</td>\n",
       "      <td>1.07</td>\n",
       "      <td>1.07</td>\n",
       "      <td>1.07</td>\n",
       "      <td>32804600</td>\n",
       "    </tr>\n",
       "    <tr>\n",
       "      <td>3176</td>\n",
       "      <td>12/18/2019</td>\n",
       "      <td>1.08</td>\n",
       "      <td>1.11</td>\n",
       "      <td>1.08</td>\n",
       "      <td>1.09</td>\n",
       "      <td>1.09</td>\n",
       "      <td>38128700</td>\n",
       "    </tr>\n",
       "    <tr>\n",
       "      <td>3177</td>\n",
       "      <td>12/19/2019</td>\n",
       "      <td>1.09</td>\n",
       "      <td>1.09</td>\n",
       "      <td>1.07</td>\n",
       "      <td>1.08</td>\n",
       "      <td>1.08</td>\n",
       "      <td>20343100</td>\n",
       "    </tr>\n",
       "    <tr>\n",
       "      <td>3178</td>\n",
       "      <td>12/20/2019</td>\n",
       "      <td>1.08</td>\n",
       "      <td>1.09</td>\n",
       "      <td>1.07</td>\n",
       "      <td>1.07</td>\n",
       "      <td>1.07</td>\n",
       "      <td>33596100</td>\n",
       "    </tr>\n",
       "  </tbody>\n",
       "</table>\n",
       "</div>"
      ],
      "text/plain": [
       "            Date  Open  High   Low  Close  Adj Close    Volume\n",
       "3174  12/16/2019  1.13  1.13  1.09   1.10       1.10  27908700\n",
       "3175  12/17/2019  1.10  1.11  1.07   1.07       1.07  32804600\n",
       "3176  12/18/2019  1.08  1.11  1.08   1.09       1.09  38128700\n",
       "3177  12/19/2019  1.09  1.09  1.07   1.08       1.08  20343100\n",
       "3178  12/20/2019  1.08  1.09  1.07   1.07       1.07  33596100"
      ]
     },
     "execution_count": 1,
     "metadata": {},
     "output_type": "execute_result"
    }
   ],
   "source": [
    "import pandas as pd \n",
    "\n",
    "\n",
    "df_Yzj = pd.read_csv('BS6.SI.CSV')\n",
    "df_Yzj.tail()"
   ]
  },
  {
   "cell_type": "code",
   "execution_count": 2,
   "metadata": {},
   "outputs": [
    {
     "data": {
      "text/html": [
       "<div>\n",
       "<style scoped>\n",
       "    .dataframe tbody tr th:only-of-type {\n",
       "        vertical-align: middle;\n",
       "    }\n",
       "\n",
       "    .dataframe tbody tr th {\n",
       "        vertical-align: top;\n",
       "    }\n",
       "\n",
       "    .dataframe thead th {\n",
       "        text-align: right;\n",
       "    }\n",
       "</style>\n",
       "<table border=\"1\" class=\"dataframe\">\n",
       "  <thead>\n",
       "    <tr style=\"text-align: right;\">\n",
       "      <th></th>\n",
       "      <th>Date</th>\n",
       "      <th>Open</th>\n",
       "      <th>High</th>\n",
       "      <th>Low</th>\n",
       "      <th>Close</th>\n",
       "      <th>Adj Close</th>\n",
       "      <th>Volume</th>\n",
       "    </tr>\n",
       "  </thead>\n",
       "  <tbody>\n",
       "    <tr>\n",
       "      <td>0</td>\n",
       "      <td>4/18/2007</td>\n",
       "      <td>1.35</td>\n",
       "      <td>1.39</td>\n",
       "      <td>1.33</td>\n",
       "      <td>1.34</td>\n",
       "      <td>0.842029</td>\n",
       "      <td>413736000</td>\n",
       "    </tr>\n",
       "    <tr>\n",
       "      <td>1</td>\n",
       "      <td>4/19/2007</td>\n",
       "      <td>1.35</td>\n",
       "      <td>1.35</td>\n",
       "      <td>1.26</td>\n",
       "      <td>1.27</td>\n",
       "      <td>0.798042</td>\n",
       "      <td>95804</td>\n",
       "    </tr>\n",
       "    <tr>\n",
       "      <td>2</td>\n",
       "      <td>4/20/2007</td>\n",
       "      <td>1.28</td>\n",
       "      <td>1.31</td>\n",
       "      <td>1.28</td>\n",
       "      <td>1.30</td>\n",
       "      <td>0.816894</td>\n",
       "      <td>70064</td>\n",
       "    </tr>\n",
       "    <tr>\n",
       "      <td>3</td>\n",
       "      <td>4/23/2007</td>\n",
       "      <td>1.31</td>\n",
       "      <td>1.31</td>\n",
       "      <td>1.26</td>\n",
       "      <td>1.27</td>\n",
       "      <td>0.798042</td>\n",
       "      <td>36099</td>\n",
       "    </tr>\n",
       "    <tr>\n",
       "      <td>4</td>\n",
       "      <td>4/24/2007</td>\n",
       "      <td>1.26</td>\n",
       "      <td>1.27</td>\n",
       "      <td>1.26</td>\n",
       "      <td>1.27</td>\n",
       "      <td>0.798042</td>\n",
       "      <td>14422</td>\n",
       "    </tr>\n",
       "    <tr>\n",
       "      <td>...</td>\n",
       "      <td>...</td>\n",
       "      <td>...</td>\n",
       "      <td>...</td>\n",
       "      <td>...</td>\n",
       "      <td>...</td>\n",
       "      <td>...</td>\n",
       "      <td>...</td>\n",
       "    </tr>\n",
       "    <tr>\n",
       "      <td>3174</td>\n",
       "      <td>12/16/2019</td>\n",
       "      <td>1.13</td>\n",
       "      <td>1.13</td>\n",
       "      <td>1.09</td>\n",
       "      <td>1.10</td>\n",
       "      <td>1.100000</td>\n",
       "      <td>27908700</td>\n",
       "    </tr>\n",
       "    <tr>\n",
       "      <td>3175</td>\n",
       "      <td>12/17/2019</td>\n",
       "      <td>1.10</td>\n",
       "      <td>1.11</td>\n",
       "      <td>1.07</td>\n",
       "      <td>1.07</td>\n",
       "      <td>1.070000</td>\n",
       "      <td>32804600</td>\n",
       "    </tr>\n",
       "    <tr>\n",
       "      <td>3176</td>\n",
       "      <td>12/18/2019</td>\n",
       "      <td>1.08</td>\n",
       "      <td>1.11</td>\n",
       "      <td>1.08</td>\n",
       "      <td>1.09</td>\n",
       "      <td>1.090000</td>\n",
       "      <td>38128700</td>\n",
       "    </tr>\n",
       "    <tr>\n",
       "      <td>3177</td>\n",
       "      <td>12/19/2019</td>\n",
       "      <td>1.09</td>\n",
       "      <td>1.09</td>\n",
       "      <td>1.07</td>\n",
       "      <td>1.08</td>\n",
       "      <td>1.080000</td>\n",
       "      <td>20343100</td>\n",
       "    </tr>\n",
       "    <tr>\n",
       "      <td>3178</td>\n",
       "      <td>12/20/2019</td>\n",
       "      <td>1.08</td>\n",
       "      <td>1.09</td>\n",
       "      <td>1.07</td>\n",
       "      <td>1.07</td>\n",
       "      <td>1.070000</td>\n",
       "      <td>33596100</td>\n",
       "    </tr>\n",
       "  </tbody>\n",
       "</table>\n",
       "<p>3179 rows × 7 columns</p>\n",
       "</div>"
      ],
      "text/plain": [
       "            Date  Open  High   Low  Close  Adj Close     Volume\n",
       "0      4/18/2007  1.35  1.39  1.33   1.34   0.842029  413736000\n",
       "1      4/19/2007  1.35  1.35  1.26   1.27   0.798042      95804\n",
       "2      4/20/2007  1.28  1.31  1.28   1.30   0.816894      70064\n",
       "3      4/23/2007  1.31  1.31  1.26   1.27   0.798042      36099\n",
       "4      4/24/2007  1.26  1.27  1.26   1.27   0.798042      14422\n",
       "...          ...   ...   ...   ...    ...        ...        ...\n",
       "3174  12/16/2019  1.13  1.13  1.09   1.10   1.100000   27908700\n",
       "3175  12/17/2019  1.10  1.11  1.07   1.07   1.070000   32804600\n",
       "3176  12/18/2019  1.08  1.11  1.08   1.09   1.090000   38128700\n",
       "3177  12/19/2019  1.09  1.09  1.07   1.08   1.080000   20343100\n",
       "3178  12/20/2019  1.08  1.09  1.07   1.07   1.070000   33596100\n",
       "\n",
       "[3179 rows x 7 columns]"
      ]
     },
     "execution_count": 2,
     "metadata": {},
     "output_type": "execute_result"
    }
   ],
   "source": [
    "df_Yzj"
   ]
  },
  {
   "cell_type": "code",
   "execution_count": 3,
   "metadata": {
    "scrolled": true
   },
   "outputs": [
    {
     "data": {
      "text/plain": [
       "<Figure size 640x480 with 1 Axes>"
      ]
     },
     "metadata": {},
     "output_type": "display_data"
    }
   ],
   "source": [
    "from matplotlib import pyplot as plt\n",
    "plt.figure()\n",
    "plt.plot(df_Yzj[\"Open\"])\n",
    "plt.plot(df_Yzj[\"High\"])\n",
    "plt.plot(df_Yzj[\"Low\"])\n",
    "plt.plot(df_Yzj[\"Close\"])\n",
    "#plt.title('Yangzijiang Stock price history')\n",
    "plt.ylabel('Price (SGD)')\n",
    "plt.xlabel('Days')\n",
    "plt.legend(['Open','High','Low','Close'], loc='upper left')\n",
    "plt.show()"
   ]
  },
  {
   "cell_type": "code",
   "execution_count": 4,
   "metadata": {},
   "outputs": [
    {
     "data": {
      "image/png": "[encoded data removed]",
      "text/plain": [
       "<Figure size 432x288 with 1 Axes>"
      ]
     },
     "metadata": {
      "needs_background": "light"
     },
     "output_type": "display_data"
    }
   ],
   "source": [
    "plt.figure()\n",
    "plt.plot(df_Yzj[\"Volume\"])\n",
    "plt.title('Yangzijiang stock volume history')\n",
    "plt.ylabel('Volume')\n",
    "plt.xlabel('Days')\n",
    "plt.show()"
   ]
  },
  {
   "cell_type": "code",
   "execution_count": 5,
   "metadata": {},
   "outputs": [
    {
     "name": "stdout",
     "output_type": "stream",
     "text": [
      "checking if any null values are present\n",
      " Date         0\n",
      "Open         0\n",
      "High         0\n",
      "Low          0\n",
      "Close        0\n",
      "Adj Close    0\n",
      "Volume       0\n",
      "dtype: int64\n"
     ]
    }
   ],
   "source": [
    "print(\"checking if any null values are present\\n\", df_Yzj.isna().sum())"
   ]
  },
  {
   "cell_type": "code",
   "execution_count": 6,
   "metadata": {},
   "outputs": [],
   "source": [
    "df_Yzj = df_Yzj.dropna() "
   ]
  },
  {
   "cell_type": "code",
   "execution_count": 7,
   "metadata": {},
   "outputs": [
    {
     "name": "stdout",
     "output_type": "stream",
     "text": [
      "checking if any null values are present\n",
      " Date         0\n",
      "Open         0\n",
      "High         0\n",
      "Low          0\n",
      "Close        0\n",
      "Adj Close    0\n",
      "Volume       0\n",
      "dtype: int64\n"
     ]
    }
   ],
   "source": [
    "print(\"checking if any null values are present\\n\", df_Yzj.isna().sum())"
   ]
  },
  {
   "cell_type": "code",
   "execution_count": 8,
   "metadata": {},
   "outputs": [
    {
     "data": {
      "text/html": [
       "<div>\n",
       "<style scoped>\n",
       "    .dataframe tbody tr th:only-of-type {\n",
       "        vertical-align: middle;\n",
       "    }\n",
       "\n",
       "    .dataframe tbody tr th {\n",
       "        vertical-align: top;\n",
       "    }\n",
       "\n",
       "    .dataframe thead th {\n",
       "        text-align: right;\n",
       "    }\n",
       "</style>\n",
       "<table border=\"1\" class=\"dataframe\">\n",
       "  <thead>\n",
       "    <tr style=\"text-align: right;\">\n",
       "      <th></th>\n",
       "      <th>Date</th>\n",
       "      <th>Open</th>\n",
       "      <th>High</th>\n",
       "      <th>Low</th>\n",
       "      <th>Close</th>\n",
       "      <th>Adj Close</th>\n",
       "      <th>Volume</th>\n",
       "    </tr>\n",
       "  </thead>\n",
       "  <tbody>\n",
       "    <tr>\n",
       "      <td>0</td>\n",
       "      <td>4/18/2007</td>\n",
       "      <td>1.35</td>\n",
       "      <td>1.39</td>\n",
       "      <td>1.33</td>\n",
       "      <td>1.34</td>\n",
       "      <td>0.842029</td>\n",
       "      <td>413736000</td>\n",
       "    </tr>\n",
       "    <tr>\n",
       "      <td>1</td>\n",
       "      <td>4/19/2007</td>\n",
       "      <td>1.35</td>\n",
       "      <td>1.35</td>\n",
       "      <td>1.26</td>\n",
       "      <td>1.27</td>\n",
       "      <td>0.798042</td>\n",
       "      <td>95804</td>\n",
       "    </tr>\n",
       "    <tr>\n",
       "      <td>2</td>\n",
       "      <td>4/20/2007</td>\n",
       "      <td>1.28</td>\n",
       "      <td>1.31</td>\n",
       "      <td>1.28</td>\n",
       "      <td>1.30</td>\n",
       "      <td>0.816894</td>\n",
       "      <td>70064</td>\n",
       "    </tr>\n",
       "    <tr>\n",
       "      <td>3</td>\n",
       "      <td>4/23/2007</td>\n",
       "      <td>1.31</td>\n",
       "      <td>1.31</td>\n",
       "      <td>1.26</td>\n",
       "      <td>1.27</td>\n",
       "      <td>0.798042</td>\n",
       "      <td>36099</td>\n",
       "    </tr>\n",
       "    <tr>\n",
       "      <td>4</td>\n",
       "      <td>4/24/2007</td>\n",
       "      <td>1.26</td>\n",
       "      <td>1.27</td>\n",
       "      <td>1.26</td>\n",
       "      <td>1.27</td>\n",
       "      <td>0.798042</td>\n",
       "      <td>14422</td>\n",
       "    </tr>\n",
       "    <tr>\n",
       "      <td>...</td>\n",
       "      <td>...</td>\n",
       "      <td>...</td>\n",
       "      <td>...</td>\n",
       "      <td>...</td>\n",
       "      <td>...</td>\n",
       "      <td>...</td>\n",
       "      <td>...</td>\n",
       "    </tr>\n",
       "    <tr>\n",
       "      <td>3174</td>\n",
       "      <td>12/16/2019</td>\n",
       "      <td>1.13</td>\n",
       "      <td>1.13</td>\n",
       "      <td>1.09</td>\n",
       "      <td>1.10</td>\n",
       "      <td>1.100000</td>\n",
       "      <td>27908700</td>\n",
       "    </tr>\n",
       "    <tr>\n",
       "      <td>3175</td>\n",
       "      <td>12/17/2019</td>\n",
       "      <td>1.10</td>\n",
       "      <td>1.11</td>\n",
       "      <td>1.07</td>\n",
       "      <td>1.07</td>\n",
       "      <td>1.070000</td>\n",
       "      <td>32804600</td>\n",
       "    </tr>\n",
       "    <tr>\n",
       "      <td>3176</td>\n",
       "      <td>12/18/2019</td>\n",
       "      <td>1.08</td>\n",
       "      <td>1.11</td>\n",
       "      <td>1.08</td>\n",
       "      <td>1.09</td>\n",
       "      <td>1.090000</td>\n",
       "      <td>38128700</td>\n",
       "    </tr>\n",
       "    <tr>\n",
       "      <td>3177</td>\n",
       "      <td>12/19/2019</td>\n",
       "      <td>1.09</td>\n",
       "      <td>1.09</td>\n",
       "      <td>1.07</td>\n",
       "      <td>1.08</td>\n",
       "      <td>1.080000</td>\n",
       "      <td>20343100</td>\n",
       "    </tr>\n",
       "    <tr>\n",
       "      <td>3178</td>\n",
       "      <td>12/20/2019</td>\n",
       "      <td>1.08</td>\n",
       "      <td>1.09</td>\n",
       "      <td>1.07</td>\n",
       "      <td>1.07</td>\n",
       "      <td>1.070000</td>\n",
       "      <td>33596100</td>\n",
       "    </tr>\n",
       "  </tbody>\n",
       "</table>\n",
       "<p>3179 rows × 7 columns</p>\n",
       "</div>"
      ],
      "text/plain": [
       "            Date  Open  High   Low  Close  Adj Close     Volume\n",
       "0      4/18/2007  1.35  1.39  1.33   1.34   0.842029  413736000\n",
       "1      4/19/2007  1.35  1.35  1.26   1.27   0.798042      95804\n",
       "2      4/20/2007  1.28  1.31  1.28   1.30   0.816894      70064\n",
       "3      4/23/2007  1.31  1.31  1.26   1.27   0.798042      36099\n",
       "4      4/24/2007  1.26  1.27  1.26   1.27   0.798042      14422\n",
       "...          ...   ...   ...   ...    ...        ...        ...\n",
       "3174  12/16/2019  1.13  1.13  1.09   1.10   1.100000   27908700\n",
       "3175  12/17/2019  1.10  1.11  1.07   1.07   1.070000   32804600\n",
       "3176  12/18/2019  1.08  1.11  1.08   1.09   1.090000   38128700\n",
       "3177  12/19/2019  1.09  1.09  1.07   1.08   1.080000   20343100\n",
       "3178  12/20/2019  1.08  1.09  1.07   1.07   1.070000   33596100\n",
       "\n",
       "[3179 rows x 7 columns]"
      ]
     },
     "execution_count": 8,
     "metadata": {},
     "output_type": "execute_result"
    }
   ],
   "source": [
    "df_Yzj"
   ]
  },
  {
   "cell_type": "code",
   "execution_count": 9,
   "metadata": {},
   "outputs": [
    {
     "name": "stdout",
     "output_type": "stream",
     "text": [
      "Train and Test size 2543 636\n"
     ]
    }
   ],
   "source": [
    "from sklearn.preprocessing import MinMaxScaler\n",
    "from sklearn.model_selection import train_test_split\n",
    "\n",
    "train_cols = [\"Open\",\"High\",\"Low\",\"Close\",\"Volume\"]\n",
    "df_train, df_test = train_test_split(df_Yzj, train_size=0.8, test_size=0.2, shuffle=False)\n",
    "print(\"Train and Test size\", len(df_train), len(df_test))\n",
    "# scale the feature MinMax, build array\n",
    "x = df_train.loc[:,train_cols].values\n",
    "min_max_scaler = MinMaxScaler()\n",
    "x_train = min_max_scaler.fit_transform(x)\n",
    "x_test = min_max_scaler.transform(df_test.loc[:,train_cols])"
   ]
  },
  {
   "cell_type": "code",
   "execution_count": 10,
   "metadata": {},
   "outputs": [],
   "source": [
    "def build_timeseries(mat, y_col_index):\n",
    "    # y_col_index is the index of column that would act as output column\n",
    "    # total number of time-series samples would be len(mat) - TIME_STEPS\n",
    "    dim_0 = mat.shape[0] - TIME_STEPS\n",
    "    dim_1 = mat.shape[1]\n",
    "    x = np.zeros((dim_0, TIME_STEPS, dim_1))\n",
    "    y = np.zeros((dim_0,))\n",
    "    \n",
    "    for i in tqdm_notebook(range(dim_0)):\n",
    "        x[i] = mat[i:TIME_STEPS+i]\n",
    "        y[i] = mat[TIME_STEPS+i, y_col_index]\n",
    "    print(\"length of time-series i/o\",x.shape,y.shape)\n",
    "    return x, y"
   ]
  },
  {
   "cell_type": "code",
   "execution_count": 11,
   "metadata": {},
   "outputs": [],
   "source": [
    "def trim_dataset(mat, batch_size):\n",
    "    \"\"\"\n",
    "    trims dataset to a size that's divisible by BATCH_SIZE\n",
    "    \"\"\"\n",
    "    no_of_rows_drop = mat.shape[0]%batch_size\n",
    "    if(no_of_rows_drop > 0):\n",
    "        return mat[:-no_of_rows_drop]\n",
    "    else:\n",
    "        return mat"
   ]
  },
  {
   "cell_type": "code",
   "execution_count": 12,
   "metadata": {},
   "outputs": [],
   "source": [
    "import time\n",
    "import numpy as np\n",
    "from tqdm._tqdm_notebook import tqdm_notebook\n",
    "params = {\n",
    "    \"batch_size\": 20,  # 20<16<10, 25 was a bust\n",
    "    ##\"epochs\": 300,\n",
    "    \"epochs\":100,\n",
    "    \"lr\": 0.00010000,\n",
    "    \"time_steps\": 60\n",
    "}\n",
    "\n",
    "TIME_STEPS = params[\"time_steps\"]\n",
    "BATCH_SIZE = params[\"batch_size\"]\n",
    "stime = time.time()\n"
   ]
  },
  {
   "cell_type": "code",
   "execution_count": 13,
   "metadata": {},
   "outputs": [
    {
     "data": {
      "application/vnd.jupyter.widget-view+json": {
       "model_id": "72a66c536608467da3dce70a68f39572",
       "version_major": 2,
       "version_minor": 0
      },
      "text/plain": [
       "HBox(children=(IntProgress(value=0, max=2483), HTML(value='')))"
      ]
     },
     "metadata": {},
     "output_type": "display_data"
    },
    {
     "name": "stdout",
     "output_type": "stream",
     "text": [
      "\n",
      "length of time-series i/o (2483, 60, 5) (2483,)\n"
     ]
    },
    {
     "data": {
      "application/vnd.jupyter.widget-view+json": {
       "model_id": "2d271cdeb08a477abc4789842ac2e375",
       "version_major": 2,
       "version_minor": 0
      },
      "text/plain": [
       "HBox(children=(IntProgress(value=0, max=576), HTML(value='')))"
      ]
     },
     "metadata": {},
     "output_type": "display_data"
    },
    {
     "name": "stdout",
     "output_type": "stream",
     "text": [
      "\n",
      "length of time-series i/o (576, 60, 5) (576,)\n"
     ]
    }
   ],
   "source": [
    "x_t, y_t = build_timeseries(x_train, 3)\n",
    "x_t = trim_dataset(x_t, BATCH_SIZE)\n",
    "y_t = trim_dataset(y_t, BATCH_SIZE)\n",
    "x_temp, y_temp = build_timeseries(x_test, 3)\n",
    "x_val, x_test_t = np.split(trim_dataset(x_temp, BATCH_SIZE),2)\n",
    "y_val, y_test_t = np.split(trim_dataset(y_temp, BATCH_SIZE),2)"
   ]
  },
  {
   "cell_type": "markdown",
   "metadata": {},
   "source": [
    "### Create Model"
   ]
  },
  {
   "cell_type": "code",
   "execution_count": 14,
   "metadata": {},
   "outputs": [
    {
     "name": "stderr",
     "output_type": "stream",
     "text": [
      "Using TensorFlow backend.\n"
     ]
    }
   ],
   "source": [
    "from keras.models import Sequential, load_model\n",
    "from keras.layers import Dense, Dropout\n",
    "from keras.layers import SimpleRNN\n",
    "from keras.callbacks import ModelCheckpoint, EarlyStopping, ReduceLROnPlateau, CSVLogger\n",
    "from keras import optimizers\n",
    "\n",
    "\n",
    "def create_model():\n",
    "    rnn_model = Sequential()\n",
    "    rnn_model.add(SimpleRNN(100, batch_input_shape=(BATCH_SIZE, TIME_STEPS, x_t.shape[2]), dropout=0.0, recurrent_dropout=0.0, stateful=True, kernel_initializer='random_uniform'))\n",
    "    rnn_model.add(Dropout(0.5))\n",
    "    rnn_model.add(Dense(20,activation='relu'))\n",
    "    rnn_model.add(Dense(1,activation='sigmoid'))\n",
    "    optimizer = optimizers.RMSprop(lr=params[\"lr\"])\n",
    "    rnn_model.compile(loss='mean_squared_error', optimizer=optimizer)\n",
    "    rnn_model.summary()\n",
    "    return rnn_model"
   ]
  },
  {
   "cell_type": "code",
   "execution_count": 15,
   "metadata": {},
   "outputs": [
    {
     "data": {
      "text/plain": [
       "'C:\\\\Users\\\\Victor\\\\Desktop\\\\project5\\\\Stock-Price-Prediction\\\\outputyzjRNN'"
      ]
     },
     "execution_count": 15,
     "metadata": {},
     "output_type": "execute_result"
    }
   ],
   "source": [
    "import os\n",
    "#OUTPUT_PATH ='/home/victor/Stock-Price-Prediction/outputs/'\n",
    "OUTPUT_PATH ='C:\\\\Users\\\\Victor\\\\Desktop\\\\project5\\\\Stock-Price-Prediction\\\\outputyzjRNN'\n",
    "OUTPUT_PATH"
   ]
  },
  {
   "cell_type": "code",
   "execution_count": 16,
   "metadata": {},
   "outputs": [
    {
     "data": {
      "text/plain": [
       "'C:\\\\Users\\\\Victor\\\\Desktop\\\\project5\\\\Stock-Price-Prediction'"
      ]
     },
     "execution_count": 16,
     "metadata": {},
     "output_type": "execute_result"
    }
   ],
   "source": [
    "pwd"
   ]
  },
  {
   "cell_type": "code",
   "execution_count": 17,
   "metadata": {},
   "outputs": [],
   "source": [
    "import pickle"
   ]
  },
  {
   "cell_type": "code",
   "execution_count": 18,
   "metadata": {
    "scrolled": true
   },
   "outputs": [
    {
     "name": "stdout",
     "output_type": "stream",
     "text": [
      "Loaded saved model...\n"
     ]
    },
    {
     "data": {
      "application/vnd.jupyter.widget-view+json": {
       "model_id": "be89743b69ca4e03bbc4f27dab8428f9",
       "version_major": 2,
       "version_minor": 0
      },
      "text/plain": [
       "HBox(children=(IntProgress(value=0, max=576), HTML(value='')))"
      ]
     },
     "metadata": {},
     "output_type": "display_data"
    },
    {
     "name": "stdout",
     "output_type": "stream",
     "text": [
      "\n",
      "length of time-series i/o (576, 60, 5) (576,)\n",
      "Test size (280, 60, 5) (280,) (280, 60, 5) (280,)\n",
      "Building model...\n",
      "checking if GPU available []\n",
      "Model: \"sequential_1\"\n",
      "_________________________________________________________________\n",
      "Layer (type)                 Output Shape              Param #   \n",
      "=================================================================\n",
      "simple_rnn_1 (SimpleRNN)     (20, 100)                 10600     \n",
      "_________________________________________________________________\n",
      "dropout_1 (Dropout)          (20, 100)                 0         \n",
      "_________________________________________________________________\n",
      "dense_1 (Dense)              (20, 20)                  2020      \n",
      "_________________________________________________________________\n",
      "dense_2 (Dense)              (20, 1)                   21        \n",
      "=================================================================\n",
      "Total params: 12,641\n",
      "Trainable params: 12,641\n",
      "Non-trainable params: 0\n",
      "_________________________________________________________________\n",
      "Train on 2480 samples, validate on 280 samples\n",
      "Epoch 1/100\n",
      " - 2s - loss: 0.0249 - val_loss: 0.0199\n",
      "\n",
      "Epoch 00001: val_loss improved from inf to 0.01991, saving model to C:\\Users\\Victor\\Desktop\\project5\\Stock-Price-Prediction\\outputyzjRNN\\best_model.h5\n",
      "Epoch 2/100\n",
      " - 2s - loss: 0.0259 - val_loss: 0.0203\n",
      "\n",
      "Epoch 00002: val_loss did not improve from 0.01991\n",
      "Epoch 3/100\n",
      " - 2s - loss: 0.0124 - val_loss: 0.0054\n",
      "\n",
      "Epoch 00003: val_loss improved from 0.01991 to 0.00540, saving model to C:\\Users\\Victor\\Desktop\\project5\\Stock-Price-Prediction\\outputyzjRNN\\best_model.h5\n",
      "Epoch 4/100\n",
      " - 2s - loss: 0.0107 - val_loss: 0.0060\n",
      "\n",
      "Epoch 00004: val_loss did not improve from 0.00540\n",
      "Epoch 5/100\n",
      " - 2s - loss: 0.0073 - val_loss: 0.0035\n",
      "\n",
      "Epoch 00005: val_loss improved from 0.00540 to 0.00346, saving model to C:\\Users\\Victor\\Desktop\\project5\\Stock-Price-Prediction\\outputyzjRNN\\best_model.h5\n",
      "Epoch 6/100\n",
      " - 2s - loss: 0.0072 - val_loss: 0.0053\n",
      "\n",
      "Epoch 00006: val_loss did not improve from 0.00346\n",
      "Epoch 7/100\n",
      " - 2s - loss: 0.0079 - val_loss: 0.0066\n",
      "\n",
      "Epoch 00007: val_loss did not improve from 0.00346\n",
      "Epoch 8/100\n",
      " - 2s - loss: 0.0068 - val_loss: 0.0033\n",
      "\n",
      "Epoch 00008: val_loss improved from 0.00346 to 0.00331, saving model to C:\\Users\\Victor\\Desktop\\project5\\Stock-Price-Prediction\\outputyzjRNN\\best_model.h5\n",
      "Epoch 9/100\n",
      " - 2s - loss: 0.0059 - val_loss: 0.0023\n",
      "\n",
      "Epoch 00009: val_loss improved from 0.00331 to 0.00226, saving model to C:\\Users\\Victor\\Desktop\\project5\\Stock-Price-Prediction\\outputyzjRNN\\best_model.h5\n",
      "Epoch 10/100\n",
      " - 2s - loss: 0.0063 - val_loss: 0.0022\n",
      "\n",
      "Epoch 00010: val_loss improved from 0.00226 to 0.00222, saving model to C:\\Users\\Victor\\Desktop\\project5\\Stock-Price-Prediction\\outputyzjRNN\\best_model.h5\n",
      "Epoch 11/100\n",
      " - 2s - loss: 0.0050 - val_loss: 0.0022\n",
      "\n",
      "Epoch 00011: val_loss did not improve from 0.00222\n",
      "Epoch 12/100\n",
      " - 2s - loss: 0.0048 - val_loss: 0.0032\n",
      "\n",
      "Epoch 00012: val_loss did not improve from 0.00222\n",
      "Epoch 13/100\n",
      " - 2s - loss: 0.0045 - val_loss: 0.0034\n",
      "\n",
      "Epoch 00013: val_loss did not improve from 0.00222\n",
      "Epoch 14/100\n",
      " - 2s - loss: 0.0041 - val_loss: 0.0022\n",
      "\n",
      "Epoch 00014: val_loss did not improve from 0.00222\n",
      "Epoch 15/100\n",
      " - 2s - loss: 0.0037 - val_loss: 0.0028\n",
      "\n",
      "Epoch 00015: val_loss did not improve from 0.00222\n",
      "Epoch 16/100\n",
      " - 2s - loss: 0.0034 - val_loss: 0.0026\n",
      "\n",
      "Epoch 00016: val_loss did not improve from 0.00222\n",
      "Epoch 17/100\n",
      " - 2s - loss: 0.0032 - val_loss: 0.0026\n",
      "\n",
      "Epoch 00017: val_loss did not improve from 0.00222\n",
      "Epoch 18/100\n",
      " - 2s - loss: 0.0031 - val_loss: 0.0027\n",
      "\n",
      "Epoch 00018: val_loss did not improve from 0.00222\n",
      "Epoch 19/100\n",
      " - 2s - loss: 0.0031 - val_loss: 0.0034\n",
      "\n",
      "Epoch 00019: val_loss did not improve from 0.00222\n",
      "Epoch 20/100\n",
      " - 2s - loss: 0.0028 - val_loss: 0.0030\n",
      "\n",
      "Epoch 00020: val_loss did not improve from 0.00222\n",
      "Epoch 21/100\n",
      " - 2s - loss: 0.0026 - val_loss: 0.0022\n",
      "\n",
      "Epoch 00021: val_loss did not improve from 0.00222\n",
      "Epoch 22/100\n",
      " - 2s - loss: 0.0025 - val_loss: 0.0031\n",
      "\n",
      "Epoch 00022: val_loss did not improve from 0.00222\n",
      "Epoch 23/100\n",
      " - 2s - loss: 0.0026 - val_loss: 0.0026\n",
      "\n",
      "Epoch 00023: val_loss did not improve from 0.00222\n",
      "Epoch 24/100\n",
      " - 2s - loss: 0.0023 - val_loss: 0.0025\n",
      "\n",
      "Epoch 00024: val_loss did not improve from 0.00222\n",
      "Epoch 25/100\n",
      " - 2s - loss: 0.0023 - val_loss: 0.0021\n",
      "\n",
      "Epoch 00025: val_loss improved from 0.00222 to 0.00210, saving model to C:\\Users\\Victor\\Desktop\\project5\\Stock-Price-Prediction\\outputyzjRNN\\best_model.h5\n",
      "Epoch 26/100\n",
      " - 2s - loss: 0.0022 - val_loss: 0.0020\n",
      "\n",
      "Epoch 00026: val_loss improved from 0.00210 to 0.00202, saving model to C:\\Users\\Victor\\Desktop\\project5\\Stock-Price-Prediction\\outputyzjRNN\\best_model.h5\n",
      "Epoch 27/100\n",
      " - 2s - loss: 0.0022 - val_loss: 0.0024\n",
      "\n",
      "Epoch 00027: val_loss did not improve from 0.00202\n",
      "Epoch 28/100\n",
      " - 2s - loss: 0.0020 - val_loss: 0.0019\n",
      "\n",
      "Epoch 00028: val_loss improved from 0.00202 to 0.00192, saving model to C:\\Users\\Victor\\Desktop\\project5\\Stock-Price-Prediction\\outputyzjRNN\\best_model.h5\n",
      "Epoch 29/100\n",
      " - 2s - loss: 0.0019 - val_loss: 0.0016\n",
      "\n",
      "Epoch 00029: val_loss improved from 0.00192 to 0.00163, saving model to C:\\Users\\Victor\\Desktop\\project5\\Stock-Price-Prediction\\outputyzjRNN\\best_model.h5\n",
      "Epoch 30/100\n",
      " - 2s - loss: 0.0020 - val_loss: 0.0023\n",
      "\n",
      "Epoch 00030: val_loss did not improve from 0.00163\n",
      "Epoch 31/100\n",
      " - 2s - loss: 0.0019 - val_loss: 0.0016\n",
      "\n",
      "Epoch 00031: val_loss improved from 0.00163 to 0.00157, saving model to C:\\Users\\Victor\\Desktop\\project5\\Stock-Price-Prediction\\outputyzjRNN\\best_model.h5\n",
      "Epoch 32/100\n",
      " - 2s - loss: 0.0019 - val_loss: 0.0015\n",
      "\n",
      "Epoch 00032: val_loss improved from 0.00157 to 0.00147, saving model to C:\\Users\\Victor\\Desktop\\project5\\Stock-Price-Prediction\\outputyzjRNN\\best_model.h5\n",
      "Epoch 33/100\n",
      " - 2s - loss: 0.0017 - val_loss: 0.0019\n",
      "\n",
      "Epoch 00033: val_loss did not improve from 0.00147\n",
      "Epoch 34/100\n",
      " - 2s - loss: 0.0017 - val_loss: 0.0017\n",
      "\n",
      "Epoch 00034: val_loss did not improve from 0.00147\n",
      "Epoch 35/100\n",
      " - 2s - loss: 0.0018 - val_loss: 0.0016\n",
      "\n",
      "Epoch 00035: val_loss did not improve from 0.00147\n",
      "Epoch 36/100\n",
      " - 2s - loss: 0.0016 - val_loss: 0.0013\n",
      "\n",
      "Epoch 00036: val_loss improved from 0.00147 to 0.00128, saving model to C:\\Users\\Victor\\Desktop\\project5\\Stock-Price-Prediction\\outputyzjRNN\\best_model.h5\n",
      "Epoch 37/100\n",
      " - 2s - loss: 0.0017 - val_loss: 0.0016\n",
      "\n",
      "Epoch 00037: val_loss did not improve from 0.00128\n",
      "Epoch 38/100\n",
      " - 2s - loss: 0.0016 - val_loss: 0.0031\n",
      "\n",
      "Epoch 00038: val_loss did not improve from 0.00128\n",
      "Epoch 39/100\n",
      " - 2s - loss: 0.0015 - val_loss: 0.0016\n",
      "\n",
      "Epoch 00039: val_loss did not improve from 0.00128\n",
      "Epoch 40/100\n",
      " - 2s - loss: 0.0015 - val_loss: 0.0016\n",
      "\n",
      "Epoch 00040: val_loss did not improve from 0.00128\n",
      "Epoch 41/100\n",
      " - 2s - loss: 0.0015 - val_loss: 0.0015\n",
      "\n",
      "Epoch 00041: val_loss did not improve from 0.00128\n",
      "Epoch 42/100\n",
      " - 2s - loss: 0.0014 - val_loss: 0.0014\n",
      "\n",
      "Epoch 00042: val_loss did not improve from 0.00128\n",
      "Epoch 43/100\n",
      " - 2s - loss: 0.0014 - val_loss: 0.0016\n",
      "\n",
      "Epoch 00043: val_loss did not improve from 0.00128\n",
      "Epoch 44/100\n",
      " - 2s - loss: 0.0015 - val_loss: 0.0020\n",
      "\n",
      "Epoch 00044: val_loss did not improve from 0.00128\n",
      "Epoch 45/100\n",
      " - 2s - loss: 0.0014 - val_loss: 0.0014\n",
      "\n",
      "Epoch 00045: val_loss did not improve from 0.00128\n",
      "Epoch 46/100\n",
      " - 2s - loss: 0.0014 - val_loss: 0.0016\n",
      "\n",
      "Epoch 00046: val_loss did not improve from 0.00128\n",
      "Epoch 47/100\n",
      " - 2s - loss: 0.0013 - val_loss: 0.0011\n",
      "\n",
      "Epoch 00047: val_loss improved from 0.00128 to 0.00110, saving model to C:\\Users\\Victor\\Desktop\\project5\\Stock-Price-Prediction\\outputyzjRNN\\best_model.h5\n",
      "Epoch 48/100\n",
      " - 2s - loss: 0.0012 - val_loss: 0.0011\n",
      "\n",
      "Epoch 00048: val_loss did not improve from 0.00110\n",
      "Epoch 49/100\n",
      " - 2s - loss: 0.0013 - val_loss: 0.0013\n",
      "\n",
      "Epoch 00049: val_loss did not improve from 0.00110\n",
      "Epoch 50/100\n",
      " - 2s - loss: 0.0014 - val_loss: 0.0011\n",
      "\n",
      "Epoch 00050: val_loss improved from 0.00110 to 0.00108, saving model to C:\\Users\\Victor\\Desktop\\project5\\Stock-Price-Prediction\\outputyzjRNN\\best_model.h5\n",
      "Epoch 51/100\n",
      " - 2s - loss: 0.0013 - val_loss: 0.0010\n",
      "\n",
      "Epoch 00051: val_loss improved from 0.00108 to 0.00100, saving model to C:\\Users\\Victor\\Desktop\\project5\\Stock-Price-Prediction\\outputyzjRNN\\best_model.h5\n",
      "Epoch 52/100\n",
      " - 2s - loss: 0.0013 - val_loss: 0.0010\n",
      "\n",
      "Epoch 00052: val_loss did not improve from 0.00100\n",
      "Epoch 53/100\n",
      " - 2s - loss: 0.0012 - val_loss: 0.0011\n",
      "\n",
      "Epoch 00053: val_loss did not improve from 0.00100\n",
      "Epoch 54/100\n",
      " - 2s - loss: 0.0013 - val_loss: 0.0011\n",
      "\n",
      "Epoch 00054: val_loss did not improve from 0.00100\n",
      "Epoch 55/100\n",
      " - 2s - loss: 0.0012 - val_loss: 0.0010\n",
      "\n",
      "Epoch 00055: val_loss did not improve from 0.00100\n",
      "Epoch 56/100\n",
      " - 2s - loss: 0.0012 - val_loss: 7.1834e-04\n",
      "\n",
      "Epoch 00056: val_loss improved from 0.00100 to 0.00072, saving model to C:\\Users\\Victor\\Desktop\\project5\\Stock-Price-Prediction\\outputyzjRNN\\best_model.h5\n",
      "Epoch 57/100\n",
      " - 2s - loss: 0.0012 - val_loss: 6.6875e-04\n",
      "\n",
      "Epoch 00057: val_loss improved from 0.00072 to 0.00067, saving model to C:\\Users\\Victor\\Desktop\\project5\\Stock-Price-Prediction\\outputyzjRNN\\best_model.h5\n",
      "Epoch 58/100\n",
      " - 2s - loss: 0.0011 - val_loss: 7.3520e-04\n",
      "\n",
      "Epoch 00058: val_loss did not improve from 0.00067\n",
      "Epoch 59/100\n",
      " - 2s - loss: 0.0012 - val_loss: 7.8117e-04\n",
      "\n",
      "Epoch 00059: val_loss did not improve from 0.00067\n",
      "Epoch 60/100\n",
      " - 2s - loss: 0.0012 - val_loss: 6.7082e-04\n",
      "\n",
      "Epoch 00060: val_loss did not improve from 0.00067\n",
      "Epoch 61/100\n",
      " - 2s - loss: 0.0011 - val_loss: 9.5545e-04\n",
      "\n",
      "Epoch 00061: val_loss did not improve from 0.00067\n",
      "Epoch 62/100\n",
      " - 2s - loss: 0.0011 - val_loss: 6.1178e-04\n",
      "\n",
      "Epoch 00062: val_loss improved from 0.00067 to 0.00061, saving model to C:\\Users\\Victor\\Desktop\\project5\\Stock-Price-Prediction\\outputyzjRNN\\best_model.h5\n",
      "Epoch 63/100\n",
      " - 2s - loss: 0.0011 - val_loss: 0.0016\n",
      "\n",
      "Epoch 00063: val_loss did not improve from 0.00061\n",
      "Epoch 64/100\n",
      " - 2s - loss: 0.0011 - val_loss: 6.5862e-04\n",
      "\n",
      "Epoch 00064: val_loss did not improve from 0.00061\n",
      "Epoch 65/100\n",
      " - 2s - loss: 0.0011 - val_loss: 6.7270e-04\n",
      "\n",
      "Epoch 00065: val_loss did not improve from 0.00061\n",
      "Epoch 66/100\n",
      " - 2s - loss: 0.0011 - val_loss: 5.2725e-04\n",
      "\n",
      "Epoch 00066: val_loss improved from 0.00061 to 0.00053, saving model to C:\\Users\\Victor\\Desktop\\project5\\Stock-Price-Prediction\\outputyzjRNN\\best_model.h5\n",
      "Epoch 67/100\n",
      " - 2s - loss: 0.0010 - val_loss: 5.9773e-04\n",
      "\n",
      "Epoch 00067: val_loss did not improve from 0.00053\n",
      "Epoch 68/100\n",
      " - 2s - loss: 0.0010 - val_loss: 5.6130e-04\n",
      "\n",
      "Epoch 00068: val_loss did not improve from 0.00053\n",
      "Epoch 69/100\n",
      " - 2s - loss: 0.0010 - val_loss: 6.9078e-04\n",
      "\n",
      "Epoch 00069: val_loss did not improve from 0.00053\n",
      "Epoch 70/100\n",
      " - 2s - loss: 0.0010 - val_loss: 4.8806e-04\n",
      "\n",
      "Epoch 00070: val_loss improved from 0.00053 to 0.00049, saving model to C:\\Users\\Victor\\Desktop\\project5\\Stock-Price-Prediction\\outputyzjRNN\\best_model.h5\n",
      "Epoch 71/100\n",
      " - 2s - loss: 9.3985e-04 - val_loss: 5.3396e-04\n",
      "\n",
      "Epoch 00071: val_loss did not improve from 0.00049\n",
      "Epoch 72/100\n",
      " - 2s - loss: 9.3259e-04 - val_loss: 4.2050e-04\n",
      "\n",
      "Epoch 00072: val_loss improved from 0.00049 to 0.00042, saving model to C:\\Users\\Victor\\Desktop\\project5\\Stock-Price-Prediction\\outputyzjRNN\\best_model.h5\n",
      "Epoch 73/100\n",
      " - 2s - loss: 0.0010 - val_loss: 5.3233e-04\n",
      "\n",
      "Epoch 00073: val_loss did not improve from 0.00042\n",
      "Epoch 74/100\n",
      " - 2s - loss: 0.0011 - val_loss: 6.0769e-04\n",
      "\n",
      "Epoch 00074: val_loss did not improve from 0.00042\n",
      "Epoch 75/100\n",
      " - 2s - loss: 9.3290e-04 - val_loss: 4.6867e-04\n",
      "\n",
      "Epoch 00075: val_loss did not improve from 0.00042\n",
      "Epoch 76/100\n",
      " - 2s - loss: 0.0010 - val_loss: 5.9161e-04\n",
      "\n",
      "Epoch 00076: val_loss did not improve from 0.00042\n",
      "Epoch 77/100\n",
      " - 2s - loss: 9.9599e-04 - val_loss: 4.3310e-04\n",
      "\n",
      "Epoch 00077: val_loss did not improve from 0.00042\n",
      "Epoch 78/100\n",
      " - 2s - loss: 9.6383e-04 - val_loss: 3.7588e-04\n",
      "\n",
      "Epoch 00078: val_loss improved from 0.00042 to 0.00038, saving model to C:\\Users\\Victor\\Desktop\\project5\\Stock-Price-Prediction\\outputyzjRNN\\best_model.h5\n",
      "Epoch 79/100\n",
      " - 2s - loss: 8.9372e-04 - val_loss: 3.9394e-04\n",
      "\n",
      "Epoch 00079: val_loss did not improve from 0.00038\n",
      "Epoch 80/100\n",
      " - 2s - loss: 9.5871e-04 - val_loss: 4.7182e-04\n",
      "\n",
      "Epoch 00080: val_loss did not improve from 0.00038\n",
      "Epoch 81/100\n",
      " - 2s - loss: 8.6812e-04 - val_loss: 4.7552e-04\n",
      "\n",
      "Epoch 00081: val_loss did not improve from 0.00038\n",
      "Epoch 82/100\n",
      " - 2s - loss: 9.2279e-04 - val_loss: 3.8204e-04\n",
      "\n",
      "Epoch 00082: val_loss did not improve from 0.00038\n",
      "Epoch 83/100\n",
      " - 2s - loss: 9.1885e-04 - val_loss: 3.9484e-04\n",
      "\n",
      "Epoch 00083: val_loss did not improve from 0.00038\n",
      "Epoch 84/100\n",
      " - 2s - loss: 8.4759e-04 - val_loss: 3.9079e-04\n",
      "\n",
      "Epoch 00084: val_loss did not improve from 0.00038\n",
      "Epoch 85/100\n",
      " - 2s - loss: 9.2295e-04 - val_loss: 4.4506e-04\n",
      "\n",
      "Epoch 00085: val_loss did not improve from 0.00038\n",
      "Epoch 86/100\n",
      " - 2s - loss: 8.8664e-04 - val_loss: 3.3127e-04\n",
      "\n",
      "Epoch 00086: val_loss improved from 0.00038 to 0.00033, saving model to C:\\Users\\Victor\\Desktop\\project5\\Stock-Price-Prediction\\outputyzjRNN\\best_model.h5\n",
      "Epoch 87/100\n",
      " - 2s - loss: 9.0447e-04 - val_loss: 3.5512e-04\n",
      "\n",
      "Epoch 00087: val_loss did not improve from 0.00033\n",
      "Epoch 88/100\n",
      " - 2s - loss: 8.5827e-04 - val_loss: 3.7887e-04\n",
      "\n",
      "Epoch 00088: val_loss did not improve from 0.00033\n",
      "Epoch 89/100\n",
      " - 2s - loss: 8.2792e-04 - val_loss: 3.2744e-04\n",
      "\n",
      "Epoch 00089: val_loss improved from 0.00033 to 0.00033, saving model to C:\\Users\\Victor\\Desktop\\project5\\Stock-Price-Prediction\\outputyzjRNN\\best_model.h5\n",
      "Epoch 90/100\n",
      " - 2s - loss: 8.6842e-04 - val_loss: 5.5453e-04\n",
      "\n",
      "Epoch 00090: val_loss did not improve from 0.00033\n",
      "Epoch 91/100\n",
      " - 2s - loss: 8.4476e-04 - val_loss: 3.6919e-04\n",
      "\n",
      "Epoch 00091: val_loss did not improve from 0.00033\n",
      "Epoch 92/100\n",
      " - 2s - loss: 8.4136e-04 - val_loss: 3.8960e-04\n",
      "\n",
      "Epoch 00092: val_loss did not improve from 0.00033\n",
      "Epoch 93/100\n",
      " - 2s - loss: 8.5932e-04 - val_loss: 3.9546e-04\n",
      "\n",
      "Epoch 00093: val_loss did not improve from 0.00033\n",
      "Epoch 94/100\n",
      " - 2s - loss: 8.5653e-04 - val_loss: 3.8120e-04\n",
      "\n",
      "Epoch 00094: val_loss did not improve from 0.00033\n",
      "Epoch 95/100\n",
      " - 2s - loss: 8.5443e-04 - val_loss: 3.7376e-04\n",
      "\n",
      "Epoch 00095: val_loss did not improve from 0.00033\n",
      "Epoch 96/100\n",
      " - 2s - loss: 8.8213e-04 - val_loss: 3.3575e-04\n",
      "\n",
      "Epoch 00096: val_loss did not improve from 0.00033\n",
      "Epoch 97/100\n",
      " - 2s - loss: 8.4663e-04 - val_loss: 2.7152e-04\n",
      "\n",
      "Epoch 00097: val_loss improved from 0.00033 to 0.00027, saving model to C:\\Users\\Victor\\Desktop\\project5\\Stock-Price-Prediction\\outputyzjRNN\\best_model.h5\n",
      "Epoch 98/100\n",
      " - 2s - loss: 8.5005e-04 - val_loss: 3.9745e-04\n",
      "\n",
      "Epoch 00098: val_loss did not improve from 0.00027\n",
      "Epoch 99/100\n",
      " - 2s - loss: 7.9357e-04 - val_loss: 3.3781e-04\n",
      "\n",
      "Epoch 00099: val_loss did not improve from 0.00027\n",
      "Epoch 100/100\n",
      " - 2s - loss: 8.3230e-04 - val_loss: 2.9958e-04\n",
      "\n",
      "Epoch 00100: val_loss did not improve from 0.00027\n",
      "saving model...\n"
     ]
    }
   ],
   "source": [
    "model = None\n",
    "try:\n",
    "    model = pickle.load(open(\"RNN_model\", 'rb'))\n",
    "    print(\"Loaded saved model...\")\n",
    "except FileNotFoundError:\n",
    "    print(\"Model not found\")\n",
    "\n",
    "\n",
    "x_temp, y_temp = build_timeseries(x_test, 3)\n",
    "x_val, x_test_t = np.split(trim_dataset(x_temp, BATCH_SIZE),2)\n",
    "y_val, y_test_t = np.split(trim_dataset(y_temp, BATCH_SIZE),2)\n",
    "\n",
    "print(\"Test size\", x_test_t.shape, y_test_t.shape, x_val.shape, y_val.shape)\n",
    "    \n",
    "is_update_model = True\n",
    "if model is None or is_update_model:\n",
    "    from keras import backend as K\n",
    "    print(\"Building model...\")\n",
    "    print(\"checking if GPU available\", K.tensorflow_backend._get_available_gpus())\n",
    "    model = create_model()\n",
    "    \n",
    "    es = EarlyStopping(monitor='val_loss', mode='min', verbose=1,\n",
    "                       patience=40, min_delta=0.0001)\n",
    "    \n",
    "    mcp = ModelCheckpoint(os.path.join(OUTPUT_PATH,\n",
    "                          \"best_model.h5\"), monitor='val_loss', verbose=1,\n",
    "                          save_best_only=True, save_weights_only=False, mode='min', period=1)\n",
    "\n",
    "    # Not used here. But leaving it here as a reminder for future\n",
    "    r_lr_plat = ReduceLROnPlateau(monitor='val_loss', factor=0.1, patience=30, \n",
    "                                  verbose=0, mode='auto', min_delta=0.0001, cooldown=0, min_lr=0)\n",
    "    \n",
    "   ## csv_logger = CSVLogger(os.path.join(OUTPUT_PATH, 'training_log_' + time.ctime().replace(\" \",\"_\") + '.log'), append=True)\n",
    "    csv_logger = CSVLogger(os.path.join(OUTPUT_PATH, 'training_log_' + time.strftime(\"%a %b %d %H %M %S %Y\", time.localtime()) + '.log'), append=True)\n",
    "    \n",
    "  #  csv_logger = CSVLogger(os.path.join(OUTPUT_PATH, 'training_log_'  + '.log'), append=True)\n",
    "    \n",
    "    history = model.fit(x_t, y_t, epochs=params[\"epochs\"], verbose=2, batch_size=BATCH_SIZE,\n",
    "                        shuffle=False, validation_data=(trim_dataset(x_val, BATCH_SIZE),\n",
    "                        trim_dataset(y_val, BATCH_SIZE)), callbacks=[es, mcp, csv_logger])\n",
    "    \n",
    "    print(\"saving model...\")\n",
    "    pickle.dump(model, open(\"RNN_model\", \"wb\"))"
   ]
  },
  {
   "cell_type": "code",
   "execution_count": 19,
   "metadata": {},
   "outputs": [
    {
     "name": "stdout",
     "output_type": "stream",
     "text": [
      "Mean Square Error is 0.00033741715107552347 (280,) (280,)\n",
      "[0.38325742 0.38193205 0.3888589  0.40160197 0.41626245 0.42054385\n",
      " 0.39759848 0.38146865 0.36415493 0.3565418  0.35487077 0.36116534\n",
      " 0.36450028 0.37116003 0.38589367]\n",
      "[0.3877551  0.39591837 0.41632653 0.44081633 0.36326531 0.37142857\n",
      " 0.3755102  0.37142857 0.36326531 0.35102041 0.3755102  0.36734694\n",
      " 0.3877551  0.4        0.40816327]\n"
     ]
    }
   ],
   "source": [
    "from sklearn.metrics import mean_squared_error\n",
    "# model.evaluate(x_test_t, y_test_t, batch_size=BATCH_SIZE\n",
    "y_pred = model.predict(trim_dataset(x_test_t, BATCH_SIZE), batch_size=BATCH_SIZE)\n",
    "y_pred = y_pred.flatten()\n",
    "y_test_t = trim_dataset(y_test_t, BATCH_SIZE)\n",
    "error = mean_squared_error(y_test_t, y_pred)\n",
    "print(\"Mean Square Error is\", error, y_pred.shape, y_test_t.shape)\n",
    "print(y_pred[0:15])\n",
    "print(y_test_t[0:15])"
   ]
  },
  {
   "cell_type": "code",
   "execution_count": 20,
   "metadata": {},
   "outputs": [
    {
     "name": "stdout",
     "output_type": "stream",
     "text": [
      "[1.2289807 1.2257335 1.2427044 1.2739248 1.309843  1.3203324 1.2641163\n",
      " 1.2245982 1.1821796 1.1635275 1.1594334 1.1748551 1.1830257 1.1993421\n",
      " 1.2354395]\n",
      "[1.24 1.26 1.31 1.37 1.18 1.2  1.21 1.2  1.18 1.15 1.21 1.19 1.24 1.27\n",
      " 1.29]\n"
     ]
    }
   ],
   "source": [
    "# convert the predicted value to range of real data\n",
    "y_pred_org = (y_pred * min_max_scaler.data_range_[3]) + min_max_scaler.data_min_[3]\n",
    "# min_max_scaler.inverse_transform(y_pred)\n",
    "y_test_t_org = (y_test_t * min_max_scaler.data_range_[3]) + min_max_scaler.data_min_[3]\n",
    "# min_max_scaler.inverse_transform(y_test_t)\n",
    "print(y_pred_org[0:15])\n",
    "print(y_test_t_org[0:15])"
   ]
  },
  {
   "cell_type": "code",
   "execution_count": 21,
   "metadata": {},
   "outputs": [],
   "source": [
    "import numpy as np\n",
    "\n",
    "def mean_absolute_percentage_error(y_test_t, y_pred): \n",
    "    y_test_t, y_pred = np.array(y_test_t), np.array(y_pred)\n",
    "    return np.mean(np.abs((y_test_t - y_pred) / y_test_t)) * 100"
   ]
  },
  {
   "cell_type": "code",
   "execution_count": 22,
   "metadata": {},
   "outputs": [
    {
     "data": {
      "text/plain": [
       "3.622967744813457"
      ]
     },
     "execution_count": 22,
     "metadata": {},
     "output_type": "execute_result"
    }
   ],
   "source": [
    "mean_absolute_percentage_error(y_test_t, y_pred)"
   ]
  },
  {
   "cell_type": "code",
   "execution_count": 23,
   "metadata": {},
   "outputs": [],
   "source": [
    "#score, acc = model.evaluate(trim_dataset(x_test_t,BATCH_SIZE),trim_dataset(y_test_t,BATCH_SIZE),batch_size=BATCH_SIZE)\n",
    "#print('Test score:', score)\n",
    "#print('Test accuracy:', acc)"
   ]
  },
  {
   "cell_type": "code",
   "execution_count": 24,
   "metadata": {},
   "outputs": [
    {
     "data": {
      "image/png": "[encoded data removed]",
      "text/plain": [
       "<Figure size 720x360 with 1 Axes>"
      ]
     },
     "metadata": {
      "needs_background": "light"
     },
     "output_type": "display_data"
    }
   ],
   "source": [
    "# Visualize the training data\n",
    "from matplotlib import pyplot as plt\n",
    "#plt.figure()\n",
    "plt.figure(figsize=(10,5))\n",
    "plt.plot(history.history['loss'])\n",
    "plt.plot(history.history['val_loss'])\n",
    "plt.title('RNN Model loss')\n",
    "plt.ylabel('MSE')\n",
    "plt.xlabel('Epoch')\n",
    "plt.legend(['Train', 'Validation'], loc='upper left')\n",
    "#plt.show()\n",
    "#plt.savefig(os.path.join(OUTPUT_PATH, 'train_vis_BS_'+str(BATCH_SIZE)+\"_\"+time.ctime()+'.png'))\n",
    "plt.savefig(os.path.join(OUTPUT_PATH, 'train_vis_BS_'+str(BATCH_SIZE)+\"_\"+time.strftime(\"%a %b %d %H %M %S %Y\", time.localtime())+'.png'))"
   ]
  },
  {
   "cell_type": "code",
   "execution_count": 25,
   "metadata": {
    "scrolled": false
   },
   "outputs": [
    {
     "name": "stdout",
     "output_type": "stream",
     "text": [
      "<keras.engine.sequential.Sequential object at 0x0000000017B64C88>\n",
      "Mean Square Error is 0.0003137800932538955 (280,) (280,)\n",
      "[0.3885719  0.39000404 0.39542544 0.40577817 0.4200345  0.4209255\n",
      " 0.40251398 0.38460937 0.3656994  0.35987127 0.35600185 0.36053717\n",
      " 0.36695725 0.37459698 0.38291085]\n",
      "[0.3877551  0.39591837 0.41632653 0.44081633 0.36326531 0.37142857\n",
      " 0.3755102  0.37142857 0.36326531 0.35102041 0.3755102  0.36734694\n",
      " 0.3877551  0.4        0.40816327]\n",
      "[1.2420012 1.2455099 1.2587923 1.2841566 1.3190845 1.3212675 1.2761593\n",
      " 1.232293  1.1859635 1.1716846 1.1622045 1.1733161 1.1890453 1.2077626\n",
      " 1.2281315]\n",
      "[1.24 1.26 1.31 1.37 1.18 1.2  1.21 1.2  1.18 1.15 1.21 1.19 1.24 1.27\n",
      " 1.29]\n"
     ]
    }
   ],
   "source": [
    "# load the saved best model from above\n",
    "saved_model = load_model(os.path.join(OUTPUT_PATH, 'best_model.h5')) # , \"lstm_best_7-3-19_12AM\",\n",
    "print(saved_model)\n",
    "\n",
    "y_pred = saved_model.predict(trim_dataset(x_test_t, BATCH_SIZE), batch_size=BATCH_SIZE)\n",
    "y_pred = y_pred.flatten()\n",
    "y_test_t = trim_dataset(y_test_t, BATCH_SIZE)\n",
    "error = mean_squared_error(y_test_t, y_pred)\n",
    "print(\"Mean Square Error is\", error, y_pred.shape, y_test_t.shape)\n",
    "print(y_pred[0:15])\n",
    "print(y_test_t[0:15])\n",
    "y_pred_org = (y_pred * min_max_scaler.data_range_[3]) + min_max_scaler.data_min_[3] # min_max_scaler.inverse_transform(y_pred)\n",
    "y_test_t_org = (y_test_t * min_max_scaler.data_range_[3]) + min_max_scaler.data_min_[3] # min_max_scaler.inverse_transform(y_test_t)\n",
    "print(y_pred_org[0:15])\n",
    "print(y_test_t_org[0:15])\n"
   ]
  },
  {
   "cell_type": "code",
   "execution_count": 26,
   "metadata": {},
   "outputs": [],
   "source": [
    "import numpy as np\n",
    "\n",
    "def mean_absolute_percentage_error(y_test_t, y_pred): \n",
    "    y_test_t, y_pred = np.array(y_test_t), np.array(y_pred)\n",
    "    return np.mean(np.abs((y_test_t - y_pred) / y_test_t)) * 100"
   ]
  },
  {
   "cell_type": "code",
   "execution_count": 27,
   "metadata": {},
   "outputs": [
    {
     "data": {
      "text/plain": [
       "3.396772480092235"
      ]
     },
     "execution_count": 27,
     "metadata": {},
     "output_type": "execute_result"
    }
   ],
   "source": [
    "mean_absolute_percentage_error(y_test_t, y_pred)"
   ]
  },
  {
   "cell_type": "code",
   "execution_count": 28,
   "metadata": {},
   "outputs": [],
   "source": [
    "def print_time(text, stime):\n",
    "    seconds = (time.time()-stime)\n",
    "    print(text, seconds//60,\"minutes : \",np.round(seconds%60),\"seconds\")\n"
   ]
  },
  {
   "cell_type": "code",
   "execution_count": 29,
   "metadata": {},
   "outputs": [
    {
     "name": "stdout",
     "output_type": "stream",
     "text": [
      "program completed  3.0 minutes :  10.0 seconds\n"
     ]
    },
    {
     "data": {
      "image/png": "[encoded data removed]",
      "text/plain": [
       "<Figure size 720x360 with 1 Axes>"
      ]
     },
     "metadata": {
      "needs_background": "light"
     },
     "output_type": "display_data"
    }
   ],
   "source": [
    "# Visualize the prediction\n",
    "from matplotlib import pyplot as plt\n",
    "#plt.figure()\n",
    "plt.figure(figsize=(10,5))\n",
    "plt.plot(y_pred_org)\n",
    "plt.plot(y_test_t_org)\n",
    "plt.title('Simple RNN Prediction vs Real Stock Price')\n",
    "plt.ylabel('Price')\n",
    "plt.xlabel('Days')\n",
    "plt.legend(['Prediction', 'Real'], loc='upper left')\n",
    "#plt.show()\n",
    "##plt.savefig(os.path.join(OUTPUT_PATH, 'pred_vs_real_BS'+str(BATCH_SIZE)+\"_\"+time.ctime()+'.png'))\n",
    "plt.savefig(os.path.join(OUTPUT_PATH, 'pred_vs_real_BS'+str(BATCH_SIZE)+\"_\"+time.strftime(\"%a %b %d %H %M %S %Y\", time.localtime())+'.png'))\n",
    "print_time(\"program completed \", stime)"
   ]
  },
  {
   "cell_type": "code",
   "execution_count": null,
   "metadata": {},
   "outputs": [],
   "source": []
  }
 ],
 "metadata": {
  "kernelspec": {
   "display_name": "Python 3",
   "language": "python",
   "name": "python3"
  },
  "language_info": {
   "codemirror_mode": {
    "name": "ipython",
    "version": 3
   },
   "file_extension": ".py",
   "mimetype": "text/x-python",
   "name": "python",
   "nbconvert_exporter": "python",
   "pygments_lexer": "ipython3",
   "version": "3.7.4"
  }
 },
 "nbformat": 4,
 "nbformat_minor": 2
}
