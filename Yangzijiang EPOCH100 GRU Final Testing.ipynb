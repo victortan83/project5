{
 "cells": [
  {
   "cell_type": "code",
   "execution_count": 1,
   "metadata": {},
   "outputs": [
    {
     "data": {
      "text/html": [
       "<div>\n",
       "<style scoped>\n",
       "    .dataframe tbody tr th:only-of-type {\n",
       "        vertical-align: middle;\n",
       "    }\n",
       "\n",
       "    .dataframe tbody tr th {\n",
       "        vertical-align: top;\n",
       "    }\n",
       "\n",
       "    .dataframe thead th {\n",
       "        text-align: right;\n",
       "    }\n",
       "</style>\n",
       "<table border=\"1\" class=\"dataframe\">\n",
       "  <thead>\n",
       "    <tr style=\"text-align: right;\">\n",
       "      <th></th>\n",
       "      <th>Date</th>\n",
       "      <th>Open</th>\n",
       "      <th>High</th>\n",
       "      <th>Low</th>\n",
       "      <th>Close</th>\n",
       "      <th>Adj Close</th>\n",
       "      <th>Volume</th>\n",
       "    </tr>\n",
       "  </thead>\n",
       "  <tbody>\n",
       "    <tr>\n",
       "      <td>3174</td>\n",
       "      <td>12/16/2019</td>\n",
       "      <td>1.13</td>\n",
       "      <td>1.13</td>\n",
       "      <td>1.09</td>\n",
       "      <td>1.10</td>\n",
       "      <td>1.10</td>\n",
       "      <td>27908700</td>\n",
       "    </tr>\n",
       "    <tr>\n",
       "      <td>3175</td>\n",
       "      <td>12/17/2019</td>\n",
       "      <td>1.10</td>\n",
       "      <td>1.11</td>\n",
       "      <td>1.07</td>\n",
       "      <td>1.07</td>\n",
       "      <td>1.07</td>\n",
       "      <td>32804600</td>\n",
       "    </tr>\n",
       "    <tr>\n",
       "      <td>3176</td>\n",
       "      <td>12/18/2019</td>\n",
       "      <td>1.08</td>\n",
       "      <td>1.11</td>\n",
       "      <td>1.08</td>\n",
       "      <td>1.09</td>\n",
       "      <td>1.09</td>\n",
       "      <td>38128700</td>\n",
       "    </tr>\n",
       "    <tr>\n",
       "      <td>3177</td>\n",
       "      <td>12/19/2019</td>\n",
       "      <td>1.09</td>\n",
       "      <td>1.09</td>\n",
       "      <td>1.07</td>\n",
       "      <td>1.08</td>\n",
       "      <td>1.08</td>\n",
       "      <td>20343100</td>\n",
       "    </tr>\n",
       "    <tr>\n",
       "      <td>3178</td>\n",
       "      <td>12/20/2019</td>\n",
       "      <td>1.08</td>\n",
       "      <td>1.09</td>\n",
       "      <td>1.07</td>\n",
       "      <td>1.07</td>\n",
       "      <td>1.07</td>\n",
       "      <td>33596100</td>\n",
       "    </tr>\n",
       "  </tbody>\n",
       "</table>\n",
       "</div>"
      ],
      "text/plain": [
       "            Date  Open  High   Low  Close  Adj Close    Volume\n",
       "3174  12/16/2019  1.13  1.13  1.09   1.10       1.10  27908700\n",
       "3175  12/17/2019  1.10  1.11  1.07   1.07       1.07  32804600\n",
       "3176  12/18/2019  1.08  1.11  1.08   1.09       1.09  38128700\n",
       "3177  12/19/2019  1.09  1.09  1.07   1.08       1.08  20343100\n",
       "3178  12/20/2019  1.08  1.09  1.07   1.07       1.07  33596100"
      ]
     },
     "execution_count": 1,
     "metadata": {},
     "output_type": "execute_result"
    }
   ],
   "source": [
    "import pandas as pd \n",
    "\n",
    "\n",
    "df_Yzj = pd.read_csv('BS6.SI.CSV')\n",
    "df_Yzj.tail()"
   ]
  },
  {
   "cell_type": "code",
   "execution_count": 2,
   "metadata": {},
   "outputs": [
    {
     "data": {
      "text/html": [
       "<div>\n",
       "<style scoped>\n",
       "    .dataframe tbody tr th:only-of-type {\n",
       "        vertical-align: middle;\n",
       "    }\n",
       "\n",
       "    .dataframe tbody tr th {\n",
       "        vertical-align: top;\n",
       "    }\n",
       "\n",
       "    .dataframe thead th {\n",
       "        text-align: right;\n",
       "    }\n",
       "</style>\n",
       "<table border=\"1\" class=\"dataframe\">\n",
       "  <thead>\n",
       "    <tr style=\"text-align: right;\">\n",
       "      <th></th>\n",
       "      <th>Date</th>\n",
       "      <th>Open</th>\n",
       "      <th>High</th>\n",
       "      <th>Low</th>\n",
       "      <th>Close</th>\n",
       "      <th>Adj Close</th>\n",
       "      <th>Volume</th>\n",
       "    </tr>\n",
       "  </thead>\n",
       "  <tbody>\n",
       "    <tr>\n",
       "      <td>0</td>\n",
       "      <td>4/18/2007</td>\n",
       "      <td>1.35</td>\n",
       "      <td>1.39</td>\n",
       "      <td>1.33</td>\n",
       "      <td>1.34</td>\n",
       "      <td>0.842029</td>\n",
       "      <td>413736000</td>\n",
       "    </tr>\n",
       "    <tr>\n",
       "      <td>1</td>\n",
       "      <td>4/19/2007</td>\n",
       "      <td>1.35</td>\n",
       "      <td>1.35</td>\n",
       "      <td>1.26</td>\n",
       "      <td>1.27</td>\n",
       "      <td>0.798042</td>\n",
       "      <td>95804</td>\n",
       "    </tr>\n",
       "    <tr>\n",
       "      <td>2</td>\n",
       "      <td>4/20/2007</td>\n",
       "      <td>1.28</td>\n",
       "      <td>1.31</td>\n",
       "      <td>1.28</td>\n",
       "      <td>1.30</td>\n",
       "      <td>0.816894</td>\n",
       "      <td>70064</td>\n",
       "    </tr>\n",
       "    <tr>\n",
       "      <td>3</td>\n",
       "      <td>4/23/2007</td>\n",
       "      <td>1.31</td>\n",
       "      <td>1.31</td>\n",
       "      <td>1.26</td>\n",
       "      <td>1.27</td>\n",
       "      <td>0.798042</td>\n",
       "      <td>36099</td>\n",
       "    </tr>\n",
       "    <tr>\n",
       "      <td>4</td>\n",
       "      <td>4/24/2007</td>\n",
       "      <td>1.26</td>\n",
       "      <td>1.27</td>\n",
       "      <td>1.26</td>\n",
       "      <td>1.27</td>\n",
       "      <td>0.798042</td>\n",
       "      <td>14422</td>\n",
       "    </tr>\n",
       "    <tr>\n",
       "      <td>...</td>\n",
       "      <td>...</td>\n",
       "      <td>...</td>\n",
       "      <td>...</td>\n",
       "      <td>...</td>\n",
       "      <td>...</td>\n",
       "      <td>...</td>\n",
       "      <td>...</td>\n",
       "    </tr>\n",
       "    <tr>\n",
       "      <td>3174</td>\n",
       "      <td>12/16/2019</td>\n",
       "      <td>1.13</td>\n",
       "      <td>1.13</td>\n",
       "      <td>1.09</td>\n",
       "      <td>1.10</td>\n",
       "      <td>1.100000</td>\n",
       "      <td>27908700</td>\n",
       "    </tr>\n",
       "    <tr>\n",
       "      <td>3175</td>\n",
       "      <td>12/17/2019</td>\n",
       "      <td>1.10</td>\n",
       "      <td>1.11</td>\n",
       "      <td>1.07</td>\n",
       "      <td>1.07</td>\n",
       "      <td>1.070000</td>\n",
       "      <td>32804600</td>\n",
       "    </tr>\n",
       "    <tr>\n",
       "      <td>3176</td>\n",
       "      <td>12/18/2019</td>\n",
       "      <td>1.08</td>\n",
       "      <td>1.11</td>\n",
       "      <td>1.08</td>\n",
       "      <td>1.09</td>\n",
       "      <td>1.090000</td>\n",
       "      <td>38128700</td>\n",
       "    </tr>\n",
       "    <tr>\n",
       "      <td>3177</td>\n",
       "      <td>12/19/2019</td>\n",
       "      <td>1.09</td>\n",
       "      <td>1.09</td>\n",
       "      <td>1.07</td>\n",
       "      <td>1.08</td>\n",
       "      <td>1.080000</td>\n",
       "      <td>20343100</td>\n",
       "    </tr>\n",
       "    <tr>\n",
       "      <td>3178</td>\n",
       "      <td>12/20/2019</td>\n",
       "      <td>1.08</td>\n",
       "      <td>1.09</td>\n",
       "      <td>1.07</td>\n",
       "      <td>1.07</td>\n",
       "      <td>1.070000</td>\n",
       "      <td>33596100</td>\n",
       "    </tr>\n",
       "  </tbody>\n",
       "</table>\n",
       "<p>3179 rows × 7 columns</p>\n",
       "</div>"
      ],
      "text/plain": [
       "            Date  Open  High   Low  Close  Adj Close     Volume\n",
       "0      4/18/2007  1.35  1.39  1.33   1.34   0.842029  413736000\n",
       "1      4/19/2007  1.35  1.35  1.26   1.27   0.798042      95804\n",
       "2      4/20/2007  1.28  1.31  1.28   1.30   0.816894      70064\n",
       "3      4/23/2007  1.31  1.31  1.26   1.27   0.798042      36099\n",
       "4      4/24/2007  1.26  1.27  1.26   1.27   0.798042      14422\n",
       "...          ...   ...   ...   ...    ...        ...        ...\n",
       "3174  12/16/2019  1.13  1.13  1.09   1.10   1.100000   27908700\n",
       "3175  12/17/2019  1.10  1.11  1.07   1.07   1.070000   32804600\n",
       "3176  12/18/2019  1.08  1.11  1.08   1.09   1.090000   38128700\n",
       "3177  12/19/2019  1.09  1.09  1.07   1.08   1.080000   20343100\n",
       "3178  12/20/2019  1.08  1.09  1.07   1.07   1.070000   33596100\n",
       "\n",
       "[3179 rows x 7 columns]"
      ]
     },
     "execution_count": 2,
     "metadata": {},
     "output_type": "execute_result"
    }
   ],
   "source": [
    "df_Yzj"
   ]
  },
  {
   "cell_type": "code",
   "execution_count": 3,
   "metadata": {
    "scrolled": true
   },
   "outputs": [
    {
     "data": {
      "text/plain": [
       "<Figure size 640x480 with 1 Axes>"
      ]
     },
     "metadata": {},
     "output_type": "display_data"
    }
   ],
   "source": [
    "from matplotlib import pyplot as plt\n",
    "plt.figure()\n",
    "plt.plot(df_Yzj[\"Open\"])\n",
    "plt.plot(df_Yzj[\"High\"])\n",
    "plt.plot(df_Yzj[\"Low\"])\n",
    "plt.plot(df_Yzj[\"Close\"])\n",
    "plt.title('Yangzijiang Stock price history')\n",
    "plt.ylabel('Price (SGD)')\n",
    "plt.xlabel('Days')\n",
    "plt.legend(['Open','High','Low','Close'], loc='upper left')\n",
    "plt.show()"
   ]
  },
  {
   "cell_type": "code",
   "execution_count": 4,
   "metadata": {},
   "outputs": [
    {
     "data": {
      "image/png": "[encoded data removed]",
      "text/plain": [
       "<Figure size 432x288 with 1 Axes>"
      ]
     },
     "metadata": {
      "needs_background": "light"
     },
     "output_type": "display_data"
    }
   ],
   "source": [
    "plt.figure()\n",
    "plt.plot(df_Yzj[\"Volume\"])\n",
    "plt.title('Yangzijiang stock volume history')\n",
    "plt.ylabel('Volume')\n",
    "plt.xlabel('Days')\n",
    "plt.show()"
   ]
  },
  {
   "cell_type": "code",
   "execution_count": 5,
   "metadata": {},
   "outputs": [
    {
     "name": "stdout",
     "output_type": "stream",
     "text": [
      "checking if any null values are present\n",
      " Date         0\n",
      "Open         0\n",
      "High         0\n",
      "Low          0\n",
      "Close        0\n",
      "Adj Close    0\n",
      "Volume       0\n",
      "dtype: int64\n"
     ]
    }
   ],
   "source": [
    "print(\"checking if any null values are present\\n\", df_Yzj.isna().sum())"
   ]
  },
  {
   "cell_type": "code",
   "execution_count": 6,
   "metadata": {},
   "outputs": [],
   "source": [
    "df_Yzj = df_Yzj.dropna() "
   ]
  },
  {
   "cell_type": "code",
   "execution_count": 7,
   "metadata": {},
   "outputs": [
    {
     "name": "stdout",
     "output_type": "stream",
     "text": [
      "checking if any null values are present\n",
      " Date         0\n",
      "Open         0\n",
      "High         0\n",
      "Low          0\n",
      "Close        0\n",
      "Adj Close    0\n",
      "Volume       0\n",
      "dtype: int64\n"
     ]
    }
   ],
   "source": [
    "print(\"checking if any null values are present\\n\", df_Yzj.isna().sum())"
   ]
  },
  {
   "cell_type": "code",
   "execution_count": 8,
   "metadata": {},
   "outputs": [
    {
     "data": {
      "text/html": [
       "<div>\n",
       "<style scoped>\n",
       "    .dataframe tbody tr th:only-of-type {\n",
       "        vertical-align: middle;\n",
       "    }\n",
       "\n",
       "    .dataframe tbody tr th {\n",
       "        vertical-align: top;\n",
       "    }\n",
       "\n",
       "    .dataframe thead th {\n",
       "        text-align: right;\n",
       "    }\n",
       "</style>\n",
       "<table border=\"1\" class=\"dataframe\">\n",
       "  <thead>\n",
       "    <tr style=\"text-align: right;\">\n",
       "      <th></th>\n",
       "      <th>Date</th>\n",
       "      <th>Open</th>\n",
       "      <th>High</th>\n",
       "      <th>Low</th>\n",
       "      <th>Close</th>\n",
       "      <th>Adj Close</th>\n",
       "      <th>Volume</th>\n",
       "    </tr>\n",
       "  </thead>\n",
       "  <tbody>\n",
       "    <tr>\n",
       "      <td>0</td>\n",
       "      <td>4/18/2007</td>\n",
       "      <td>1.35</td>\n",
       "      <td>1.39</td>\n",
       "      <td>1.33</td>\n",
       "      <td>1.34</td>\n",
       "      <td>0.842029</td>\n",
       "      <td>413736000</td>\n",
       "    </tr>\n",
       "    <tr>\n",
       "      <td>1</td>\n",
       "      <td>4/19/2007</td>\n",
       "      <td>1.35</td>\n",
       "      <td>1.35</td>\n",
       "      <td>1.26</td>\n",
       "      <td>1.27</td>\n",
       "      <td>0.798042</td>\n",
       "      <td>95804</td>\n",
       "    </tr>\n",
       "    <tr>\n",
       "      <td>2</td>\n",
       "      <td>4/20/2007</td>\n",
       "      <td>1.28</td>\n",
       "      <td>1.31</td>\n",
       "      <td>1.28</td>\n",
       "      <td>1.30</td>\n",
       "      <td>0.816894</td>\n",
       "      <td>70064</td>\n",
       "    </tr>\n",
       "    <tr>\n",
       "      <td>3</td>\n",
       "      <td>4/23/2007</td>\n",
       "      <td>1.31</td>\n",
       "      <td>1.31</td>\n",
       "      <td>1.26</td>\n",
       "      <td>1.27</td>\n",
       "      <td>0.798042</td>\n",
       "      <td>36099</td>\n",
       "    </tr>\n",
       "    <tr>\n",
       "      <td>4</td>\n",
       "      <td>4/24/2007</td>\n",
       "      <td>1.26</td>\n",
       "      <td>1.27</td>\n",
       "      <td>1.26</td>\n",
       "      <td>1.27</td>\n",
       "      <td>0.798042</td>\n",
       "      <td>14422</td>\n",
       "    </tr>\n",
       "    <tr>\n",
       "      <td>...</td>\n",
       "      <td>...</td>\n",
       "      <td>...</td>\n",
       "      <td>...</td>\n",
       "      <td>...</td>\n",
       "      <td>...</td>\n",
       "      <td>...</td>\n",
       "      <td>...</td>\n",
       "    </tr>\n",
       "    <tr>\n",
       "      <td>3174</td>\n",
       "      <td>12/16/2019</td>\n",
       "      <td>1.13</td>\n",
       "      <td>1.13</td>\n",
       "      <td>1.09</td>\n",
       "      <td>1.10</td>\n",
       "      <td>1.100000</td>\n",
       "      <td>27908700</td>\n",
       "    </tr>\n",
       "    <tr>\n",
       "      <td>3175</td>\n",
       "      <td>12/17/2019</td>\n",
       "      <td>1.10</td>\n",
       "      <td>1.11</td>\n",
       "      <td>1.07</td>\n",
       "      <td>1.07</td>\n",
       "      <td>1.070000</td>\n",
       "      <td>32804600</td>\n",
       "    </tr>\n",
       "    <tr>\n",
       "      <td>3176</td>\n",
       "      <td>12/18/2019</td>\n",
       "      <td>1.08</td>\n",
       "      <td>1.11</td>\n",
       "      <td>1.08</td>\n",
       "      <td>1.09</td>\n",
       "      <td>1.090000</td>\n",
       "      <td>38128700</td>\n",
       "    </tr>\n",
       "    <tr>\n",
       "      <td>3177</td>\n",
       "      <td>12/19/2019</td>\n",
       "      <td>1.09</td>\n",
       "      <td>1.09</td>\n",
       "      <td>1.07</td>\n",
       "      <td>1.08</td>\n",
       "      <td>1.080000</td>\n",
       "      <td>20343100</td>\n",
       "    </tr>\n",
       "    <tr>\n",
       "      <td>3178</td>\n",
       "      <td>12/20/2019</td>\n",
       "      <td>1.08</td>\n",
       "      <td>1.09</td>\n",
       "      <td>1.07</td>\n",
       "      <td>1.07</td>\n",
       "      <td>1.070000</td>\n",
       "      <td>33596100</td>\n",
       "    </tr>\n",
       "  </tbody>\n",
       "</table>\n",
       "<p>3179 rows × 7 columns</p>\n",
       "</div>"
      ],
      "text/plain": [
       "            Date  Open  High   Low  Close  Adj Close     Volume\n",
       "0      4/18/2007  1.35  1.39  1.33   1.34   0.842029  413736000\n",
       "1      4/19/2007  1.35  1.35  1.26   1.27   0.798042      95804\n",
       "2      4/20/2007  1.28  1.31  1.28   1.30   0.816894      70064\n",
       "3      4/23/2007  1.31  1.31  1.26   1.27   0.798042      36099\n",
       "4      4/24/2007  1.26  1.27  1.26   1.27   0.798042      14422\n",
       "...          ...   ...   ...   ...    ...        ...        ...\n",
       "3174  12/16/2019  1.13  1.13  1.09   1.10   1.100000   27908700\n",
       "3175  12/17/2019  1.10  1.11  1.07   1.07   1.070000   32804600\n",
       "3176  12/18/2019  1.08  1.11  1.08   1.09   1.090000   38128700\n",
       "3177  12/19/2019  1.09  1.09  1.07   1.08   1.080000   20343100\n",
       "3178  12/20/2019  1.08  1.09  1.07   1.07   1.070000   33596100\n",
       "\n",
       "[3179 rows x 7 columns]"
      ]
     },
     "execution_count": 8,
     "metadata": {},
     "output_type": "execute_result"
    }
   ],
   "source": [
    "df_Yzj"
   ]
  },
  {
   "cell_type": "code",
   "execution_count": 9,
   "metadata": {},
   "outputs": [
    {
     "name": "stdout",
     "output_type": "stream",
     "text": [
      "Train and Test size 2543 636\n"
     ]
    }
   ],
   "source": [
    "from sklearn.preprocessing import MinMaxScaler\n",
    "from sklearn.model_selection import train_test_split\n",
    "\n",
    "train_cols = [\"Open\",\"High\",\"Low\",\"Close\",\"Volume\"]\n",
    "df_train, df_test = train_test_split(df_Yzj, train_size=0.8, test_size=0.2, shuffle=False)\n",
    "print(\"Train and Test size\", len(df_train), len(df_test))\n",
    "# scale the feature MinMax, build array\n",
    "x = df_train.loc[:,train_cols].values\n",
    "min_max_scaler = MinMaxScaler()\n",
    "x_train = min_max_scaler.fit_transform(x)\n",
    "x_test = min_max_scaler.transform(df_test.loc[:,train_cols])"
   ]
  },
  {
   "cell_type": "code",
   "execution_count": 10,
   "metadata": {},
   "outputs": [],
   "source": [
    "def build_timeseries(mat, y_col_index):\n",
    "    # y_col_index is the index of column that would act as output column\n",
    "    # total number of time-series samples would be len(mat) - TIME_STEPS\n",
    "    dim_0 = mat.shape[0] - TIME_STEPS\n",
    "    dim_1 = mat.shape[1]\n",
    "    x = np.zeros((dim_0, TIME_STEPS, dim_1))\n",
    "    y = np.zeros((dim_0,))\n",
    "    \n",
    "    for i in tqdm_notebook(range(dim_0)):\n",
    "        x[i] = mat[i:TIME_STEPS+i]\n",
    "        y[i] = mat[TIME_STEPS+i, y_col_index]\n",
    "    print(\"length of time-series i/o\",x.shape,y.shape)\n",
    "    return x, y"
   ]
  },
  {
   "cell_type": "code",
   "execution_count": 11,
   "metadata": {},
   "outputs": [],
   "source": [
    "def trim_dataset(mat, batch_size):\n",
    "    \"\"\"\n",
    "    trims dataset to a size that's divisible by BATCH_SIZE\n",
    "    \"\"\"\n",
    "    no_of_rows_drop = mat.shape[0]%batch_size\n",
    "    if(no_of_rows_drop > 0):\n",
    "        return mat[:-no_of_rows_drop]\n",
    "    else:\n",
    "        return mat"
   ]
  },
  {
   "cell_type": "code",
   "execution_count": 12,
   "metadata": {},
   "outputs": [],
   "source": [
    "import time\n",
    "import numpy as np\n",
    "from tqdm._tqdm_notebook import tqdm_notebook\n",
    "params = {\n",
    "    \"batch_size\": 20,  # 20<16<10, 25 was a bust\n",
    "    ##\"epochs\": 300,\n",
    "    \"epochs\":100,\n",
    "    \"lr\": 0.00010000,\n",
    "    \"time_steps\": 60\n",
    "}\n",
    "\n",
    "TIME_STEPS = params[\"time_steps\"]\n",
    "BATCH_SIZE = params[\"batch_size\"]\n",
    "stime = time.time()\n"
   ]
  },
  {
   "cell_type": "code",
   "execution_count": 14,
   "metadata": {},
   "outputs": [
    {
     "data": {
      "application/vnd.jupyter.widget-view+json": {
       "model_id": "e5188cff5d13413dbd9570821f9ddf6d",
       "version_major": 2,
       "version_minor": 0
      },
      "text/plain": [
       "HBox(children=(IntProgress(value=0, max=2483), HTML(value='')))"
      ]
     },
     "metadata": {},
     "output_type": "display_data"
    },
    {
     "name": "stdout",
     "output_type": "stream",
     "text": [
      "\n",
      "length of time-series i/o (2483, 60, 5) (2483,)\n"
     ]
    },
    {
     "data": {
      "application/vnd.jupyter.widget-view+json": {
       "model_id": "c84b82d9b8ce4ef5a051a98fe3815a50",
       "version_major": 2,
       "version_minor": 0
      },
      "text/plain": [
       "HBox(children=(IntProgress(value=0, max=576), HTML(value='')))"
      ]
     },
     "metadata": {},
     "output_type": "display_data"
    },
    {
     "name": "stdout",
     "output_type": "stream",
     "text": [
      "\n",
      "length of time-series i/o (576, 60, 5) (576,)\n"
     ]
    }
   ],
   "source": [
    "x_t, y_t = build_timeseries(x_train, 3)\n",
    "x_t = trim_dataset(x_t, BATCH_SIZE)\n",
    "y_t = trim_dataset(y_t, BATCH_SIZE)\n",
    "x_temp, y_temp = build_timeseries(x_test, 3)\n",
    "x_test_t = trim_dataset(x_temp, BATCH_SIZE)\n",
    "y_test_t = trim_dataset(y_temp, BATCH_SIZE)"
   ]
  },
  {
   "cell_type": "markdown",
   "metadata": {},
   "source": [
    "### Create Model"
   ]
  },
  {
   "cell_type": "code",
   "execution_count": 15,
   "metadata": {},
   "outputs": [
    {
     "name": "stderr",
     "output_type": "stream",
     "text": [
      "Using TensorFlow backend.\n"
     ]
    }
   ],
   "source": [
    "from keras.models import Sequential, load_model\n",
    "from keras.layers import Dense, Dropout\n",
    "from keras.layers import GRU\n",
    "from keras.callbacks import ModelCheckpoint, EarlyStopping, ReduceLROnPlateau, CSVLogger\n",
    "from keras import optimizers\n",
    "\n",
    "\n",
    "def create_model():\n",
    "    gru_model = Sequential()\n",
    "    gru_model.add(GRU(100, batch_input_shape=(BATCH_SIZE, TIME_STEPS, x_t.shape[2]), dropout=0.0, recurrent_dropout=0.0, stateful=True, kernel_initializer='random_uniform'))\n",
    "    gru_model.add(Dropout(0.5))\n",
    "    gru_model.add(Dense(20,activation='relu'))\n",
    "    gru_model.add(Dense(1,activation='sigmoid'))\n",
    "    optimizer = optimizers.RMSprop(lr=params[\"lr\"])\n",
    "    gru_model.compile(loss='mean_squared_error', optimizer=optimizer)\n",
    "    gru_model.summary()\n",
    "    return gru_model"
   ]
  },
  {
   "cell_type": "code",
   "execution_count": 17,
   "metadata": {},
   "outputs": [
    {
     "data": {
      "text/plain": [
       "'C:\\\\Users\\\\Victor\\\\Desktop\\\\project5\\\\Stock-Price-Prediction\\\\outputyzjGRU1'"
      ]
     },
     "execution_count": 17,
     "metadata": {},
     "output_type": "execute_result"
    }
   ],
   "source": [
    "import os\n",
    "#OUTPUT_PATH ='/home/victor/Stock-Price-Prediction/outputs/'\n",
    "OUTPUT_PATH ='C:\\\\Users\\\\Victor\\\\Desktop\\\\project5\\\\Stock-Price-Prediction\\\\outputyzjGRU1'\n",
    "OUTPUT_PATH"
   ]
  },
  {
   "cell_type": "code",
   "execution_count": 18,
   "metadata": {},
   "outputs": [
    {
     "data": {
      "text/plain": [
       "'C:\\\\Users\\\\Victor\\\\Desktop\\\\project5\\\\Stock-Price-Prediction'"
      ]
     },
     "execution_count": 18,
     "metadata": {},
     "output_type": "execute_result"
    }
   ],
   "source": [
    "pwd"
   ]
  },
  {
   "cell_type": "code",
   "execution_count": 19,
   "metadata": {},
   "outputs": [],
   "source": [
    "import pickle"
   ]
  },
  {
   "cell_type": "code",
   "execution_count": 22,
   "metadata": {
    "scrolled": true
   },
   "outputs": [
    {
     "name": "stdout",
     "output_type": "stream",
     "text": [
      "Model not found\n"
     ]
    },
    {
     "data": {
      "application/vnd.jupyter.widget-view+json": {
       "model_id": "e4f6988dc1c5453b9524cd76e9782c9b",
       "version_major": 2,
       "version_minor": 0
      },
      "text/plain": [
       "HBox(children=(IntProgress(value=0, max=576), HTML(value='')))"
      ]
     },
     "metadata": {},
     "output_type": "display_data"
    },
    {
     "name": "stdout",
     "output_type": "stream",
     "text": [
      "\n",
      "length of time-series i/o (576, 60, 5) (576,)\n",
      "Test size (560, 60, 5) (560,)\n",
      "Building model...\n",
      "checking if GPU available []\n",
      "Model: \"sequential_1\"\n",
      "_________________________________________________________________\n",
      "Layer (type)                 Output Shape              Param #   \n",
      "=================================================================\n",
      "gru_1 (GRU)                  (20, 100)                 31800     \n",
      "_________________________________________________________________\n",
      "dropout_1 (Dropout)          (20, 100)                 0         \n",
      "_________________________________________________________________\n",
      "dense_1 (Dense)              (20, 20)                  2020      \n",
      "_________________________________________________________________\n",
      "dense_2 (Dense)              (20, 1)                   21        \n",
      "=================================================================\n",
      "Total params: 33,841\n",
      "Trainable params: 33,841\n",
      "Non-trainable params: 0\n",
      "_________________________________________________________________\n",
      "Train on 2480 samples, validate on 560 samples\n",
      "Epoch 1/100\n",
      " - 7s - loss: 0.0453 - val_loss: 0.0111\n",
      "\n",
      "Epoch 00001: val_loss improved from inf to 0.01106, saving model to C:\\Users\\Victor\\Desktop\\project5\\Stock-Price-Prediction\\outputyzjGRU1\\best_model.h5\n",
      "Epoch 2/100\n",
      " - 6s - loss: 0.0360 - val_loss: 0.0165\n",
      "\n",
      "Epoch 00002: val_loss did not improve from 0.01106\n",
      "Epoch 3/100\n",
      " - 6s - loss: 0.0348 - val_loss: 0.0228\n",
      "\n",
      "Epoch 00003: val_loss did not improve from 0.01106\n",
      "Epoch 4/100\n",
      " - 6s - loss: 0.0346 - val_loss: 0.0232\n",
      "\n",
      "Epoch 00004: val_loss did not improve from 0.01106\n",
      "Epoch 5/100\n",
      " - 6s - loss: 0.0329 - val_loss: 0.0231\n",
      "\n",
      "Epoch 00005: val_loss did not improve from 0.01106\n",
      "Epoch 6/100\n",
      " - 6s - loss: 0.0303 - val_loss: 0.0229\n",
      "\n",
      "Epoch 00006: val_loss did not improve from 0.01106\n",
      "Epoch 7/100\n",
      " - 6s - loss: 0.0275 - val_loss: 0.0217\n",
      "\n",
      "Epoch 00007: val_loss did not improve from 0.01106\n",
      "Epoch 8/100\n",
      " - 6s - loss: 0.0227 - val_loss: 0.0180\n",
      "\n",
      "Epoch 00008: val_loss did not improve from 0.01106\n",
      "Epoch 9/100\n",
      " - 6s - loss: 0.0134 - val_loss: 0.0038\n",
      "\n",
      "Epoch 00009: val_loss improved from 0.01106 to 0.00380, saving model to C:\\Users\\Victor\\Desktop\\project5\\Stock-Price-Prediction\\outputyzjGRU1\\best_model.h5\n",
      "Epoch 10/100\n",
      " - 6s - loss: 0.0060 - val_loss: 0.0018\n",
      "\n",
      "Epoch 00010: val_loss improved from 0.00380 to 0.00184, saving model to C:\\Users\\Victor\\Desktop\\project5\\Stock-Price-Prediction\\outputyzjGRU1\\best_model.h5\n",
      "Epoch 11/100\n",
      " - 6s - loss: 0.0041 - val_loss: 0.0015\n",
      "\n",
      "Epoch 00011: val_loss improved from 0.00184 to 0.00149, saving model to C:\\Users\\Victor\\Desktop\\project5\\Stock-Price-Prediction\\outputyzjGRU1\\best_model.h5\n",
      "Epoch 12/100\n",
      " - 6s - loss: 0.0029 - val_loss: 0.0014\n",
      "\n",
      "Epoch 00012: val_loss improved from 0.00149 to 0.00139, saving model to C:\\Users\\Victor\\Desktop\\project5\\Stock-Price-Prediction\\outputyzjGRU1\\best_model.h5\n",
      "Epoch 13/100\n",
      " - 6s - loss: 0.0026 - val_loss: 0.0013\n",
      "\n",
      "Epoch 00013: val_loss improved from 0.00139 to 0.00127, saving model to C:\\Users\\Victor\\Desktop\\project5\\Stock-Price-Prediction\\outputyzjGRU1\\best_model.h5\n",
      "Epoch 14/100\n",
      " - 6s - loss: 0.0025 - val_loss: 0.0012\n",
      "\n",
      "Epoch 00014: val_loss improved from 0.00127 to 0.00124, saving model to C:\\Users\\Victor\\Desktop\\project5\\Stock-Price-Prediction\\outputyzjGRU1\\best_model.h5\n",
      "Epoch 15/100\n",
      " - 6s - loss: 0.0023 - val_loss: 0.0011\n",
      "\n",
      "Epoch 00015: val_loss improved from 0.00124 to 0.00113, saving model to C:\\Users\\Victor\\Desktop\\project5\\Stock-Price-Prediction\\outputyzjGRU1\\best_model.h5\n",
      "Epoch 16/100\n",
      " - 6s - loss: 0.0023 - val_loss: 0.0011\n",
      "\n",
      "Epoch 00016: val_loss improved from 0.00113 to 0.00105, saving model to C:\\Users\\Victor\\Desktop\\project5\\Stock-Price-Prediction\\outputyzjGRU1\\best_model.h5\n",
      "Epoch 17/100\n",
      " - 6s - loss: 0.0021 - val_loss: 0.0010\n",
      "\n",
      "Epoch 00017: val_loss improved from 0.00105 to 0.00102, saving model to C:\\Users\\Victor\\Desktop\\project5\\Stock-Price-Prediction\\outputyzjGRU1\\best_model.h5\n",
      "Epoch 18/100\n",
      " - 6s - loss: 0.0021 - val_loss: 9.6228e-04\n",
      "\n",
      "Epoch 00018: val_loss improved from 0.00102 to 0.00096, saving model to C:\\Users\\Victor\\Desktop\\project5\\Stock-Price-Prediction\\outputyzjGRU1\\best_model.h5\n",
      "Epoch 19/100\n",
      " - 6s - loss: 0.0020 - val_loss: 9.2357e-04\n",
      "\n",
      "Epoch 00019: val_loss improved from 0.00096 to 0.00092, saving model to C:\\Users\\Victor\\Desktop\\project5\\Stock-Price-Prediction\\outputyzjGRU1\\best_model.h5\n",
      "Epoch 20/100\n",
      " - 6s - loss: 0.0019 - val_loss: 8.8512e-04\n",
      "\n",
      "Epoch 00020: val_loss improved from 0.00092 to 0.00089, saving model to C:\\Users\\Victor\\Desktop\\project5\\Stock-Price-Prediction\\outputyzjGRU1\\best_model.h5\n",
      "Epoch 21/100\n",
      " - 6s - loss: 0.0019 - val_loss: 8.7945e-04\n",
      "\n",
      "Epoch 00021: val_loss improved from 0.00089 to 0.00088, saving model to C:\\Users\\Victor\\Desktop\\project5\\Stock-Price-Prediction\\outputyzjGRU1\\best_model.h5\n",
      "Epoch 22/100\n",
      " - 6s - loss: 0.0020 - val_loss: 8.3754e-04\n",
      "\n",
      "Epoch 00022: val_loss improved from 0.00088 to 0.00084, saving model to C:\\Users\\Victor\\Desktop\\project5\\Stock-Price-Prediction\\outputyzjGRU1\\best_model.h5\n",
      "Epoch 23/100\n",
      " - 6s - loss: 0.0018 - val_loss: 7.8539e-04\n",
      "\n",
      "Epoch 00023: val_loss improved from 0.00084 to 0.00079, saving model to C:\\Users\\Victor\\Desktop\\project5\\Stock-Price-Prediction\\outputyzjGRU1\\best_model.h5\n",
      "Epoch 24/100\n",
      " - 6s - loss: 0.0018 - val_loss: 8.1384e-04\n",
      "\n",
      "Epoch 00024: val_loss did not improve from 0.00079\n",
      "Epoch 25/100\n",
      " - 6s - loss: 0.0018 - val_loss: 7.6226e-04\n",
      "\n",
      "Epoch 00025: val_loss improved from 0.00079 to 0.00076, saving model to C:\\Users\\Victor\\Desktop\\project5\\Stock-Price-Prediction\\outputyzjGRU1\\best_model.h5\n",
      "Epoch 26/100\n",
      " - 6s - loss: 0.0018 - val_loss: 7.6874e-04\n",
      "\n",
      "Epoch 00026: val_loss did not improve from 0.00076\n",
      "Epoch 27/100\n",
      " - 6s - loss: 0.0017 - val_loss: 7.3007e-04\n",
      "\n",
      "Epoch 00027: val_loss improved from 0.00076 to 0.00073, saving model to C:\\Users\\Victor\\Desktop\\project5\\Stock-Price-Prediction\\outputyzjGRU1\\best_model.h5\n",
      "Epoch 28/100\n",
      " - 6s - loss: 0.0017 - val_loss: 7.2114e-04\n",
      "\n",
      "Epoch 00028: val_loss improved from 0.00073 to 0.00072, saving model to C:\\Users\\Victor\\Desktop\\project5\\Stock-Price-Prediction\\outputyzjGRU1\\best_model.h5\n",
      "Epoch 29/100\n",
      " - 6s - loss: 0.0016 - val_loss: 6.9414e-04\n",
      "\n",
      "Epoch 00029: val_loss improved from 0.00072 to 0.00069, saving model to C:\\Users\\Victor\\Desktop\\project5\\Stock-Price-Prediction\\outputyzjGRU1\\best_model.h5\n",
      "Epoch 30/100\n",
      " - 6s - loss: 0.0016 - val_loss: 7.0654e-04\n",
      "\n",
      "Epoch 00030: val_loss did not improve from 0.00069\n",
      "Epoch 31/100\n",
      " - 6s - loss: 0.0016 - val_loss: 6.7798e-04\n",
      "\n",
      "Epoch 00031: val_loss improved from 0.00069 to 0.00068, saving model to C:\\Users\\Victor\\Desktop\\project5\\Stock-Price-Prediction\\outputyzjGRU1\\best_model.h5\n",
      "Epoch 32/100\n",
      " - 6s - loss: 0.0016 - val_loss: 6.6809e-04\n",
      "\n",
      "Epoch 00032: val_loss improved from 0.00068 to 0.00067, saving model to C:\\Users\\Victor\\Desktop\\project5\\Stock-Price-Prediction\\outputyzjGRU1\\best_model.h5\n",
      "Epoch 33/100\n",
      " - 6s - loss: 0.0015 - val_loss: 6.6588e-04\n",
      "\n",
      "Epoch 00033: val_loss improved from 0.00067 to 0.00067, saving model to C:\\Users\\Victor\\Desktop\\project5\\Stock-Price-Prediction\\outputyzjGRU1\\best_model.h5\n",
      "Epoch 34/100\n",
      " - 6s - loss: 0.0014 - val_loss: 6.3114e-04\n",
      "\n",
      "Epoch 00034: val_loss improved from 0.00067 to 0.00063, saving model to C:\\Users\\Victor\\Desktop\\project5\\Stock-Price-Prediction\\outputyzjGRU1\\best_model.h5\n",
      "Epoch 35/100\n",
      " - 6s - loss: 0.0015 - val_loss: 5.9814e-04\n",
      "\n",
      "Epoch 00035: val_loss improved from 0.00063 to 0.00060, saving model to C:\\Users\\Victor\\Desktop\\project5\\Stock-Price-Prediction\\outputyzjGRU1\\best_model.h5\n",
      "Epoch 36/100\n",
      " - 6s - loss: 0.0014 - val_loss: 6.1458e-04\n",
      "\n",
      "Epoch 00036: val_loss did not improve from 0.00060\n",
      "Epoch 37/100\n",
      " - 6s - loss: 0.0014 - val_loss: 5.8151e-04\n",
      "\n",
      "Epoch 00037: val_loss improved from 0.00060 to 0.00058, saving model to C:\\Users\\Victor\\Desktop\\project5\\Stock-Price-Prediction\\outputyzjGRU1\\best_model.h5\n",
      "Epoch 38/100\n",
      " - 6s - loss: 0.0013 - val_loss: 5.4415e-04\n",
      "\n",
      "Epoch 00038: val_loss improved from 0.00058 to 0.00054, saving model to C:\\Users\\Victor\\Desktop\\project5\\Stock-Price-Prediction\\outputyzjGRU1\\best_model.h5\n",
      "Epoch 39/100\n",
      " - 6s - loss: 0.0014 - val_loss: 5.7181e-04\n",
      "\n",
      "Epoch 00039: val_loss did not improve from 0.00054\n",
      "Epoch 40/100\n",
      " - 6s - loss: 0.0013 - val_loss: 5.4286e-04\n",
      "\n",
      "Epoch 00040: val_loss improved from 0.00054 to 0.00054, saving model to C:\\Users\\Victor\\Desktop\\project5\\Stock-Price-Prediction\\outputyzjGRU1\\best_model.h5\n",
      "Epoch 41/100\n",
      " - 6s - loss: 0.0013 - val_loss: 5.5576e-04\n",
      "\n",
      "Epoch 00041: val_loss did not improve from 0.00054\n",
      "Epoch 42/100\n",
      " - 6s - loss: 0.0013 - val_loss: 5.1891e-04\n",
      "\n",
      "Epoch 00042: val_loss improved from 0.00054 to 0.00052, saving model to C:\\Users\\Victor\\Desktop\\project5\\Stock-Price-Prediction\\outputyzjGRU1\\best_model.h5\n",
      "Epoch 43/100\n",
      " - 6s - loss: 0.0012 - val_loss: 5.4394e-04\n",
      "\n",
      "Epoch 00043: val_loss did not improve from 0.00052\n",
      "Epoch 44/100\n",
      " - 6s - loss: 0.0012 - val_loss: 4.9477e-04\n",
      "\n",
      "Epoch 00044: val_loss improved from 0.00052 to 0.00049, saving model to C:\\Users\\Victor\\Desktop\\project5\\Stock-Price-Prediction\\outputyzjGRU1\\best_model.h5\n",
      "Epoch 45/100\n",
      " - 6s - loss: 0.0012 - val_loss: 4.9193e-04\n",
      "\n",
      "Epoch 00045: val_loss improved from 0.00049 to 0.00049, saving model to C:\\Users\\Victor\\Desktop\\project5\\Stock-Price-Prediction\\outputyzjGRU1\\best_model.h5\n",
      "Epoch 46/100\n",
      " - 6s - loss: 0.0012 - val_loss: 4.8155e-04\n",
      "\n",
      "Epoch 00046: val_loss improved from 0.00049 to 0.00048, saving model to C:\\Users\\Victor\\Desktop\\project5\\Stock-Price-Prediction\\outputyzjGRU1\\best_model.h5\n",
      "Epoch 47/100\n",
      " - 7s - loss: 0.0011 - val_loss: 4.7530e-04\n",
      "\n",
      "Epoch 00047: val_loss improved from 0.00048 to 0.00048, saving model to C:\\Users\\Victor\\Desktop\\project5\\Stock-Price-Prediction\\outputyzjGRU1\\best_model.h5\n",
      "Epoch 48/100\n",
      " - 6s - loss: 0.0012 - val_loss: 4.7921e-04\n",
      "\n",
      "Epoch 00048: val_loss did not improve from 0.00048\n",
      "Epoch 49/100\n",
      " - 6s - loss: 0.0011 - val_loss: 4.5961e-04\n",
      "\n",
      "Epoch 00049: val_loss improved from 0.00048 to 0.00046, saving model to C:\\Users\\Victor\\Desktop\\project5\\Stock-Price-Prediction\\outputyzjGRU1\\best_model.h5\n",
      "Epoch 50/100\n",
      " - 6s - loss: 0.0011 - val_loss: 4.5346e-04\n",
      "\n",
      "Epoch 00050: val_loss improved from 0.00046 to 0.00045, saving model to C:\\Users\\Victor\\Desktop\\project5\\Stock-Price-Prediction\\outputyzjGRU1\\best_model.h5\n",
      "Epoch 51/100\n",
      " - 6s - loss: 0.0011 - val_loss: 4.5366e-04\n",
      "\n",
      "Epoch 00051: val_loss did not improve from 0.00045\n",
      "Epoch 52/100\n",
      " - 6s - loss: 0.0011 - val_loss: 4.7995e-04\n",
      "\n",
      "Epoch 00052: val_loss did not improve from 0.00045\n",
      "Epoch 53/100\n",
      " - 6s - loss: 0.0011 - val_loss: 4.3438e-04\n",
      "\n",
      "Epoch 00053: val_loss improved from 0.00045 to 0.00043, saving model to C:\\Users\\Victor\\Desktop\\project5\\Stock-Price-Prediction\\outputyzjGRU1\\best_model.h5\n",
      "Epoch 54/100\n",
      " - 7s - loss: 0.0011 - val_loss: 4.4312e-04\n",
      "\n",
      "Epoch 00054: val_loss did not improve from 0.00043\n",
      "Epoch 55/100\n",
      " - 7s - loss: 0.0010 - val_loss: 4.1749e-04\n",
      "\n",
      "Epoch 00055: val_loss improved from 0.00043 to 0.00042, saving model to C:\\Users\\Victor\\Desktop\\project5\\Stock-Price-Prediction\\outputyzjGRU1\\best_model.h5\n",
      "Epoch 56/100\n",
      " - 7s - loss: 0.0010 - val_loss: 3.9525e-04\n",
      "\n",
      "Epoch 00056: val_loss improved from 0.00042 to 0.00040, saving model to C:\\Users\\Victor\\Desktop\\project5\\Stock-Price-Prediction\\outputyzjGRU1\\best_model.h5\n",
      "Epoch 57/100\n",
      " - 6s - loss: 0.0010 - val_loss: 3.7809e-04\n",
      "\n",
      "Epoch 00057: val_loss improved from 0.00040 to 0.00038, saving model to C:\\Users\\Victor\\Desktop\\project5\\Stock-Price-Prediction\\outputyzjGRU1\\best_model.h5\n",
      "Epoch 58/100\n",
      " - 6s - loss: 9.6338e-04 - val_loss: 3.8138e-04\n",
      "\n",
      "Epoch 00058: val_loss did not improve from 0.00038\n",
      "Epoch 59/100\n",
      " - 6s - loss: 9.6287e-04 - val_loss: 3.7831e-04\n",
      "\n",
      "Epoch 00059: val_loss did not improve from 0.00038\n",
      "Epoch 60/100\n",
      " - 6s - loss: 9.5971e-04 - val_loss: 3.5441e-04\n",
      "\n",
      "Epoch 00060: val_loss improved from 0.00038 to 0.00035, saving model to C:\\Users\\Victor\\Desktop\\project5\\Stock-Price-Prediction\\outputyzjGRU1\\best_model.h5\n",
      "Epoch 61/100\n",
      " - 6s - loss: 9.9268e-04 - val_loss: 3.5725e-04\n",
      "\n",
      "Epoch 00061: val_loss did not improve from 0.00035\n",
      "Epoch 62/100\n",
      " - 6s - loss: 9.7383e-04 - val_loss: 3.8554e-04\n",
      "\n",
      "Epoch 00062: val_loss did not improve from 0.00035\n",
      "Epoch 63/100\n",
      " - 6s - loss: 9.1261e-04 - val_loss: 3.8483e-04\n",
      "\n",
      "Epoch 00063: val_loss did not improve from 0.00035\n",
      "Epoch 64/100\n",
      " - 6s - loss: 9.5707e-04 - val_loss: 3.2886e-04\n",
      "\n",
      "Epoch 00064: val_loss improved from 0.00035 to 0.00033, saving model to C:\\Users\\Victor\\Desktop\\project5\\Stock-Price-Prediction\\outputyzjGRU1\\best_model.h5\n",
      "Epoch 65/100\n",
      " - 6s - loss: 9.1346e-04 - val_loss: 3.3340e-04\n",
      "\n",
      "Epoch 00065: val_loss did not improve from 0.00033\n",
      "Epoch 66/100\n",
      " - 6s - loss: 8.6502e-04 - val_loss: 3.0861e-04\n",
      "\n",
      "Epoch 00066: val_loss improved from 0.00033 to 0.00031, saving model to C:\\Users\\Victor\\Desktop\\project5\\Stock-Price-Prediction\\outputyzjGRU1\\best_model.h5\n",
      "Epoch 67/100\n",
      " - 6s - loss: 8.7513e-04 - val_loss: 3.3671e-04\n",
      "\n",
      "Epoch 00067: val_loss did not improve from 0.00031\n",
      "Epoch 68/100\n",
      " - 6s - loss: 8.9216e-04 - val_loss: 3.2350e-04\n",
      "\n",
      "Epoch 00068: val_loss did not improve from 0.00031\n",
      "Epoch 69/100\n",
      " - 7s - loss: 8.1530e-04 - val_loss: 3.0814e-04\n",
      "\n",
      "Epoch 00069: val_loss improved from 0.00031 to 0.00031, saving model to C:\\Users\\Victor\\Desktop\\project5\\Stock-Price-Prediction\\outputyzjGRU1\\best_model.h5\n",
      "Epoch 70/100\n",
      " - 7s - loss: 8.0427e-04 - val_loss: 3.4178e-04\n",
      "\n",
      "Epoch 00070: val_loss did not improve from 0.00031\n",
      "Epoch 71/100\n",
      " - 6s - loss: 8.2458e-04 - val_loss: 3.0516e-04\n",
      "\n",
      "Epoch 00071: val_loss improved from 0.00031 to 0.00031, saving model to C:\\Users\\Victor\\Desktop\\project5\\Stock-Price-Prediction\\outputyzjGRU1\\best_model.h5\n",
      "Epoch 72/100\n",
      " - 6s - loss: 7.9441e-04 - val_loss: 2.9099e-04\n",
      "\n",
      "Epoch 00072: val_loss improved from 0.00031 to 0.00029, saving model to C:\\Users\\Victor\\Desktop\\project5\\Stock-Price-Prediction\\outputyzjGRU1\\best_model.h5\n",
      "Epoch 73/100\n",
      " - 6s - loss: 8.2352e-04 - val_loss: 2.9334e-04\n",
      "\n",
      "Epoch 00073: val_loss did not improve from 0.00029\n",
      "Epoch 74/100\n",
      " - 6s - loss: 7.6622e-04 - val_loss: 3.0408e-04\n",
      "\n",
      "Epoch 00074: val_loss did not improve from 0.00029\n",
      "Epoch 75/100\n",
      " - 6s - loss: 7.9261e-04 - val_loss: 3.0925e-04\n",
      "\n",
      "Epoch 00075: val_loss did not improve from 0.00029\n",
      "Epoch 76/100\n",
      " - 6s - loss: 7.7947e-04 - val_loss: 2.8975e-04\n",
      "\n",
      "Epoch 00076: val_loss improved from 0.00029 to 0.00029, saving model to C:\\Users\\Victor\\Desktop\\project5\\Stock-Price-Prediction\\outputyzjGRU1\\best_model.h5\n",
      "Epoch 77/100\n",
      " - 7s - loss: 7.6507e-04 - val_loss: 2.9152e-04\n",
      "\n",
      "Epoch 00077: val_loss did not improve from 0.00029\n",
      "Epoch 78/100\n",
      " - 7s - loss: 7.5806e-04 - val_loss: 2.8955e-04\n",
      "\n",
      "Epoch 00078: val_loss improved from 0.00029 to 0.00029, saving model to C:\\Users\\Victor\\Desktop\\project5\\Stock-Price-Prediction\\outputyzjGRU1\\best_model.h5\n",
      "Epoch 79/100\n",
      " - 6s - loss: 7.4339e-04 - val_loss: 3.2132e-04\n",
      "\n",
      "Epoch 00079: val_loss did not improve from 0.00029\n",
      "Epoch 80/100\n",
      " - 7s - loss: 7.1402e-04 - val_loss: 2.9247e-04\n",
      "\n",
      "Epoch 00080: val_loss did not improve from 0.00029\n",
      "Epoch 81/100\n",
      " - 6s - loss: 7.3980e-04 - val_loss: 3.1354e-04\n",
      "\n",
      "Epoch 00081: val_loss did not improve from 0.00029\n",
      "Epoch 82/100\n",
      " - 6s - loss: 7.6901e-04 - val_loss: 2.8181e-04\n",
      "\n",
      "Epoch 00082: val_loss improved from 0.00029 to 0.00028, saving model to C:\\Users\\Victor\\Desktop\\project5\\Stock-Price-Prediction\\outputyzjGRU1\\best_model.h5\n",
      "Epoch 83/100\n",
      " - 6s - loss: 7.6104e-04 - val_loss: 2.8123e-04\n",
      "\n",
      "Epoch 00083: val_loss improved from 0.00028 to 0.00028, saving model to C:\\Users\\Victor\\Desktop\\project5\\Stock-Price-Prediction\\outputyzjGRU1\\best_model.h5\n",
      "Epoch 84/100\n",
      " - 7s - loss: 7.3489e-04 - val_loss: 2.8797e-04\n",
      "\n",
      "Epoch 00084: val_loss did not improve from 0.00028\n",
      "Epoch 85/100\n",
      " - 7s - loss: 7.4493e-04 - val_loss: 2.7342e-04\n",
      "\n",
      "Epoch 00085: val_loss improved from 0.00028 to 0.00027, saving model to C:\\Users\\Victor\\Desktop\\project5\\Stock-Price-Prediction\\outputyzjGRU1\\best_model.h5\n",
      "Epoch 86/100\n",
      " - 7s - loss: 6.8334e-04 - val_loss: 2.8876e-04\n",
      "\n",
      "Epoch 00086: val_loss did not improve from 0.00027\n",
      "Epoch 87/100\n",
      " - 6s - loss: 7.0269e-04 - val_loss: 2.7026e-04\n",
      "\n",
      "Epoch 00087: val_loss improved from 0.00027 to 0.00027, saving model to C:\\Users\\Victor\\Desktop\\project5\\Stock-Price-Prediction\\outputyzjGRU1\\best_model.h5\n",
      "Epoch 88/100\n",
      " - 6s - loss: 7.3058e-04 - val_loss: 2.5563e-04\n",
      "\n",
      "Epoch 00088: val_loss improved from 0.00027 to 0.00026, saving model to C:\\Users\\Victor\\Desktop\\project5\\Stock-Price-Prediction\\outputyzjGRU1\\best_model.h5\n",
      "Epoch 89/100\n",
      " - 6s - loss: 6.7265e-04 - val_loss: 2.7922e-04\n",
      "\n",
      "Epoch 00089: val_loss did not improve from 0.00026\n",
      "Epoch 90/100\n",
      " - 6s - loss: 7.3159e-04 - val_loss: 2.6542e-04\n"
     ]
    },
    {
     "name": "stdout",
     "output_type": "stream",
     "text": [
      "\n",
      "Epoch 00090: val_loss did not improve from 0.00026\n",
      "Epoch 91/100\n",
      " - 6s - loss: 6.9731e-04 - val_loss: 2.9539e-04\n",
      "\n",
      "Epoch 00091: val_loss did not improve from 0.00026\n",
      "Epoch 92/100\n",
      " - 6s - loss: 7.0681e-04 - val_loss: 2.8668e-04\n",
      "\n",
      "Epoch 00092: val_loss did not improve from 0.00026\n",
      "Epoch 93/100\n",
      " - 6s - loss: 6.6032e-04 - val_loss: 2.8118e-04\n",
      "\n",
      "Epoch 00093: val_loss did not improve from 0.00026\n",
      "Epoch 94/100\n",
      " - 7s - loss: 6.9801e-04 - val_loss: 2.6659e-04\n",
      "\n",
      "Epoch 00094: val_loss did not improve from 0.00026\n",
      "Epoch 95/100\n",
      " - 6s - loss: 6.8568e-04 - val_loss: 2.9172e-04\n",
      "\n",
      "Epoch 00095: val_loss did not improve from 0.00026\n",
      "Epoch 96/100\n",
      " - 6s - loss: 6.9091e-04 - val_loss: 2.6804e-04\n",
      "\n",
      "Epoch 00096: val_loss did not improve from 0.00026\n",
      "Epoch 97/100\n",
      " - 6s - loss: 7.4795e-04 - val_loss: 2.8111e-04\n",
      "\n",
      "Epoch 00097: val_loss did not improve from 0.00026\n",
      "Epoch 98/100\n",
      " - 6s - loss: 6.5695e-04 - val_loss: 3.2033e-04\n",
      "\n",
      "Epoch 00098: val_loss did not improve from 0.00026\n",
      "Epoch 99/100\n",
      " - 6s - loss: 6.8407e-04 - val_loss: 2.6525e-04\n",
      "\n",
      "Epoch 00099: val_loss did not improve from 0.00026\n",
      "Epoch 100/100\n",
      " - 6s - loss: 6.3890e-04 - val_loss: 2.6918e-04\n",
      "\n",
      "Epoch 00100: val_loss did not improve from 0.00026\n",
      "saving model...\n"
     ]
    }
   ],
   "source": [
    "model = None\n",
    "try:\n",
    "    model = pickle.load(open(\"GRU_model1\", 'rb'))\n",
    "    print(\"Loaded saved model...\")\n",
    "except FileNotFoundError:\n",
    "    print(\"Model not found\")\n",
    "\n",
    "\n",
    "x_temp, y_temp = build_timeseries(x_test, 3)\n",
    "x_test_t = trim_dataset(x_temp, BATCH_SIZE)\n",
    "y_test_t = trim_dataset(y_temp, BATCH_SIZE)\n",
    "\n",
    "print(\"Test size\", x_test_t.shape, y_test_t.shape)\n",
    "    \n",
    "is_update_model = True\n",
    "if model is None or is_update_model:\n",
    "    from keras import backend as K\n",
    "    print(\"Building model...\")\n",
    "    print(\"checking if GPU available\", K.tensorflow_backend._get_available_gpus())\n",
    "    model = create_model()\n",
    "    \n",
    "    es = EarlyStopping(monitor='val_loss', mode='min', verbose=1,\n",
    "                       patience=40, min_delta=0.0001)\n",
    "    \n",
    "    mcp = ModelCheckpoint(os.path.join(OUTPUT_PATH,\n",
    "                          \"best_model.h5\"), monitor='val_loss', verbose=1,\n",
    "                          save_best_only=True, save_weights_only=False, mode='min', period=1)\n",
    "\n",
    "    # Not used here. But leaving it here as a reminder for future\n",
    "    r_lr_plat = ReduceLROnPlateau(monitor='val_loss', factor=0.1, patience=30, \n",
    "                                  verbose=0, mode='auto', min_delta=0.0001, cooldown=0, min_lr=0)\n",
    "    \n",
    "   ## csv_logger = CSVLogger(os.path.join(OUTPUT_PATH, 'training_log_' + time.ctime().replace(\" \",\"_\") + '.log'), append=True)\n",
    "    csv_logger = CSVLogger(os.path.join(OUTPUT_PATH, 'training_log_' + time.strftime(\"%a %b %d %H %M %S %Y\", time.localtime()) + '.log'), append=True)\n",
    "    \n",
    "  #  csv_logger = CSVLogger(os.path.join(OUTPUT_PATH, 'training_log_'  + '.log'), append=True)\n",
    "    \n",
    "    history = model.fit(x_t, y_t, epochs=params[\"epochs\"], verbose=2, batch_size=BATCH_SIZE,\n",
    "                        shuffle=False, validation_data=(trim_dataset(x_test_t, BATCH_SIZE),\n",
    "                        trim_dataset(y_test_t, BATCH_SIZE)), callbacks=[es, mcp, csv_logger])\n",
    "    \n",
    "    print(\"saving model...\")\n",
    "    pickle.dump(model, open(\"GRU_model1\", \"wb\"))"
   ]
  },
  {
   "cell_type": "code",
   "execution_count": 24,
   "metadata": {},
   "outputs": [
    {
     "name": "stdout",
     "output_type": "stream",
     "text": [
      "Mean Square Error is 0.00026918179284912084 (560,) (560,)\n",
      "[0.5227742  0.46816742 0.43608707 0.42692447 0.4248958  0.42768398\n",
      " 0.43320084 0.44170624 0.45363107 0.45923474 0.45994833 0.45681363\n",
      " 0.45384917 0.45140067 0.4486427 ]\n",
      "[0.45102041 0.45918367 0.46734694 0.45510204 0.45714286 0.45714286\n",
      " 0.46530612 0.48163265 0.47142857 0.46122449 0.46734694 0.46326531\n",
      " 0.46122449 0.45102041 0.45714286]\n"
     ]
    }
   ],
   "source": [
    "from sklearn.metrics import mean_squared_error\n",
    "# model.evaluate(x_test_t, y_test_t, batch_size=BATCH_SIZE\n",
    "y_pred = model.predict(trim_dataset(x_test_t, BATCH_SIZE), batch_size=BATCH_SIZE)\n",
    "y_pred = y_pred.flatten()\n",
    "y_test_t = trim_dataset(y_test_t, BATCH_SIZE)\n",
    "error = mean_squared_error(y_test_t, y_pred)\n",
    "print(\"Mean Square Error is\", error, y_pred.shape, y_test_t.shape)\n",
    "print(y_pred[0:15])\n",
    "print(y_test_t[0:15])"
   ]
  },
  {
   "cell_type": "code",
   "execution_count": 25,
   "metadata": {},
   "outputs": [
    {
     "name": "stdout",
     "output_type": "stream",
     "text": [
      "[1.5707968 1.4370102 1.3584133 1.3359649 1.3309947 1.3378258 1.3513421\n",
      " 1.3721802 1.4013962 1.4151251 1.4168733 1.4091934 1.4019305 1.3959316\n",
      " 1.3891746]\n",
      "[1.395 1.415 1.435 1.405 1.41  1.41  1.43  1.47  1.445 1.42  1.435 1.425\n",
      " 1.42  1.395 1.41 ]\n"
     ]
    }
   ],
   "source": [
    "# convert the predicted value to range of real data\n",
    "y_pred_org = (y_pred * min_max_scaler.data_range_[3]) + min_max_scaler.data_min_[3]\n",
    "# min_max_scaler.inverse_transform(y_pred)\n",
    "y_test_t_org = (y_test_t * min_max_scaler.data_range_[3]) + min_max_scaler.data_min_[3]\n",
    "# min_max_scaler.inverse_transform(y_test_t)\n",
    "print(y_pred_org[0:15])\n",
    "print(y_test_t_org[0:15])"
   ]
  },
  {
   "cell_type": "code",
   "execution_count": 26,
   "metadata": {},
   "outputs": [],
   "source": [
    "import numpy as np\n",
    "\n",
    "def mean_absolute_percentage_error(y_test_t, y_pred): \n",
    "    y_test_t, y_pred = np.array(y_test_t), np.array(y_pred)\n",
    "    return np.mean(np.abs((y_test_t - y_pred) / y_test_t)) * 100"
   ]
  },
  {
   "cell_type": "code",
   "execution_count": 27,
   "metadata": {},
   "outputs": [
    {
     "data": {
      "text/plain": [
       "3.3504121102776514"
      ]
     },
     "execution_count": 27,
     "metadata": {},
     "output_type": "execute_result"
    }
   ],
   "source": [
    "mean_absolute_percentage_error(y_test_t, y_pred)"
   ]
  },
  {
   "cell_type": "code",
   "execution_count": null,
   "metadata": {},
   "outputs": [],
   "source": [
    "#score, acc = model.evaluate(trim_dataset(x_test_t,BATCH_SIZE),trim_dataset(y_test_t,BATCH_SIZE),batch_size=BATCH_SIZE)\n",
    "#print('Test score:', score)\n",
    "#print('Test accuracy:', acc)"
   ]
  },
  {
   "cell_type": "code",
   "execution_count": 28,
   "metadata": {},
   "outputs": [
    {
     "data": {
      "image/png": "[encoded data removed]",
      "text/plain": [
       "<Figure size 432x288 with 1 Axes>"
      ]
     },
     "metadata": {
      "needs_background": "light"
     },
     "output_type": "display_data"
    }
   ],
   "source": [
    "# Visualize the training data\n",
    "from matplotlib import pyplot as plt\n",
    "plt.figure()\n",
    "plt.plot(history.history['loss'])\n",
    "plt.plot(history.history['val_loss'])\n",
    "plt.title('GRU Model loss')\n",
    "plt.ylabel('MSE')\n",
    "plt.xlabel('Epoch')\n",
    "plt.legend(['Train', 'Validation'], loc='upper left')\n",
    "#plt.show()\n",
    "#plt.savefig(os.path.join(OUTPUT_PATH, 'train_vis_BS_'+str(BATCH_SIZE)+\"_\"+time.ctime()+'.png'))\n",
    "plt.savefig(os.path.join(OUTPUT_PATH, 'train_vis_BS_'+str(BATCH_SIZE)+\"_\"+time.strftime(\"%a %b %d %H %M %S %Y\", time.localtime())+'.png'))"
   ]
  },
  {
   "cell_type": "code",
   "execution_count": 29,
   "metadata": {},
   "outputs": [
    {
     "name": "stdout",
     "output_type": "stream",
     "text": [
      "<keras.engine.sequential.Sequential object at 0x0000000018552748>\n",
      "Mean Square Error is 0.00025562548831117464 (560,) (560,)\n",
      "[0.52169365 0.4713703  0.44283983 0.4336339  0.4302323  0.43119523\n",
      " 0.43512917 0.44223255 0.45273426 0.45803994 0.45898908 0.45684522\n",
      " 0.4549929  0.45337653 0.4508955 ]\n",
      "[0.45102041 0.45918367 0.46734694 0.45510204 0.45714286 0.45714286\n",
      " 0.46530612 0.48163265 0.47142857 0.46122449 0.46734694 0.46326531\n",
      " 0.46122449 0.45102041 0.45714286]\n",
      "[1.5681494 1.4448572 1.3749576 1.352403  1.3440691 1.3464283 1.3560665\n",
      " 1.3734697 1.3991989 1.4121978 1.4145232 1.4092708 1.4047326 1.4007725\n",
      " 1.394694 ]\n",
      "[1.395 1.415 1.435 1.405 1.41  1.41  1.43  1.47  1.445 1.42  1.435 1.425\n",
      " 1.42  1.395 1.41 ]\n"
     ]
    }
   ],
   "source": [
    "# load the saved best model from above\n",
    "saved_model = load_model(os.path.join(OUTPUT_PATH, 'best_model.h5')) # , \"lstm_best_7-3-19_12AM\",\n",
    "print(saved_model)\n",
    "\n",
    "y_pred = saved_model.predict(trim_dataset(x_test_t, BATCH_SIZE), batch_size=BATCH_SIZE)\n",
    "y_pred = y_pred.flatten()\n",
    "y_test_t = trim_dataset(y_test_t, BATCH_SIZE)\n",
    "error = mean_squared_error(y_test_t, y_pred)\n",
    "print(\"Mean Square Error is\", error, y_pred.shape, y_test_t.shape)\n",
    "print(y_pred[0:15])\n",
    "print(y_test_t[0:15])\n",
    "y_pred_org = (y_pred * min_max_scaler.data_range_[3]) + min_max_scaler.data_min_[3] # min_max_scaler.inverse_transform(y_pred)\n",
    "y_test_t_org = (y_test_t * min_max_scaler.data_range_[3]) + min_max_scaler.data_min_[3] # min_max_scaler.inverse_transform(y_test_t)\n",
    "print(y_pred_org[0:15])\n",
    "print(y_test_t_org[0:15])\n"
   ]
  },
  {
   "cell_type": "code",
   "execution_count": 30,
   "metadata": {},
   "outputs": [],
   "source": [
    "import numpy as np\n",
    "\n",
    "def mean_absolute_percentage_error(y_test_t, y_pred): \n",
    "    y_test_t, y_pred = np.array(y_test_t), np.array(y_pred)\n",
    "    return np.mean(np.abs((y_test_t - y_pred) / y_test_t)) * 100"
   ]
  },
  {
   "cell_type": "code",
   "execution_count": 31,
   "metadata": {},
   "outputs": [
    {
     "data": {
      "text/plain": [
       "3.1752360046911297"
      ]
     },
     "execution_count": 31,
     "metadata": {},
     "output_type": "execute_result"
    }
   ],
   "source": [
    "mean_absolute_percentage_error(y_test_t, y_pred)"
   ]
  },
  {
   "cell_type": "code",
   "execution_count": 32,
   "metadata": {},
   "outputs": [],
   "source": [
    "def print_time(text, stime):\n",
    "    seconds = (time.time()-stime)\n",
    "    print(text, seconds//60,\"minutes : \",np.round(seconds%60),\"seconds\")\n"
   ]
  },
  {
   "cell_type": "code",
   "execution_count": 33,
   "metadata": {},
   "outputs": [
    {
     "name": "stdout",
     "output_type": "stream",
     "text": [
      "program completed  13.0 minutes :  58.0 seconds\n"
     ]
    },
    {
     "data": {
      "image/png": "[encoded data removed]",
      "text/plain": [
       "<Figure size 432x288 with 1 Axes>"
      ]
     },
     "metadata": {
      "needs_background": "light"
     },
     "output_type": "display_data"
    }
   ],
   "source": [
    "# Visualize the prediction\n",
    "from matplotlib import pyplot as plt\n",
    "plt.figure()\n",
    "plt.plot(y_pred_org)\n",
    "plt.plot(y_test_t_org)\n",
    "plt.title('GRU Prediction vs Real Stock Price')\n",
    "plt.ylabel('Price')\n",
    "plt.xlabel('Days')\n",
    "plt.legend(['Prediction', 'Real'], loc='upper left')\n",
    "#plt.show()\n",
    "##plt.savefig(os.path.join(OUTPUT_PATH, 'pred_vs_real_BS'+str(BATCH_SIZE)+\"_\"+time.ctime()+'.png'))\n",
    "plt.savefig(os.path.join(OUTPUT_PATH, 'pred_vs_real_BS'+str(BATCH_SIZE)+\"_\"+time.strftime(\"%a %b %d %H %M %S %Y\", time.localtime())+'.png'))\n",
    "print_time(\"program completed \", stime)"
   ]
  },
  {
   "cell_type": "code",
   "execution_count": null,
   "metadata": {},
   "outputs": [],
   "source": []
  }
 ],
 "metadata": {
  "kernelspec": {
   "display_name": "Python 3",
   "language": "python",
   "name": "python3"
  },
  "language_info": {
   "codemirror_mode": {
    "name": "ipython",
    "version": 3
   },
   "file_extension": ".py",
   "mimetype": "text/x-python",
   "name": "python",
   "nbconvert_exporter": "python",
   "pygments_lexer": "ipython3",
   "version": "3.7.4"
  }
 },
 "nbformat": 4,
 "nbformat_minor": 2
}
