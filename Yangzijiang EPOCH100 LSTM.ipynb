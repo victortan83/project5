{
 "cells": [
  {
   "cell_type": "code",
   "execution_count": 1,
   "metadata": {},
   "outputs": [
    {
     "data": {
      "text/html": [
       "<div>\n",
       "<style scoped>\n",
       "    .dataframe tbody tr th:only-of-type {\n",
       "        vertical-align: middle;\n",
       "    }\n",
       "\n",
       "    .dataframe tbody tr th {\n",
       "        vertical-align: top;\n",
       "    }\n",
       "\n",
       "    .dataframe thead th {\n",
       "        text-align: right;\n",
       "    }\n",
       "</style>\n",
       "<table border=\"1\" class=\"dataframe\">\n",
       "  <thead>\n",
       "    <tr style=\"text-align: right;\">\n",
       "      <th></th>\n",
       "      <th>Date</th>\n",
       "      <th>Open</th>\n",
       "      <th>High</th>\n",
       "      <th>Low</th>\n",
       "      <th>Close</th>\n",
       "      <th>Adj Close</th>\n",
       "      <th>Volume</th>\n",
       "    </tr>\n",
       "  </thead>\n",
       "  <tbody>\n",
       "    <tr>\n",
       "      <td>3174</td>\n",
       "      <td>12/16/2019</td>\n",
       "      <td>1.13</td>\n",
       "      <td>1.13</td>\n",
       "      <td>1.09</td>\n",
       "      <td>1.10</td>\n",
       "      <td>1.10</td>\n",
       "      <td>27908700</td>\n",
       "    </tr>\n",
       "    <tr>\n",
       "      <td>3175</td>\n",
       "      <td>12/17/2019</td>\n",
       "      <td>1.10</td>\n",
       "      <td>1.11</td>\n",
       "      <td>1.07</td>\n",
       "      <td>1.07</td>\n",
       "      <td>1.07</td>\n",
       "      <td>32804600</td>\n",
       "    </tr>\n",
       "    <tr>\n",
       "      <td>3176</td>\n",
       "      <td>12/18/2019</td>\n",
       "      <td>1.08</td>\n",
       "      <td>1.11</td>\n",
       "      <td>1.08</td>\n",
       "      <td>1.09</td>\n",
       "      <td>1.09</td>\n",
       "      <td>38128700</td>\n",
       "    </tr>\n",
       "    <tr>\n",
       "      <td>3177</td>\n",
       "      <td>12/19/2019</td>\n",
       "      <td>1.09</td>\n",
       "      <td>1.09</td>\n",
       "      <td>1.07</td>\n",
       "      <td>1.08</td>\n",
       "      <td>1.08</td>\n",
       "      <td>20343100</td>\n",
       "    </tr>\n",
       "    <tr>\n",
       "      <td>3178</td>\n",
       "      <td>12/20/2019</td>\n",
       "      <td>1.08</td>\n",
       "      <td>1.09</td>\n",
       "      <td>1.07</td>\n",
       "      <td>1.07</td>\n",
       "      <td>1.07</td>\n",
       "      <td>33596100</td>\n",
       "    </tr>\n",
       "  </tbody>\n",
       "</table>\n",
       "</div>"
      ],
      "text/plain": [
       "            Date  Open  High   Low  Close  Adj Close    Volume\n",
       "3174  12/16/2019  1.13  1.13  1.09   1.10       1.10  27908700\n",
       "3175  12/17/2019  1.10  1.11  1.07   1.07       1.07  32804600\n",
       "3176  12/18/2019  1.08  1.11  1.08   1.09       1.09  38128700\n",
       "3177  12/19/2019  1.09  1.09  1.07   1.08       1.08  20343100\n",
       "3178  12/20/2019  1.08  1.09  1.07   1.07       1.07  33596100"
      ]
     },
     "execution_count": 1,
     "metadata": {},
     "output_type": "execute_result"
    }
   ],
   "source": [
    "import pandas as pd \n",
    "\n",
    "\n",
    "df_Yzj = pd.read_csv('BS6.SI.CSV')\n",
    "df_Yzj.tail()"
   ]
  },
  {
   "cell_type": "code",
   "execution_count": 2,
   "metadata": {},
   "outputs": [
    {
     "data": {
      "text/html": [
       "<div>\n",
       "<style scoped>\n",
       "    .dataframe tbody tr th:only-of-type {\n",
       "        vertical-align: middle;\n",
       "    }\n",
       "\n",
       "    .dataframe tbody tr th {\n",
       "        vertical-align: top;\n",
       "    }\n",
       "\n",
       "    .dataframe thead th {\n",
       "        text-align: right;\n",
       "    }\n",
       "</style>\n",
       "<table border=\"1\" class=\"dataframe\">\n",
       "  <thead>\n",
       "    <tr style=\"text-align: right;\">\n",
       "      <th></th>\n",
       "      <th>Date</th>\n",
       "      <th>Open</th>\n",
       "      <th>High</th>\n",
       "      <th>Low</th>\n",
       "      <th>Close</th>\n",
       "      <th>Adj Close</th>\n",
       "      <th>Volume</th>\n",
       "    </tr>\n",
       "  </thead>\n",
       "  <tbody>\n",
       "    <tr>\n",
       "      <td>0</td>\n",
       "      <td>4/18/2007</td>\n",
       "      <td>1.35</td>\n",
       "      <td>1.39</td>\n",
       "      <td>1.33</td>\n",
       "      <td>1.34</td>\n",
       "      <td>0.842029</td>\n",
       "      <td>413736000</td>\n",
       "    </tr>\n",
       "    <tr>\n",
       "      <td>1</td>\n",
       "      <td>4/19/2007</td>\n",
       "      <td>1.35</td>\n",
       "      <td>1.35</td>\n",
       "      <td>1.26</td>\n",
       "      <td>1.27</td>\n",
       "      <td>0.798042</td>\n",
       "      <td>95804</td>\n",
       "    </tr>\n",
       "    <tr>\n",
       "      <td>2</td>\n",
       "      <td>4/20/2007</td>\n",
       "      <td>1.28</td>\n",
       "      <td>1.31</td>\n",
       "      <td>1.28</td>\n",
       "      <td>1.30</td>\n",
       "      <td>0.816894</td>\n",
       "      <td>70064</td>\n",
       "    </tr>\n",
       "    <tr>\n",
       "      <td>3</td>\n",
       "      <td>4/23/2007</td>\n",
       "      <td>1.31</td>\n",
       "      <td>1.31</td>\n",
       "      <td>1.26</td>\n",
       "      <td>1.27</td>\n",
       "      <td>0.798042</td>\n",
       "      <td>36099</td>\n",
       "    </tr>\n",
       "    <tr>\n",
       "      <td>4</td>\n",
       "      <td>4/24/2007</td>\n",
       "      <td>1.26</td>\n",
       "      <td>1.27</td>\n",
       "      <td>1.26</td>\n",
       "      <td>1.27</td>\n",
       "      <td>0.798042</td>\n",
       "      <td>14422</td>\n",
       "    </tr>\n",
       "    <tr>\n",
       "      <td>...</td>\n",
       "      <td>...</td>\n",
       "      <td>...</td>\n",
       "      <td>...</td>\n",
       "      <td>...</td>\n",
       "      <td>...</td>\n",
       "      <td>...</td>\n",
       "      <td>...</td>\n",
       "    </tr>\n",
       "    <tr>\n",
       "      <td>3174</td>\n",
       "      <td>12/16/2019</td>\n",
       "      <td>1.13</td>\n",
       "      <td>1.13</td>\n",
       "      <td>1.09</td>\n",
       "      <td>1.10</td>\n",
       "      <td>1.100000</td>\n",
       "      <td>27908700</td>\n",
       "    </tr>\n",
       "    <tr>\n",
       "      <td>3175</td>\n",
       "      <td>12/17/2019</td>\n",
       "      <td>1.10</td>\n",
       "      <td>1.11</td>\n",
       "      <td>1.07</td>\n",
       "      <td>1.07</td>\n",
       "      <td>1.070000</td>\n",
       "      <td>32804600</td>\n",
       "    </tr>\n",
       "    <tr>\n",
       "      <td>3176</td>\n",
       "      <td>12/18/2019</td>\n",
       "      <td>1.08</td>\n",
       "      <td>1.11</td>\n",
       "      <td>1.08</td>\n",
       "      <td>1.09</td>\n",
       "      <td>1.090000</td>\n",
       "      <td>38128700</td>\n",
       "    </tr>\n",
       "    <tr>\n",
       "      <td>3177</td>\n",
       "      <td>12/19/2019</td>\n",
       "      <td>1.09</td>\n",
       "      <td>1.09</td>\n",
       "      <td>1.07</td>\n",
       "      <td>1.08</td>\n",
       "      <td>1.080000</td>\n",
       "      <td>20343100</td>\n",
       "    </tr>\n",
       "    <tr>\n",
       "      <td>3178</td>\n",
       "      <td>12/20/2019</td>\n",
       "      <td>1.08</td>\n",
       "      <td>1.09</td>\n",
       "      <td>1.07</td>\n",
       "      <td>1.07</td>\n",
       "      <td>1.070000</td>\n",
       "      <td>33596100</td>\n",
       "    </tr>\n",
       "  </tbody>\n",
       "</table>\n",
       "<p>3179 rows × 7 columns</p>\n",
       "</div>"
      ],
      "text/plain": [
       "            Date  Open  High   Low  Close  Adj Close     Volume\n",
       "0      4/18/2007  1.35  1.39  1.33   1.34   0.842029  413736000\n",
       "1      4/19/2007  1.35  1.35  1.26   1.27   0.798042      95804\n",
       "2      4/20/2007  1.28  1.31  1.28   1.30   0.816894      70064\n",
       "3      4/23/2007  1.31  1.31  1.26   1.27   0.798042      36099\n",
       "4      4/24/2007  1.26  1.27  1.26   1.27   0.798042      14422\n",
       "...          ...   ...   ...   ...    ...        ...        ...\n",
       "3174  12/16/2019  1.13  1.13  1.09   1.10   1.100000   27908700\n",
       "3175  12/17/2019  1.10  1.11  1.07   1.07   1.070000   32804600\n",
       "3176  12/18/2019  1.08  1.11  1.08   1.09   1.090000   38128700\n",
       "3177  12/19/2019  1.09  1.09  1.07   1.08   1.080000   20343100\n",
       "3178  12/20/2019  1.08  1.09  1.07   1.07   1.070000   33596100\n",
       "\n",
       "[3179 rows x 7 columns]"
      ]
     },
     "execution_count": 2,
     "metadata": {},
     "output_type": "execute_result"
    }
   ],
   "source": [
    "df_Yzj"
   ]
  },
  {
   "cell_type": "code",
   "execution_count": 3,
   "metadata": {
    "scrolled": true
   },
   "outputs": [
    {
     "data": {
      "text/plain": [
       "<Figure size 640x480 with 1 Axes>"
      ]
     },
     "metadata": {},
     "output_type": "display_data"
    }
   ],
   "source": [
    "from matplotlib import pyplot as plt\n",
    "plt.figure()\n",
    "plt.plot(df_Yzj[\"Open\"])\n",
    "plt.plot(df_Yzj[\"High\"])\n",
    "plt.plot(df_Yzj[\"Low\"])\n",
    "plt.plot(df_Yzj[\"Close\"])\n",
    "plt.title('Yangzijiang Stock price history')\n",
    "plt.ylabel('Price (SGD)')\n",
    "plt.xlabel('Days')\n",
    "plt.legend(['Open','High','Low','Close'], loc='upper left')\n",
    "plt.show()"
   ]
  },
  {
   "cell_type": "code",
   "execution_count": 4,
   "metadata": {},
   "outputs": [
    {
     "data": {
      "image/png": "[encoded data removed]",
      "text/plain": [
       "<Figure size 432x288 with 1 Axes>"
      ]
     },
     "metadata": {
      "needs_background": "light"
     },
     "output_type": "display_data"
    }
   ],
   "source": [
    "plt.figure()\n",
    "plt.plot(df_Yzj[\"Volume\"])\n",
    "plt.title('Yangzijiang stock volume history')\n",
    "plt.ylabel('Volume')\n",
    "plt.xlabel('Days')\n",
    "plt.show()"
   ]
  },
  {
   "cell_type": "code",
   "execution_count": 5,
   "metadata": {},
   "outputs": [
    {
     "name": "stdout",
     "output_type": "stream",
     "text": [
      "checking if any null values are present\n",
      " Date         0\n",
      "Open         0\n",
      "High         0\n",
      "Low          0\n",
      "Close        0\n",
      "Adj Close    0\n",
      "Volume       0\n",
      "dtype: int64\n"
     ]
    }
   ],
   "source": [
    "print(\"checking if any null values are present\\n\", df_Yzj.isna().sum())"
   ]
  },
  {
   "cell_type": "code",
   "execution_count": 6,
   "metadata": {},
   "outputs": [],
   "source": [
    "df_Yzj = df_Yzj.dropna() "
   ]
  },
  {
   "cell_type": "code",
   "execution_count": 7,
   "metadata": {},
   "outputs": [
    {
     "name": "stdout",
     "output_type": "stream",
     "text": [
      "checking if any null values are present\n",
      " Date         0\n",
      "Open         0\n",
      "High         0\n",
      "Low          0\n",
      "Close        0\n",
      "Adj Close    0\n",
      "Volume       0\n",
      "dtype: int64\n"
     ]
    }
   ],
   "source": [
    "print(\"checking if any null values are present\\n\", df_Yzj.isna().sum())"
   ]
  },
  {
   "cell_type": "code",
   "execution_count": 8,
   "metadata": {
    "scrolled": true
   },
   "outputs": [
    {
     "data": {
      "text/html": [
       "<div>\n",
       "<style scoped>\n",
       "    .dataframe tbody tr th:only-of-type {\n",
       "        vertical-align: middle;\n",
       "    }\n",
       "\n",
       "    .dataframe tbody tr th {\n",
       "        vertical-align: top;\n",
       "    }\n",
       "\n",
       "    .dataframe thead th {\n",
       "        text-align: right;\n",
       "    }\n",
       "</style>\n",
       "<table border=\"1\" class=\"dataframe\">\n",
       "  <thead>\n",
       "    <tr style=\"text-align: right;\">\n",
       "      <th></th>\n",
       "      <th>Date</th>\n",
       "      <th>Open</th>\n",
       "      <th>High</th>\n",
       "      <th>Low</th>\n",
       "      <th>Close</th>\n",
       "      <th>Adj Close</th>\n",
       "      <th>Volume</th>\n",
       "    </tr>\n",
       "  </thead>\n",
       "  <tbody>\n",
       "    <tr>\n",
       "      <td>0</td>\n",
       "      <td>4/18/2007</td>\n",
       "      <td>1.35</td>\n",
       "      <td>1.39</td>\n",
       "      <td>1.33</td>\n",
       "      <td>1.34</td>\n",
       "      <td>0.842029</td>\n",
       "      <td>413736000</td>\n",
       "    </tr>\n",
       "    <tr>\n",
       "      <td>1</td>\n",
       "      <td>4/19/2007</td>\n",
       "      <td>1.35</td>\n",
       "      <td>1.35</td>\n",
       "      <td>1.26</td>\n",
       "      <td>1.27</td>\n",
       "      <td>0.798042</td>\n",
       "      <td>95804</td>\n",
       "    </tr>\n",
       "    <tr>\n",
       "      <td>2</td>\n",
       "      <td>4/20/2007</td>\n",
       "      <td>1.28</td>\n",
       "      <td>1.31</td>\n",
       "      <td>1.28</td>\n",
       "      <td>1.30</td>\n",
       "      <td>0.816894</td>\n",
       "      <td>70064</td>\n",
       "    </tr>\n",
       "    <tr>\n",
       "      <td>3</td>\n",
       "      <td>4/23/2007</td>\n",
       "      <td>1.31</td>\n",
       "      <td>1.31</td>\n",
       "      <td>1.26</td>\n",
       "      <td>1.27</td>\n",
       "      <td>0.798042</td>\n",
       "      <td>36099</td>\n",
       "    </tr>\n",
       "    <tr>\n",
       "      <td>4</td>\n",
       "      <td>4/24/2007</td>\n",
       "      <td>1.26</td>\n",
       "      <td>1.27</td>\n",
       "      <td>1.26</td>\n",
       "      <td>1.27</td>\n",
       "      <td>0.798042</td>\n",
       "      <td>14422</td>\n",
       "    </tr>\n",
       "    <tr>\n",
       "      <td>...</td>\n",
       "      <td>...</td>\n",
       "      <td>...</td>\n",
       "      <td>...</td>\n",
       "      <td>...</td>\n",
       "      <td>...</td>\n",
       "      <td>...</td>\n",
       "      <td>...</td>\n",
       "    </tr>\n",
       "    <tr>\n",
       "      <td>3174</td>\n",
       "      <td>12/16/2019</td>\n",
       "      <td>1.13</td>\n",
       "      <td>1.13</td>\n",
       "      <td>1.09</td>\n",
       "      <td>1.10</td>\n",
       "      <td>1.100000</td>\n",
       "      <td>27908700</td>\n",
       "    </tr>\n",
       "    <tr>\n",
       "      <td>3175</td>\n",
       "      <td>12/17/2019</td>\n",
       "      <td>1.10</td>\n",
       "      <td>1.11</td>\n",
       "      <td>1.07</td>\n",
       "      <td>1.07</td>\n",
       "      <td>1.070000</td>\n",
       "      <td>32804600</td>\n",
       "    </tr>\n",
       "    <tr>\n",
       "      <td>3176</td>\n",
       "      <td>12/18/2019</td>\n",
       "      <td>1.08</td>\n",
       "      <td>1.11</td>\n",
       "      <td>1.08</td>\n",
       "      <td>1.09</td>\n",
       "      <td>1.090000</td>\n",
       "      <td>38128700</td>\n",
       "    </tr>\n",
       "    <tr>\n",
       "      <td>3177</td>\n",
       "      <td>12/19/2019</td>\n",
       "      <td>1.09</td>\n",
       "      <td>1.09</td>\n",
       "      <td>1.07</td>\n",
       "      <td>1.08</td>\n",
       "      <td>1.080000</td>\n",
       "      <td>20343100</td>\n",
       "    </tr>\n",
       "    <tr>\n",
       "      <td>3178</td>\n",
       "      <td>12/20/2019</td>\n",
       "      <td>1.08</td>\n",
       "      <td>1.09</td>\n",
       "      <td>1.07</td>\n",
       "      <td>1.07</td>\n",
       "      <td>1.070000</td>\n",
       "      <td>33596100</td>\n",
       "    </tr>\n",
       "  </tbody>\n",
       "</table>\n",
       "<p>3179 rows × 7 columns</p>\n",
       "</div>"
      ],
      "text/plain": [
       "            Date  Open  High   Low  Close  Adj Close     Volume\n",
       "0      4/18/2007  1.35  1.39  1.33   1.34   0.842029  413736000\n",
       "1      4/19/2007  1.35  1.35  1.26   1.27   0.798042      95804\n",
       "2      4/20/2007  1.28  1.31  1.28   1.30   0.816894      70064\n",
       "3      4/23/2007  1.31  1.31  1.26   1.27   0.798042      36099\n",
       "4      4/24/2007  1.26  1.27  1.26   1.27   0.798042      14422\n",
       "...          ...   ...   ...   ...    ...        ...        ...\n",
       "3174  12/16/2019  1.13  1.13  1.09   1.10   1.100000   27908700\n",
       "3175  12/17/2019  1.10  1.11  1.07   1.07   1.070000   32804600\n",
       "3176  12/18/2019  1.08  1.11  1.08   1.09   1.090000   38128700\n",
       "3177  12/19/2019  1.09  1.09  1.07   1.08   1.080000   20343100\n",
       "3178  12/20/2019  1.08  1.09  1.07   1.07   1.070000   33596100\n",
       "\n",
       "[3179 rows x 7 columns]"
      ]
     },
     "execution_count": 8,
     "metadata": {},
     "output_type": "execute_result"
    }
   ],
   "source": [
    "df_Yzj"
   ]
  },
  {
   "cell_type": "code",
   "execution_count": 9,
   "metadata": {},
   "outputs": [
    {
     "name": "stdout",
     "output_type": "stream",
     "text": [
      "Train and Test size 2543 636\n"
     ]
    }
   ],
   "source": [
    "from sklearn.preprocessing import MinMaxScaler\n",
    "from sklearn.model_selection import train_test_split\n",
    "\n",
    "train_cols = [\"Open\",\"High\",\"Low\",\"Close\",\"Volume\"]\n",
    "df_train, df_test = train_test_split(df_Yzj, train_size=0.8, test_size=0.2, shuffle=False)\n",
    "print(\"Train and Test size\", len(df_train), len(df_test))\n",
    "# scale the feature MinMax, build array\n",
    "x = df_train.loc[:,train_cols].values\n",
    "min_max_scaler = MinMaxScaler()\n",
    "x_train = min_max_scaler.fit_transform(x)\n",
    "x_test = min_max_scaler.transform(df_test.loc[:,train_cols])"
   ]
  },
  {
   "cell_type": "code",
   "execution_count": 10,
   "metadata": {},
   "outputs": [],
   "source": [
    "def build_timeseries(mat, y_col_index):\n",
    "    # y_col_index is the index of column that would act as output column\n",
    "    # total number of time-series samples would be len(mat) - TIME_STEPS\n",
    "    dim_0 = mat.shape[0] - TIME_STEPS\n",
    "    dim_1 = mat.shape[1]\n",
    "    x = np.zeros((dim_0, TIME_STEPS, dim_1))\n",
    "    y = np.zeros((dim_0,))\n",
    "    \n",
    "    for i in tqdm_notebook(range(dim_0)):\n",
    "        x[i] = mat[i:TIME_STEPS+i]\n",
    "        y[i] = mat[TIME_STEPS+i, y_col_index]\n",
    "    print(\"length of time-series i/o\",x.shape,y.shape)\n",
    "    return x, y"
   ]
  },
  {
   "cell_type": "code",
   "execution_count": 11,
   "metadata": {},
   "outputs": [],
   "source": [
    "def trim_dataset(mat, batch_size):\n",
    "    \"\"\"\n",
    "    trims dataset to a size that's divisible by BATCH_SIZE\n",
    "    \"\"\"\n",
    "    no_of_rows_drop = mat.shape[0]%batch_size\n",
    "    if(no_of_rows_drop > 0):\n",
    "        return mat[:-no_of_rows_drop]\n",
    "    else:\n",
    "        return mat"
   ]
  },
  {
   "cell_type": "code",
   "execution_count": 12,
   "metadata": {},
   "outputs": [],
   "source": [
    "import time\n",
    "import numpy as np\n",
    "from tqdm._tqdm_notebook import tqdm_notebook\n",
    "params = {\n",
    "    \"batch_size\": 20,  # 20<16<10, 25 was a bust\n",
    "    ##\"epochs\": 300,\n",
    "    \"epochs\":100,\n",
    "    \"lr\": 0.00010000,\n",
    "    \"time_steps\": 60\n",
    "}\n",
    "\n",
    "TIME_STEPS = params[\"time_steps\"]\n",
    "BATCH_SIZE = params[\"batch_size\"]\n",
    "stime = time.time()\n"
   ]
  },
  {
   "cell_type": "code",
   "execution_count": 13,
   "metadata": {},
   "outputs": [
    {
     "data": {
      "application/vnd.jupyter.widget-view+json": {
       "model_id": "72dde0c0edc143bf881c23de7d7535dc",
       "version_major": 2,
       "version_minor": 0
      },
      "text/plain": [
       "HBox(children=(IntProgress(value=0, max=2483), HTML(value='')))"
      ]
     },
     "metadata": {},
     "output_type": "display_data"
    },
    {
     "name": "stdout",
     "output_type": "stream",
     "text": [
      "\n",
      "length of time-series i/o (2483, 60, 5) (2483,)\n"
     ]
    },
    {
     "data": {
      "application/vnd.jupyter.widget-view+json": {
       "model_id": "28b92e9e30d947ee9def549ee36e2791",
       "version_major": 2,
       "version_minor": 0
      },
      "text/plain": [
       "HBox(children=(IntProgress(value=0, max=576), HTML(value='')))"
      ]
     },
     "metadata": {},
     "output_type": "display_data"
    },
    {
     "name": "stdout",
     "output_type": "stream",
     "text": [
      "\n",
      "length of time-series i/o (576, 60, 5) (576,)\n"
     ]
    }
   ],
   "source": [
    "x_t, y_t = build_timeseries(x_train, 3)\n",
    "x_t = trim_dataset(x_t, BATCH_SIZE)\n",
    "y_t = trim_dataset(y_t, BATCH_SIZE)\n",
    "x_temp, y_temp = build_timeseries(x_test, 3)\n",
    "x_val, x_test_t = np.split(trim_dataset(x_temp, BATCH_SIZE),2)\n",
    "y_val, y_test_t = np.split(trim_dataset(y_temp, BATCH_SIZE),2)"
   ]
  },
  {
   "cell_type": "markdown",
   "metadata": {},
   "source": [
    "### Create Model"
   ]
  },
  {
   "cell_type": "code",
   "execution_count": 14,
   "metadata": {},
   "outputs": [
    {
     "name": "stderr",
     "output_type": "stream",
     "text": [
      "Using TensorFlow backend.\n"
     ]
    }
   ],
   "source": [
    "from keras.models import Sequential, load_model\n",
    "from keras.layers import Dense, Dropout\n",
    "from keras.layers import LSTM\n",
    "from keras.callbacks import ModelCheckpoint, EarlyStopping, ReduceLROnPlateau, CSVLogger\n",
    "from keras import optimizers\n",
    "\n",
    "\n",
    "def create_model():\n",
    "    lstm_model = Sequential()\n",
    "    lstm_model.add(LSTM(100, batch_input_shape=(BATCH_SIZE, TIME_STEPS, x_t.shape[2]), dropout=0.0, recurrent_dropout=0.0, stateful=True, kernel_initializer='random_uniform'))\n",
    "    lstm_model.add(Dropout(0.5))\n",
    "    lstm_model.add(Dense(20,activation='relu'))\n",
    "    lstm_model.add(Dense(1,activation='sigmoid'))\n",
    "    optimizer = optimizers.RMSprop(lr=params[\"lr\"])\n",
    "    lstm_model.compile(loss='mean_squared_error', optimizer=optimizer)\n",
    "    lstm_model.summary()\n",
    "    return lstm_model"
   ]
  },
  {
   "cell_type": "code",
   "execution_count": 15,
   "metadata": {},
   "outputs": [
    {
     "data": {
      "text/plain": [
       "'C:\\\\Users\\\\Victor\\\\Desktop\\\\project5\\\\Stock-Price-Prediction\\\\outputyzjLSTM'"
      ]
     },
     "execution_count": 15,
     "metadata": {},
     "output_type": "execute_result"
    }
   ],
   "source": [
    "import os\n",
    "#OUTPUT_PATH ='/home/victor/Stock-Price-Prediction/outputs/'\n",
    "OUTPUT_PATH ='C:\\\\Users\\\\Victor\\\\Desktop\\\\project5\\\\Stock-Price-Prediction\\\\outputyzjLSTM'\n",
    "OUTPUT_PATH"
   ]
  },
  {
   "cell_type": "code",
   "execution_count": 16,
   "metadata": {},
   "outputs": [
    {
     "data": {
      "text/plain": [
       "'C:\\\\Users\\\\Victor\\\\Desktop\\\\project5\\\\Stock-Price-Prediction'"
      ]
     },
     "execution_count": 16,
     "metadata": {},
     "output_type": "execute_result"
    }
   ],
   "source": [
    "pwd"
   ]
  },
  {
   "cell_type": "code",
   "execution_count": 17,
   "metadata": {},
   "outputs": [],
   "source": [
    "import pickle"
   ]
  },
  {
   "cell_type": "code",
   "execution_count": 18,
   "metadata": {
    "scrolled": true
   },
   "outputs": [
    {
     "name": "stdout",
     "output_type": "stream",
     "text": [
      "Model not found\n"
     ]
    },
    {
     "data": {
      "application/vnd.jupyter.widget-view+json": {
       "model_id": "5cf7dab860124629b27dd8dcd7b1fe34",
       "version_major": 2,
       "version_minor": 0
      },
      "text/plain": [
       "HBox(children=(IntProgress(value=0, max=576), HTML(value='')))"
      ]
     },
     "metadata": {},
     "output_type": "display_data"
    },
    {
     "name": "stdout",
     "output_type": "stream",
     "text": [
      "\n",
      "length of time-series i/o (576, 60, 5) (576,)\n",
      "Test size (280, 60, 5) (280,) (280, 60, 5) (280,)\n",
      "Building model...\n",
      "checking if GPU available []\n",
      "Model: \"sequential_1\"\n",
      "_________________________________________________________________\n",
      "Layer (type)                 Output Shape              Param #   \n",
      "=================================================================\n",
      "lstm_1 (LSTM)                (20, 100)                 42400     \n",
      "_________________________________________________________________\n",
      "dropout_1 (Dropout)          (20, 100)                 0         \n",
      "_________________________________________________________________\n",
      "dense_1 (Dense)              (20, 20)                  2020      \n",
      "_________________________________________________________________\n",
      "dense_2 (Dense)              (20, 1)                   21        \n",
      "=================================================================\n",
      "Total params: 44,441\n",
      "Trainable params: 44,441\n",
      "Non-trainable params: 0\n",
      "_________________________________________________________________\n",
      "Train on 2480 samples, validate on 280 samples\n",
      "Epoch 1/100\n",
      " - 6s - loss: 0.0393 - val_loss: 0.0401\n",
      "\n",
      "Epoch 00001: val_loss improved from inf to 0.04010, saving model to C:\\Users\\Victor\\Desktop\\project5\\Stock-Price-Prediction\\outputyzjLSTM\\best_model.h5\n",
      "Epoch 2/100\n",
      " - 5s - loss: 0.0374 - val_loss: 0.0355\n",
      "\n",
      "Epoch 00002: val_loss improved from 0.04010 to 0.03554, saving model to C:\\Users\\Victor\\Desktop\\project5\\Stock-Price-Prediction\\outputyzjLSTM\\best_model.h5\n",
      "Epoch 3/100\n",
      " - 5s - loss: 0.0326 - val_loss: 0.0233\n",
      "\n",
      "Epoch 00003: val_loss improved from 0.03554 to 0.02330, saving model to C:\\Users\\Victor\\Desktop\\project5\\Stock-Price-Prediction\\outputyzjLSTM\\best_model.h5\n",
      "Epoch 4/100\n",
      " - 5s - loss: 0.0243 - val_loss: 0.0107\n",
      "\n",
      "Epoch 00004: val_loss improved from 0.02330 to 0.01072, saving model to C:\\Users\\Victor\\Desktop\\project5\\Stock-Price-Prediction\\outputyzjLSTM\\best_model.h5\n",
      "Epoch 5/100\n",
      " - 5s - loss: 0.0125 - val_loss: 0.0063\n",
      "\n",
      "Epoch 00005: val_loss improved from 0.01072 to 0.00627, saving model to C:\\Users\\Victor\\Desktop\\project5\\Stock-Price-Prediction\\outputyzjLSTM\\best_model.h5\n",
      "Epoch 6/100\n",
      " - 5s - loss: 0.0086 - val_loss: 0.0055\n",
      "\n",
      "Epoch 00006: val_loss improved from 0.00627 to 0.00551, saving model to C:\\Users\\Victor\\Desktop\\project5\\Stock-Price-Prediction\\outputyzjLSTM\\best_model.h5\n",
      "Epoch 7/100\n",
      " - 5s - loss: 0.0074 - val_loss: 0.0050\n",
      "\n",
      "Epoch 00007: val_loss improved from 0.00551 to 0.00495, saving model to C:\\Users\\Victor\\Desktop\\project5\\Stock-Price-Prediction\\outputyzjLSTM\\best_model.h5\n",
      "Epoch 8/100\n",
      " - 5s - loss: 0.0070 - val_loss: 0.0046\n",
      "\n",
      "Epoch 00008: val_loss improved from 0.00495 to 0.00464, saving model to C:\\Users\\Victor\\Desktop\\project5\\Stock-Price-Prediction\\outputyzjLSTM\\best_model.h5\n",
      "Epoch 9/100\n",
      " - 5s - loss: 0.0065 - val_loss: 0.0043\n",
      "\n",
      "Epoch 00009: val_loss improved from 0.00464 to 0.00431, saving model to C:\\Users\\Victor\\Desktop\\project5\\Stock-Price-Prediction\\outputyzjLSTM\\best_model.h5\n",
      "Epoch 10/100\n",
      " - 5s - loss: 0.0060 - val_loss: 0.0044\n",
      "\n",
      "Epoch 00010: val_loss did not improve from 0.00431\n",
      "Epoch 11/100\n",
      " - 5s - loss: 0.0056 - val_loss: 0.0040\n",
      "\n",
      "Epoch 00011: val_loss improved from 0.00431 to 0.00401, saving model to C:\\Users\\Victor\\Desktop\\project5\\Stock-Price-Prediction\\outputyzjLSTM\\best_model.h5\n",
      "Epoch 12/100\n",
      " - 5s - loss: 0.0053 - val_loss: 0.0039\n",
      "\n",
      "Epoch 00012: val_loss improved from 0.00401 to 0.00393, saving model to C:\\Users\\Victor\\Desktop\\project5\\Stock-Price-Prediction\\outputyzjLSTM\\best_model.h5\n",
      "Epoch 13/100\n",
      " - 5s - loss: 0.0048 - val_loss: 0.0038\n",
      "\n",
      "Epoch 00013: val_loss improved from 0.00393 to 0.00382, saving model to C:\\Users\\Victor\\Desktop\\project5\\Stock-Price-Prediction\\outputyzjLSTM\\best_model.h5\n",
      "Epoch 14/100\n",
      " - 5s - loss: 0.0046 - val_loss: 0.0037\n",
      "\n",
      "Epoch 00014: val_loss improved from 0.00382 to 0.00372, saving model to C:\\Users\\Victor\\Desktop\\project5\\Stock-Price-Prediction\\outputyzjLSTM\\best_model.h5\n",
      "Epoch 15/100\n",
      " - 5s - loss: 0.0043 - val_loss: 0.0034\n",
      "\n",
      "Epoch 00015: val_loss improved from 0.00372 to 0.00343, saving model to C:\\Users\\Victor\\Desktop\\project5\\Stock-Price-Prediction\\outputyzjLSTM\\best_model.h5\n",
      "Epoch 16/100\n",
      " - 5s - loss: 0.0040 - val_loss: 0.0037\n",
      "\n",
      "Epoch 00016: val_loss did not improve from 0.00343\n",
      "Epoch 17/100\n",
      " - 5s - loss: 0.0036 - val_loss: 0.0033\n",
      "\n",
      "Epoch 00017: val_loss improved from 0.00343 to 0.00330, saving model to C:\\Users\\Victor\\Desktop\\project5\\Stock-Price-Prediction\\outputyzjLSTM\\best_model.h5\n",
      "Epoch 18/100\n",
      " - 5s - loss: 0.0035 - val_loss: 0.0030\n",
      "\n",
      "Epoch 00018: val_loss improved from 0.00330 to 0.00305, saving model to C:\\Users\\Victor\\Desktop\\project5\\Stock-Price-Prediction\\outputyzjLSTM\\best_model.h5\n",
      "Epoch 19/100\n",
      " - 5s - loss: 0.0031 - val_loss: 0.0030\n",
      "\n",
      "Epoch 00019: val_loss improved from 0.00305 to 0.00296, saving model to C:\\Users\\Victor\\Desktop\\project5\\Stock-Price-Prediction\\outputyzjLSTM\\best_model.h5\n",
      "Epoch 20/100\n",
      " - 5s - loss: 0.0031 - val_loss: 0.0027\n",
      "\n",
      "Epoch 00020: val_loss improved from 0.00296 to 0.00273, saving model to C:\\Users\\Victor\\Desktop\\project5\\Stock-Price-Prediction\\outputyzjLSTM\\best_model.h5\n",
      "Epoch 21/100\n",
      " - 5s - loss: 0.0027 - val_loss: 0.0028\n",
      "\n",
      "Epoch 00021: val_loss did not improve from 0.00273\n",
      "Epoch 22/100\n",
      " - 5s - loss: 0.0027 - val_loss: 0.0023\n",
      "\n",
      "Epoch 00022: val_loss improved from 0.00273 to 0.00235, saving model to C:\\Users\\Victor\\Desktop\\project5\\Stock-Price-Prediction\\outputyzjLSTM\\best_model.h5\n",
      "Epoch 23/100\n",
      " - 5s - loss: 0.0026 - val_loss: 0.0024\n",
      "\n",
      "Epoch 00023: val_loss did not improve from 0.00235\n",
      "Epoch 24/100\n",
      " - 5s - loss: 0.0026 - val_loss: 0.0024\n",
      "\n",
      "Epoch 00024: val_loss did not improve from 0.00235\n",
      "Epoch 25/100\n",
      " - 5s - loss: 0.0025 - val_loss: 0.0020\n",
      "\n",
      "Epoch 00025: val_loss improved from 0.00235 to 0.00196, saving model to C:\\Users\\Victor\\Desktop\\project5\\Stock-Price-Prediction\\outputyzjLSTM\\best_model.h5\n",
      "Epoch 26/100\n",
      " - 5s - loss: 0.0024 - val_loss: 0.0021\n",
      "\n",
      "Epoch 00026: val_loss did not improve from 0.00196\n",
      "Epoch 27/100\n",
      " - 5s - loss: 0.0022 - val_loss: 0.0020\n",
      "\n",
      "Epoch 00027: val_loss did not improve from 0.00196\n",
      "Epoch 28/100\n",
      " - 5s - loss: 0.0022 - val_loss: 0.0019\n",
      "\n",
      "Epoch 00028: val_loss improved from 0.00196 to 0.00194, saving model to C:\\Users\\Victor\\Desktop\\project5\\Stock-Price-Prediction\\outputyzjLSTM\\best_model.h5\n",
      "Epoch 29/100\n",
      " - 5s - loss: 0.0022 - val_loss: 0.0019\n",
      "\n",
      "Epoch 00029: val_loss improved from 0.00194 to 0.00187, saving model to C:\\Users\\Victor\\Desktop\\project5\\Stock-Price-Prediction\\outputyzjLSTM\\best_model.h5\n",
      "Epoch 30/100\n",
      " - 6s - loss: 0.0021 - val_loss: 0.0018\n",
      "\n",
      "Epoch 00030: val_loss improved from 0.00187 to 0.00183, saving model to C:\\Users\\Victor\\Desktop\\project5\\Stock-Price-Prediction\\outputyzjLSTM\\best_model.h5\n",
      "Epoch 31/100\n",
      " - 5s - loss: 0.0021 - val_loss: 0.0015\n",
      "\n",
      "Epoch 00031: val_loss improved from 0.00183 to 0.00151, saving model to C:\\Users\\Victor\\Desktop\\project5\\Stock-Price-Prediction\\outputyzjLSTM\\best_model.h5\n",
      "Epoch 32/100\n",
      " - 5s - loss: 0.0021 - val_loss: 0.0021\n",
      "\n",
      "Epoch 00032: val_loss did not improve from 0.00151\n",
      "Epoch 33/100\n",
      " - 5s - loss: 0.0021 - val_loss: 0.0015\n",
      "\n",
      "Epoch 00033: val_loss did not improve from 0.00151\n",
      "Epoch 34/100\n",
      " - 5s - loss: 0.0021 - val_loss: 0.0017\n",
      "\n",
      "Epoch 00034: val_loss did not improve from 0.00151\n",
      "Epoch 35/100\n",
      " - 5s - loss: 0.0020 - val_loss: 0.0014\n",
      "\n",
      "Epoch 00035: val_loss improved from 0.00151 to 0.00140, saving model to C:\\Users\\Victor\\Desktop\\project5\\Stock-Price-Prediction\\outputyzjLSTM\\best_model.h5\n",
      "Epoch 36/100\n",
      " - 5s - loss: 0.0021 - val_loss: 0.0017\n",
      "\n",
      "Epoch 00036: val_loss did not improve from 0.00140\n",
      "Epoch 37/100\n",
      " - 5s - loss: 0.0021 - val_loss: 0.0017\n",
      "\n",
      "Epoch 00037: val_loss did not improve from 0.00140\n",
      "Epoch 38/100\n",
      " - 5s - loss: 0.0021 - val_loss: 0.0015\n",
      "\n",
      "Epoch 00038: val_loss did not improve from 0.00140\n",
      "Epoch 39/100\n",
      " - 5s - loss: 0.0020 - val_loss: 0.0012\n",
      "\n",
      "Epoch 00039: val_loss improved from 0.00140 to 0.00123, saving model to C:\\Users\\Victor\\Desktop\\project5\\Stock-Price-Prediction\\outputyzjLSTM\\best_model.h5\n",
      "Epoch 40/100\n",
      " - 5s - loss: 0.0019 - val_loss: 0.0014\n",
      "\n",
      "Epoch 00040: val_loss did not improve from 0.00123\n",
      "Epoch 41/100\n",
      " - 5s - loss: 0.0018 - val_loss: 0.0013\n",
      "\n",
      "Epoch 00041: val_loss did not improve from 0.00123\n",
      "Epoch 42/100\n",
      " - 5s - loss: 0.0019 - val_loss: 0.0014\n",
      "\n",
      "Epoch 00042: val_loss did not improve from 0.00123\n",
      "Epoch 43/100\n",
      " - 5s - loss: 0.0019 - val_loss: 0.0012\n",
      "\n",
      "Epoch 00043: val_loss did not improve from 0.00123\n",
      "Epoch 44/100\n",
      " - 5s - loss: 0.0018 - val_loss: 0.0012\n",
      "\n",
      "Epoch 00044: val_loss did not improve from 0.00123\n",
      "Epoch 45/100\n",
      " - 5s - loss: 0.0018 - val_loss: 0.0013\n",
      "\n",
      "Epoch 00045: val_loss did not improve from 0.00123\n",
      "Epoch 46/100\n",
      " - 5s - loss: 0.0018 - val_loss: 0.0013\n",
      "\n",
      "Epoch 00046: val_loss did not improve from 0.00123\n",
      "Epoch 47/100\n",
      " - 5s - loss: 0.0018 - val_loss: 0.0013\n",
      "\n",
      "Epoch 00047: val_loss did not improve from 0.00123\n",
      "Epoch 48/100\n",
      " - 5s - loss: 0.0019 - val_loss: 0.0011\n",
      "\n",
      "Epoch 00048: val_loss improved from 0.00123 to 0.00110, saving model to C:\\Users\\Victor\\Desktop\\project5\\Stock-Price-Prediction\\outputyzjLSTM\\best_model.h5\n",
      "Epoch 49/100\n",
      " - 5s - loss: 0.0018 - val_loss: 0.0014\n",
      "\n",
      "Epoch 00049: val_loss did not improve from 0.00110\n",
      "Epoch 50/100\n",
      " - 5s - loss: 0.0018 - val_loss: 0.0014\n",
      "\n",
      "Epoch 00050: val_loss did not improve from 0.00110\n",
      "Epoch 51/100\n",
      " - 5s - loss: 0.0017 - val_loss: 0.0015\n",
      "\n",
      "Epoch 00051: val_loss did not improve from 0.00110\n",
      "Epoch 52/100\n",
      " - 5s - loss: 0.0017 - val_loss: 0.0012\n",
      "\n",
      "Epoch 00052: val_loss did not improve from 0.00110\n",
      "Epoch 53/100\n",
      " - 5s - loss: 0.0017 - val_loss: 0.0011\n",
      "\n",
      "Epoch 00053: val_loss improved from 0.00110 to 0.00107, saving model to C:\\Users\\Victor\\Desktop\\project5\\Stock-Price-Prediction\\outputyzjLSTM\\best_model.h5\n",
      "Epoch 54/100\n",
      " - 5s - loss: 0.0017 - val_loss: 0.0012\n",
      "\n",
      "Epoch 00054: val_loss did not improve from 0.00107\n",
      "Epoch 55/100\n",
      " - 5s - loss: 0.0017 - val_loss: 0.0012\n",
      "\n",
      "Epoch 00055: val_loss did not improve from 0.00107\n",
      "Epoch 56/100\n",
      " - 5s - loss: 0.0016 - val_loss: 9.7567e-04\n",
      "\n",
      "Epoch 00056: val_loss improved from 0.00107 to 0.00098, saving model to C:\\Users\\Victor\\Desktop\\project5\\Stock-Price-Prediction\\outputyzjLSTM\\best_model.h5\n",
      "Epoch 57/100\n",
      " - 5s - loss: 0.0017 - val_loss: 0.0010\n",
      "\n",
      "Epoch 00057: val_loss did not improve from 0.00098\n",
      "Epoch 58/100\n",
      " - 5s - loss: 0.0017 - val_loss: 0.0010\n",
      "\n",
      "Epoch 00058: val_loss did not improve from 0.00098\n",
      "Epoch 59/100\n",
      " - 5s - loss: 0.0016 - val_loss: 9.2566e-04\n",
      "\n",
      "Epoch 00059: val_loss improved from 0.00098 to 0.00093, saving model to C:\\Users\\Victor\\Desktop\\project5\\Stock-Price-Prediction\\outputyzjLSTM\\best_model.h5\n",
      "Epoch 60/100\n",
      " - 5s - loss: 0.0016 - val_loss: 0.0011\n",
      "\n",
      "Epoch 00060: val_loss did not improve from 0.00093\n",
      "Epoch 61/100\n",
      " - 5s - loss: 0.0016 - val_loss: 9.0936e-04\n",
      "\n",
      "Epoch 00061: val_loss improved from 0.00093 to 0.00091, saving model to C:\\Users\\Victor\\Desktop\\project5\\Stock-Price-Prediction\\outputyzjLSTM\\best_model.h5\n",
      "Epoch 62/100\n",
      " - 5s - loss: 0.0015 - val_loss: 0.0012\n",
      "\n",
      "Epoch 00062: val_loss did not improve from 0.00091\n",
      "Epoch 63/100\n",
      " - 5s - loss: 0.0015 - val_loss: 0.0010\n",
      "\n",
      "Epoch 00063: val_loss did not improve from 0.00091\n",
      "Epoch 64/100\n",
      " - 5s - loss: 0.0016 - val_loss: 9.5193e-04\n",
      "\n",
      "Epoch 00064: val_loss did not improve from 0.00091\n",
      "Epoch 65/100\n",
      " - 5s - loss: 0.0016 - val_loss: 7.8445e-04\n",
      "\n",
      "Epoch 00065: val_loss improved from 0.00091 to 0.00078, saving model to C:\\Users\\Victor\\Desktop\\project5\\Stock-Price-Prediction\\outputyzjLSTM\\best_model.h5\n",
      "Epoch 66/100\n",
      " - 5s - loss: 0.0016 - val_loss: 9.6115e-04\n",
      "\n",
      "Epoch 00066: val_loss did not improve from 0.00078\n",
      "Epoch 67/100\n",
      " - 5s - loss: 0.0015 - val_loss: 9.6171e-04\n",
      "\n",
      "Epoch 00067: val_loss did not improve from 0.00078\n",
      "Epoch 68/100\n",
      " - 5s - loss: 0.0015 - val_loss: 9.3865e-04\n",
      "\n",
      "Epoch 00068: val_loss did not improve from 0.00078\n",
      "Epoch 69/100\n",
      " - 5s - loss: 0.0015 - val_loss: 8.9901e-04\n",
      "\n",
      "Epoch 00069: val_loss did not improve from 0.00078\n",
      "Epoch 70/100\n",
      " - 5s - loss: 0.0015 - val_loss: 7.8950e-04\n",
      "\n",
      "Epoch 00070: val_loss did not improve from 0.00078\n",
      "Epoch 71/100\n",
      " - 5s - loss: 0.0014 - val_loss: 7.6200e-04\n",
      "\n",
      "Epoch 00071: val_loss improved from 0.00078 to 0.00076, saving model to C:\\Users\\Victor\\Desktop\\project5\\Stock-Price-Prediction\\outputyzjLSTM\\best_model.h5\n",
      "Epoch 72/100\n",
      " - 5s - loss: 0.0013 - val_loss: 8.2651e-04\n",
      "\n",
      "Epoch 00072: val_loss did not improve from 0.00076\n",
      "Epoch 73/100\n",
      " - 5s - loss: 0.0014 - val_loss: 7.7028e-04\n",
      "\n",
      "Epoch 00073: val_loss did not improve from 0.00076\n",
      "Epoch 74/100\n",
      " - 5s - loss: 0.0014 - val_loss: 8.2621e-04\n",
      "\n",
      "Epoch 00074: val_loss did not improve from 0.00076\n",
      "Epoch 75/100\n",
      " - 5s - loss: 0.0014 - val_loss: 8.0115e-04\n",
      "\n",
      "Epoch 00075: val_loss did not improve from 0.00076\n",
      "Epoch 76/100\n",
      " - 5s - loss: 0.0014 - val_loss: 8.8521e-04\n",
      "\n",
      "Epoch 00076: val_loss did not improve from 0.00076\n",
      "Epoch 77/100\n",
      " - 5s - loss: 0.0013 - val_loss: 6.9810e-04\n",
      "\n",
      "Epoch 00077: val_loss improved from 0.00076 to 0.00070, saving model to C:\\Users\\Victor\\Desktop\\project5\\Stock-Price-Prediction\\outputyzjLSTM\\best_model.h5\n",
      "Epoch 78/100\n",
      " - 5s - loss: 0.0013 - val_loss: 7.6931e-04\n",
      "\n",
      "Epoch 00078: val_loss did not improve from 0.00070\n",
      "Epoch 79/100\n",
      " - 5s - loss: 0.0013 - val_loss: 7.6662e-04\n",
      "\n",
      "Epoch 00079: val_loss did not improve from 0.00070\n",
      "Epoch 80/100\n",
      " - 5s - loss: 0.0013 - val_loss: 8.0841e-04\n",
      "\n",
      "Epoch 00080: val_loss did not improve from 0.00070\n",
      "Epoch 81/100\n",
      " - 5s - loss: 0.0013 - val_loss: 8.3270e-04\n",
      "\n",
      "Epoch 00081: val_loss did not improve from 0.00070\n",
      "Epoch 82/100\n",
      " - 5s - loss: 0.0014 - val_loss: 8.8060e-04\n",
      "\n",
      "Epoch 00082: val_loss did not improve from 0.00070\n",
      "Epoch 83/100\n",
      " - 5s - loss: 0.0014 - val_loss: 7.0666e-04\n",
      "\n",
      "Epoch 00083: val_loss did not improve from 0.00070\n",
      "Epoch 84/100\n",
      " - 5s - loss: 0.0013 - val_loss: 7.4846e-04\n",
      "\n",
      "Epoch 00084: val_loss did not improve from 0.00070\n",
      "Epoch 85/100\n",
      " - 5s - loss: 0.0013 - val_loss: 7.6934e-04\n",
      "\n",
      "Epoch 00085: val_loss did not improve from 0.00070\n",
      "Epoch 86/100\n",
      " - 5s - loss: 0.0012 - val_loss: 7.1382e-04\n",
      "\n",
      "Epoch 00086: val_loss did not improve from 0.00070\n",
      "Epoch 87/100\n",
      " - 5s - loss: 0.0012 - val_loss: 7.7161e-04\n",
      "\n",
      "Epoch 00087: val_loss did not improve from 0.00070\n",
      "Epoch 88/100\n",
      " - 5s - loss: 0.0012 - val_loss: 6.7246e-04\n",
      "\n",
      "Epoch 00088: val_loss improved from 0.00070 to 0.00067, saving model to C:\\Users\\Victor\\Desktop\\project5\\Stock-Price-Prediction\\outputyzjLSTM\\best_model.h5\n",
      "Epoch 89/100\n",
      " - 7s - loss: 0.0012 - val_loss: 6.3660e-04\n",
      "\n",
      "Epoch 00089: val_loss improved from 0.00067 to 0.00064, saving model to C:\\Users\\Victor\\Desktop\\project5\\Stock-Price-Prediction\\outputyzjLSTM\\best_model.h5\n",
      "Epoch 90/100\n",
      " - 5s - loss: 0.0012 - val_loss: 6.7934e-04\n",
      "\n",
      "Epoch 00090: val_loss did not improve from 0.00064\n",
      "Epoch 91/100\n",
      " - 5s - loss: 0.0013 - val_loss: 6.2553e-04\n",
      "\n",
      "Epoch 00091: val_loss improved from 0.00064 to 0.00063, saving model to C:\\Users\\Victor\\Desktop\\project5\\Stock-Price-Prediction\\outputyzjLSTM\\best_model.h5\n",
      "Epoch 92/100\n",
      " - 6s - loss: 0.0012 - val_loss: 6.8069e-04\n",
      "\n",
      "Epoch 00092: val_loss did not improve from 0.00063\n",
      "Epoch 93/100\n",
      " - 6s - loss: 0.0012 - val_loss: 6.2772e-04\n",
      "\n",
      "Epoch 00093: val_loss did not improve from 0.00063\n",
      "Epoch 94/100\n",
      " - 5s - loss: 0.0011 - val_loss: 6.3854e-04\n",
      "\n",
      "Epoch 00094: val_loss did not improve from 0.00063\n",
      "Epoch 95/100\n",
      " - 5s - loss: 0.0011 - val_loss: 6.8128e-04\n",
      "\n",
      "Epoch 00095: val_loss did not improve from 0.00063\n",
      "Epoch 96/100\n",
      " - 5s - loss: 0.0012 - val_loss: 6.1193e-04\n",
      "\n",
      "Epoch 00096: val_loss improved from 0.00063 to 0.00061, saving model to C:\\Users\\Victor\\Desktop\\project5\\Stock-Price-Prediction\\outputyzjLSTM\\best_model.h5\n",
      "Epoch 97/100\n",
      " - 5s - loss: 0.0011 - val_loss: 6.0392e-04\n",
      "\n",
      "Epoch 00097: val_loss improved from 0.00061 to 0.00060, saving model to C:\\Users\\Victor\\Desktop\\project5\\Stock-Price-Prediction\\outputyzjLSTM\\best_model.h5\n",
      "Epoch 98/100\n",
      " - 5s - loss: 0.0011 - val_loss: 6.0857e-04\n",
      "\n",
      "Epoch 00098: val_loss did not improve from 0.00060\n",
      "Epoch 99/100\n",
      " - 5s - loss: 0.0011 - val_loss: 5.7652e-04\n",
      "\n",
      "Epoch 00099: val_loss improved from 0.00060 to 0.00058, saving model to C:\\Users\\Victor\\Desktop\\project5\\Stock-Price-Prediction\\outputyzjLSTM\\best_model.h5\n",
      "Epoch 100/100\n",
      " - 5s - loss: 0.0010 - val_loss: 6.0443e-04\n",
      "\n",
      "Epoch 00100: val_loss did not improve from 0.00058\n",
      "saving model...\n"
     ]
    }
   ],
   "source": [
    "model = None\n",
    "try:\n",
    "    model = pickle.load(open(\"lstm_model\", 'rb'))\n",
    "    print(\"Loaded saved model...\")\n",
    "except FileNotFoundError:\n",
    "    print(\"Model not found\")\n",
    "\n",
    "\n",
    "x_temp, y_temp = build_timeseries(x_test, 3)\n",
    "x_val, x_test_t = np.split(trim_dataset(x_temp, BATCH_SIZE),2)\n",
    "y_val, y_test_t = np.split(trim_dataset(y_temp, BATCH_SIZE),2)\n",
    "\n",
    "print(\"Test size\", x_test_t.shape, y_test_t.shape, x_val.shape, y_val.shape)\n",
    "    \n",
    "is_update_model = True\n",
    "if model is None or is_update_model:\n",
    "    from keras import backend as K\n",
    "    print(\"Building model...\")\n",
    "    print(\"checking if GPU available\", K.tensorflow_backend._get_available_gpus())\n",
    "    model = create_model()\n",
    "    \n",
    "    es = EarlyStopping(monitor='val_loss', mode='min', verbose=1,\n",
    "                       patience=40, min_delta=0.0001)\n",
    "    \n",
    "    mcp = ModelCheckpoint(os.path.join(OUTPUT_PATH,\n",
    "                          \"best_model.h5\"), monitor='val_loss', verbose=1,\n",
    "                          save_best_only=True, save_weights_only=False, mode='min', period=1)\n",
    "\n",
    "    # Not used here. But leaving it here as a reminder for future\n",
    "    r_lr_plat = ReduceLROnPlateau(monitor='val_loss', factor=0.1, patience=30, \n",
    "                                  verbose=0, mode='auto', min_delta=0.0001, cooldown=0, min_lr=0)\n",
    "    \n",
    "   ## csv_logger = CSVLogger(os.path.join(OUTPUT_PATH, 'training_log_' + time.ctime().replace(\" \",\"_\") + '.log'), append=True)\n",
    "    csv_logger = CSVLogger(os.path.join(OUTPUT_PATH, 'training_log_' + time.strftime(\"%a %b %d %H %M %S %Y\", time.localtime()) + '.log'), append=True)\n",
    "    \n",
    "  #  csv_logger = CSVLogger(os.path.join(OUTPUT_PATH, 'training_log_'  + '.log'), append=True)\n",
    "    \n",
    "    history = model.fit(x_t, y_t, epochs=params[\"epochs\"], verbose=2, batch_size=BATCH_SIZE,\n",
    "                        shuffle=False, validation_data=(trim_dataset(x_val, BATCH_SIZE),\n",
    "                        trim_dataset(y_val, BATCH_SIZE)), callbacks=[es, mcp, csv_logger])\n",
    "    \n",
    "    print(\"saving model...\")\n",
    "    pickle.dump(model, open(\"lstm_model\", \"wb\"))"
   ]
  },
  {
   "cell_type": "code",
   "execution_count": 19,
   "metadata": {},
   "outputs": [
    {
     "name": "stdout",
     "output_type": "stream",
     "text": [
      "Mean Square Error is 0.0006281695684143017 (280,) (280,)\n",
      "[0.39329696 0.39159906 0.39057818 0.39178967 0.3956828  0.39218748\n",
      " 0.3856528  0.38021168 0.37496516 0.3665927  0.35923505 0.35427856\n",
      " 0.35155138 0.35104686 0.35337836]\n",
      "[0.3877551  0.39591837 0.41632653 0.44081633 0.36326531 0.37142857\n",
      " 0.3755102  0.37142857 0.36326531 0.35102041 0.3755102  0.36734694\n",
      " 0.3877551  0.4        0.40816327]\n"
     ]
    }
   ],
   "source": [
    "from sklearn.metrics import mean_squared_error\n",
    "# model.evaluate(x_test_t, y_test_t, batch_size=BATCH_SIZE\n",
    "y_pred = model.predict(trim_dataset(x_test_t, BATCH_SIZE), batch_size=BATCH_SIZE)\n",
    "y_pred = y_pred.flatten()\n",
    "y_test_t = trim_dataset(y_test_t, BATCH_SIZE)\n",
    "error = mean_squared_error(y_test_t, y_pred)\n",
    "print(\"Mean Square Error is\", error, y_pred.shape, y_test_t.shape)\n",
    "print(y_pred[0:15])\n",
    "print(y_test_t[0:15])"
   ]
  },
  {
   "cell_type": "code",
   "execution_count": 20,
   "metadata": {},
   "outputs": [
    {
     "name": "stdout",
     "output_type": "stream",
     "text": [
      "[1.2535776 1.2494177 1.2469165 1.2498847 1.2594229 1.2508594 1.2348495\n",
      " 1.2215186 1.2086647 1.1881522 1.1701258 1.1579825 1.1513009 1.1500648\n",
      " 1.155777 ]\n",
      "[1.24 1.26 1.31 1.37 1.18 1.2  1.21 1.2  1.18 1.15 1.21 1.19 1.24 1.27\n",
      " 1.29]\n"
     ]
    }
   ],
   "source": [
    "# convert the predicted value to range of real data\n",
    "y_pred_org = (y_pred * min_max_scaler.data_range_[3]) + min_max_scaler.data_min_[3]\n",
    "# min_max_scaler.inverse_transform(y_pred)\n",
    "y_test_t_org = (y_test_t * min_max_scaler.data_range_[3]) + min_max_scaler.data_min_[3]\n",
    "# min_max_scaler.inverse_transform(y_test_t)\n",
    "print(y_pred_org[0:15])\n",
    "print(y_test_t_org[0:15])"
   ]
  },
  {
   "cell_type": "code",
   "execution_count": 21,
   "metadata": {},
   "outputs": [],
   "source": [
    "import numpy as np\n",
    "\n",
    "def mean_absolute_percentage_error(y_test_t, y_pred): \n",
    "    y_test_t, y_pred = np.array(y_test_t), np.array(y_pred)\n",
    "    return np.mean(np.abs((y_test_t - y_pred) / y_test_t)) * 100"
   ]
  },
  {
   "cell_type": "code",
   "execution_count": 22,
   "metadata": {},
   "outputs": [
    {
     "data": {
      "text/plain": [
       "4.701691517719284"
      ]
     },
     "execution_count": 22,
     "metadata": {},
     "output_type": "execute_result"
    }
   ],
   "source": [
    "mean_absolute_percentage_error(y_test_t, y_pred)"
   ]
  },
  {
   "cell_type": "code",
   "execution_count": 23,
   "metadata": {},
   "outputs": [],
   "source": [
    "#score, acc = model.evaluate(trim_dataset(x_test_t,BATCH_SIZE),trim_dataset(y_test_t,BATCH_SIZE),batch_size=BATCH_SIZE)\n",
    "#print('Test score:', score)\n",
    "#print('Test accuracy:', acc)"
   ]
  },
  {
   "cell_type": "code",
   "execution_count": 24,
   "metadata": {},
   "outputs": [
    {
     "data": {
      "image/png": "[encoded data removed]",
      "text/plain": [
       "<Figure size 720x360 with 1 Axes>"
      ]
     },
     "metadata": {
      "needs_background": "light"
     },
     "output_type": "display_data"
    }
   ],
   "source": [
    "# Visualize the training data\n",
    "from matplotlib import pyplot as plt\n",
    "#plt.figure()\n",
    "plt.figure(figsize=(10,5))\n",
    "plt.plot(history.history['loss'])\n",
    "plt.plot(history.history['val_loss'])\n",
    "plt.title('LSTM Model loss')\n",
    "plt.ylabel('MSE')\n",
    "plt.xlabel('Epoch')\n",
    "plt.legend(['Train', 'Validation'], loc='upper left')\n",
    "#plt.show()\n",
    "#plt.savefig(os.path.join(OUTPUT_PATH, 'train_vis_BS_'+str(BATCH_SIZE)+\"_\"+time.ctime()+'.png'))\n",
    "plt.savefig(os.path.join(OUTPUT_PATH, 'train_vis_BS_'+str(BATCH_SIZE)+\"_\"+time.strftime(\"%a %b %d %H %M %S %Y\", time.localtime())+'.png'))"
   ]
  },
  {
   "cell_type": "code",
   "execution_count": 25,
   "metadata": {},
   "outputs": [
    {
     "name": "stdout",
     "output_type": "stream",
     "text": [
      "<keras.engine.sequential.Sequential object at 0x000000000529B808>\n",
      "Mean Square Error is 0.0005865085250056956 (280,) (280,)\n",
      "[0.39430794 0.39276293 0.39186856 0.39317703 0.39709783 0.3936996\n",
      " 0.38725063 0.38186577 0.37664855 0.36832738 0.36099705 0.3561939\n",
      " 0.353419   0.3528223  0.3550381 ]\n",
      "[0.3877551  0.39591837 0.41632653 0.44081633 0.36326531 0.37142857\n",
      " 0.3755102  0.37142857 0.36326531 0.35102041 0.3755102  0.36734694\n",
      " 0.3877551  0.4        0.40816327]\n",
      "[1.2560545 1.2522691 1.250078  1.2532837 1.2628897 1.254564  1.238764\n",
      " 1.2255712 1.2127889 1.1924021 1.1744428 1.162675  1.1558765 1.1544147\n",
      " 1.1598433]\n",
      "[1.24 1.26 1.31 1.37 1.18 1.2  1.21 1.2  1.18 1.15 1.21 1.19 1.24 1.27\n",
      " 1.29]\n"
     ]
    }
   ],
   "source": [
    "# load the saved best model from above\n",
    "saved_model = load_model(os.path.join(OUTPUT_PATH, 'best_model.h5')) # , \"lstm_best_7-3-19_12AM\",\n",
    "print(saved_model)\n",
    "\n",
    "y_pred = saved_model.predict(trim_dataset(x_test_t, BATCH_SIZE), batch_size=BATCH_SIZE)\n",
    "y_pred = y_pred.flatten()\n",
    "y_test_t = trim_dataset(y_test_t, BATCH_SIZE)\n",
    "error = mean_squared_error(y_test_t, y_pred)\n",
    "print(\"Mean Square Error is\", error, y_pred.shape, y_test_t.shape)\n",
    "print(y_pred[0:15])\n",
    "print(y_test_t[0:15])\n",
    "y_pred_org = (y_pred * min_max_scaler.data_range_[3]) + min_max_scaler.data_min_[3] # min_max_scaler.inverse_transform(y_pred)\n",
    "y_test_t_org = (y_test_t * min_max_scaler.data_range_[3]) + min_max_scaler.data_min_[3] # min_max_scaler.inverse_transform(y_test_t)\n",
    "print(y_pred_org[0:15])\n",
    "print(y_test_t_org[0:15])\n"
   ]
  },
  {
   "cell_type": "code",
   "execution_count": 26,
   "metadata": {},
   "outputs": [],
   "source": [
    "import numpy as np\n",
    "\n",
    "def mean_absolute_percentage_error(y_test_t, y_pred): \n",
    "    y_test_t, y_pred = np.array(y_test_t), np.array(y_pred)\n",
    "    return np.mean(np.abs((y_test_t - y_pred) / y_test_t)) * 100"
   ]
  },
  {
   "cell_type": "code",
   "execution_count": 27,
   "metadata": {},
   "outputs": [
    {
     "data": {
      "text/plain": [
       "4.485303878528074"
      ]
     },
     "execution_count": 27,
     "metadata": {},
     "output_type": "execute_result"
    }
   ],
   "source": [
    "mean_absolute_percentage_error(y_test_t, y_pred)"
   ]
  },
  {
   "cell_type": "code",
   "execution_count": 28,
   "metadata": {},
   "outputs": [],
   "source": [
    "def print_time(text, stime):\n",
    "    seconds = (time.time()-stime)\n",
    "    print(text, seconds//60,\"minutes : \",np.round(seconds%60),\"seconds\")\n"
   ]
  },
  {
   "cell_type": "code",
   "execution_count": 29,
   "metadata": {},
   "outputs": [
    {
     "name": "stdout",
     "output_type": "stream",
     "text": [
      "program completed  8.0 minutes :  45.0 seconds\n"
     ]
    },
    {
     "data": {
      "image/png": "[encoded data removed]",
      "text/plain": [
       "<Figure size 720x360 with 1 Axes>"
      ]
     },
     "metadata": {
      "needs_background": "light"
     },
     "output_type": "display_data"
    }
   ],
   "source": [
    "# Visualize the prediction\n",
    "from matplotlib import pyplot as plt\n",
    "#plt.figure()\n",
    "plt.figure(figsize=(10,5))\n",
    "plt.plot(y_pred_org)\n",
    "plt.plot(y_test_t_org)\n",
    "plt.title('LSTM Prediction vs Real Stock Price')\n",
    "plt.ylabel('Price')\n",
    "plt.xlabel('Days')\n",
    "plt.legend(['Prediction', 'Real'], loc='upper left')\n",
    "#plt.show()\n",
    "##plt.savefig(os.path.join(OUTPUT_PATH, 'pred_vs_real_BS'+str(BATCH_SIZE)+\"_\"+time.ctime()+'.png'))\n",
    "plt.savefig(os.path.join(OUTPUT_PATH, 'pred_vs_real_BS'+str(BATCH_SIZE)+\"_\"+time.strftime(\"%a %b %d %H %M %S %Y\", time.localtime())+'.png'))\n",
    "print_time(\"program completed \", stime)"
   ]
  },
  {
   "cell_type": "code",
   "execution_count": null,
   "metadata": {},
   "outputs": [],
   "source": []
  }
 ],
 "metadata": {
  "kernelspec": {
   "display_name": "Python 3",
   "language": "python",
   "name": "python3"
  },
  "language_info": {
   "codemirror_mode": {
    "name": "ipython",
    "version": 3
   },
   "file_extension": ".py",
   "mimetype": "text/x-python",
   "name": "python",
   "nbconvert_exporter": "python",
   "pygments_lexer": "ipython3",
   "version": "3.7.4"
  }
 },
 "nbformat": 4,
 "nbformat_minor": 2
}
